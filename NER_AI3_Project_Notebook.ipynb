{
  "nbformat": 4,
  "nbformat_minor": 0,
  "metadata": {
    "colab": {
      "name": "Task Force-X_AI3_FinalProject.ipynb",
      "provenance": [],
      "collapsed_sections": [],
      "toc_visible": true
    },
    "kernelspec": {
      "name": "python3",
      "display_name": "Python 3"
    },
    "language_info": {
      "name": "python"
    }
  },
  "cells": [
    {
      "cell_type": "markdown",
      "source": [
        "<h3 align='center'><b>PROJECT TITLE - Name Entity Recognition (NER) on WIESP Dataset</b></h3>\n",
        "\n",
        "**Team Name: Task Force-X**\n",
        "\n",
        "**Team Members** -<br>\n",
        "*   Abhishek\n",
        "*   Ishani \n",
        "*   Shruti\n",
        "*   Tharun"
      ],
      "metadata": {
        "id": "JglcqLb26BVr"
      }
    },
    {
      "cell_type": "markdown",
      "source": [
        "**PROBLEM STATEMENT** - <br>\n",
        "Information Extraction From Scientific Publication. \n",
        "\n",
        "**DESCRIPTION** - <BR>\n",
        "Named Entity Recognition (NER) is one of the most popular applications of Natural Language Processing. For the scope of this project, we will focus on creating a NER model that identifies key tokens and classifies them into set of predefined entities.\n",
        "\n",
        "**DATASET** -<br>\n",
        "Datasets with text fragments from astrophysics papers, provided by the NASA Astrophysical Data System with manually tagged astronomical facilities and other entities of interest (e.g., celestial objects).\n",
        "Datasets are in JSON Lines format (each line is a json dictionary).\n",
        "The datasets are formatted similarly to the CONLL2003 format. Each token is associated with an NER tag. The tags follow the \"B-\" and \"I-\" convention from the IOB2 syntax\n",
        "\n",
        "Each entry consists of a dictionary with the following keys:\n",
        "\n",
        "*  \"unique_id\": a unique identifier for this data sample. Must be included in the predictions.\n",
        "*  \"tokens\": the list of tokens (strings) that form the text of this sample. Must be included in the predictions.\n",
        "*  \"ner_tags\": the list of NER tags (in IOB2 format)\n",
        "*   \"ner_ids\": ids corresponding to NER tags.\n"
      ],
      "metadata": {
        "id": "Oyk-lM9_69P6"
      }
    },
    {
      "cell_type": "markdown",
      "source": [
        "**OUR APPROACH TO THIS PROBLEM STATEMENT**-<br>\n",
        "1. **Reading the JSONL train and test data (JSON lines data) in dataframe.** \n",
        "2. **Data Pre-processing.**<br>\n",
        "   2.1 - Exploding the train_data using df.explode() to get separate tokens and its corresponding NER tags and ids. <br>\n",
        "   2.2 - Creating a dictionary of NER tags corresponding to its respective NER ids which would be useful later to convert the predicted tag id to NER tags.<br>\n",
        "   2.3 - Dropping punctuation tokens having tag as 'O'.<br>\n",
        "   2.4 - Checking the distribution of NER tags in train data.<br>\n",
        "   2.5 - Creating back sentences from tokens (as intitial train data had).<br>\n",
        "   2.6 - Checking the distribution of length of sentences and dropping outlier sentences (having length<10 or length>600) from train_data.\n",
        "3. **Tokenizing the data (Implementing tokenizer from scratch).**<br>\n",
        "   3.1 - Creating vocabulary based on train data having vocab_size of 5000.<br>\n",
        "   3.2 - Tokenizing train_data sentence tokens using the train_data vocabulary created.<br>\n",
        "   3.3 - Tokenizing test_data sentence tokens using the train_data vocabulary.\n",
        "4. **Splitting the data in train and validation splits.**\n",
        "5. **Creating the tensorflow dataset.**\n",
        "6. **Building models.**<br>\n",
        "   6.1 - Baseline Model: A simple RNN network with 2 layers.<br>\n",
        "   6.2 - Bidirectional LSTM model. (2 Bidirectional LSTM layers)<br>\n",
        "   6.3 - Baseline Model: A simple RNN network with 2 layers using Word2Vec Embeddings.<br>\n",
        "   6.4 - Bidirectional LSTM model using Word2Vec Embeddings.<br>\n",
        "   6.5 - Comparison of models.<br>\n",
        "7. **Evaluating model using validation data.**<br>\n",
        "   7.1 - Classification report.<br>\n",
        "   7.2 - Actual tags VS Predicted tags for a validation input.<br>\n",
        "8. **Making predictions on test data.**\n",
        "9. **Conclusion.**"
      ],
      "metadata": {
        "id": "si_WnZm38Nmm"
      }
    },
    {
      "cell_type": "markdown",
      "source": [
        "#### **Importing the required libraries**"
      ],
      "metadata": {
        "id": "y4o3xkEB9iCx"
      }
    },
    {
      "cell_type": "code",
      "execution_count": null,
      "metadata": {
        "id": "UK63JXYI52qe"
      },
      "outputs": [],
      "source": [
        "import requests\n",
        "import re\n",
        "import os\n",
        "import gc\n",
        "import collections\n",
        "import numpy as np\n",
        "import pandas as pd\n",
        "import urllib.request\n",
        "import matplotlib.pyplot as plt\n",
        "%matplotlib inline\n",
        "from IPython.core.display import HTML\n",
        "\n",
        "import warnings\n",
        "warnings.filterwarnings(\"ignore\")\n",
        "\n",
        "import tensorflow as tf\n",
        "from prettytable import PrettyTable\n",
        "from collections import defaultdict\n",
        "from collections import Counter\n",
        "from tensorflow import keras\n",
        "from tensorflow.python.keras import backend as K\n",
        "from tensorflow.keras.models import Model\n",
        "from sklearn.model_selection import train_test_split\n",
        "from tensorflow.keras.layers import Input, Embedding, Dense, SimpleRNN, TimeDistributed,Bidirectional\n",
        "from gensim.models import KeyedVectors\n",
        "\n",
        "from sklearn.preprocessing import LabelEncoder\n",
        "from sklearn.metrics import classification_report"
      ]
    },
    {
      "cell_type": "markdown",
      "source": [
        "#### **1. Reading the JSONL (JSON lines data) in dataframe.**"
      ],
      "metadata": {
        "id": "wLVewm2i-WPQ"
      }
    },
    {
      "cell_type": "code",
      "source": [
        "# Mounting drive \n",
        "from google.colab import drive\n",
        "drive.mount('/content/gdrive')"
      ],
      "metadata": {
        "colab": {
          "base_uri": "https://localhost:8080/"
        },
        "id": "8995SCOl-Q1B",
        "outputId": "7086f9cd-720b-44c1-f758-09da868d285e"
      },
      "execution_count": null,
      "outputs": [
        {
          "output_type": "stream",
          "name": "stdout",
          "text": [
            "Drive already mounted at /content/gdrive; to attempt to forcibly remount, call drive.mount(\"/content/gdrive\", force_remount=True).\n"
          ]
        }
      ]
    },
    {
      "cell_type": "code",
      "source": [
        "train_data_path = \"/content/gdrive/MyDrive/Univ.AI/AI3/AI3_Project/WIESP2022-NER-TRAINING.jsonl\"\n",
        "test_data_path = \"/content/gdrive/MyDrive/Univ.AI/AI3/AI3_Project/WIESP2022-NER-VALIDATION-NO-LABELS.jsonl\"\n",
        "\n",
        "# Reading the train and test data in train_data and test_data dataframes respectively\n",
        "train_data = pd.read_json(train_data_path, lines=True)\n",
        "test_data = pd.read_json(test_data_path, lines=True)"
      ],
      "metadata": {
        "id": "6eUtrTR3-rjc"
      },
      "execution_count": null,
      "outputs": []
    },
    {
      "cell_type": "code",
      "source": [
        "# Printing the shape of train_data and viewing first few rows of it\n",
        "print(\"Shape of train data: \",train_data.shape)\n",
        "train_data.head()"
      ],
      "metadata": {
        "colab": {
          "base_uri": "https://localhost:8080/",
          "height": 615
        },
        "id": "2gcrX_udEGqI",
        "outputId": "0fd48348-f0ae-459c-b528-18996e2fc5ed"
      },
      "execution_count": null,
      "outputs": [
        {
          "output_type": "stream",
          "name": "stdout",
          "text": [
            "Shape of train data:  (1753, 7)\n"
          ]
        },
        {
          "output_type": "execute_result",
          "data": {
            "text/plain": [
              "               bibcode  label_studio_id  \\\n",
              "0  2019MNRAS.486.5558S              487   \n",
              "1  2018MNRAS.478.5533F             1129   \n",
              "2  2018MNRAS.480.3062L             1086   \n",
              "3  2016MNRAS.457.1786M             1135   \n",
              "4  2019MNRAS.482L...9B              559   \n",
              "\n",
              "                                             ner_ids  \\\n",
              "0  [62, 62, 62, 62, 62, 62, 62, 15, 62, 62, 62, 6...   \n",
              "1  [62, 62, 62, 62, 62, 62, 62, 62, 62, 62, 62, 6...   \n",
              "2  [62, 62, 62, 62, 62, 62, 62, 62, 62, 62, 62, 6...   \n",
              "3  [22, 62, 62, 62, 62, 21, 13, 44, 44, 21, 62, 1...   \n",
              "4  [62, 62, 62, 22, 53, 22, 53, 22, 53, 22, 53, 2...   \n",
              "\n",
              "                                            ner_tags          section  \\\n",
              "0  [O, O, O, O, O, O, O, B-Instrument, O, O, O, O...         fulltext   \n",
              "1  [O, O, O, O, O, O, O, O, O, O, O, O, O, O, O, ...         fulltext   \n",
              "2  [O, O, O, O, O, O, O, O, O, O, O, O, O, O, O, ...  acknowledgments   \n",
              "3  [B-Person, O, O, O, O, B-Organization, B-Grant...  acknowledgments   \n",
              "4  [O, O, O, B-Person, I-Person, B-Person, I-Pers...  acknowledgments   \n",
              "\n",
              "                                              tokens  \\\n",
              "0  [Whilst, a, reasonable, harmonic, fit, to, the...   \n",
              "1  [comparison, once, the, angular, positions, of...   \n",
              "2  [ACKNOWLEDGEMENTS, The, authors, thank, an, an...   \n",
              "3  [BDM, gratefully, acknowledges, support, from,...   \n",
              "4  [ACKNOWLEDGEMENTS, We, thank, Dougal, Mackey,,...   \n",
              "\n",
              "                                  unique_id  \n",
              "0          fulltext_487_2019MNRAS.486.5558S  \n",
              "1         fulltext_1129_2018MNRAS.478.5533F  \n",
              "2  acknowledgments_1086_2018MNRAS.480.3062L  \n",
              "3  acknowledgments_1135_2016MNRAS.457.1786M  \n",
              "4   acknowledgments_559_2019MNRAS.482L...9B  "
            ],
            "text/html": [
              "\n",
              "  <div id=\"df-ed1f71df-0713-49ee-899b-4919e0b95bd5\">\n",
              "    <div class=\"colab-df-container\">\n",
              "      <div>\n",
              "<style scoped>\n",
              "    .dataframe tbody tr th:only-of-type {\n",
              "        vertical-align: middle;\n",
              "    }\n",
              "\n",
              "    .dataframe tbody tr th {\n",
              "        vertical-align: top;\n",
              "    }\n",
              "\n",
              "    .dataframe thead th {\n",
              "        text-align: right;\n",
              "    }\n",
              "</style>\n",
              "<table border=\"1\" class=\"dataframe\">\n",
              "  <thead>\n",
              "    <tr style=\"text-align: right;\">\n",
              "      <th></th>\n",
              "      <th>bibcode</th>\n",
              "      <th>label_studio_id</th>\n",
              "      <th>ner_ids</th>\n",
              "      <th>ner_tags</th>\n",
              "      <th>section</th>\n",
              "      <th>tokens</th>\n",
              "      <th>unique_id</th>\n",
              "    </tr>\n",
              "  </thead>\n",
              "  <tbody>\n",
              "    <tr>\n",
              "      <th>0</th>\n",
              "      <td>2019MNRAS.486.5558S</td>\n",
              "      <td>487</td>\n",
              "      <td>[62, 62, 62, 62, 62, 62, 62, 15, 62, 62, 62, 6...</td>\n",
              "      <td>[O, O, O, O, O, O, O, B-Instrument, O, O, O, O...</td>\n",
              "      <td>fulltext</td>\n",
              "      <td>[Whilst, a, reasonable, harmonic, fit, to, the...</td>\n",
              "      <td>fulltext_487_2019MNRAS.486.5558S</td>\n",
              "    </tr>\n",
              "    <tr>\n",
              "      <th>1</th>\n",
              "      <td>2018MNRAS.478.5533F</td>\n",
              "      <td>1129</td>\n",
              "      <td>[62, 62, 62, 62, 62, 62, 62, 62, 62, 62, 62, 6...</td>\n",
              "      <td>[O, O, O, O, O, O, O, O, O, O, O, O, O, O, O, ...</td>\n",
              "      <td>fulltext</td>\n",
              "      <td>[comparison, once, the, angular, positions, of...</td>\n",
              "      <td>fulltext_1129_2018MNRAS.478.5533F</td>\n",
              "    </tr>\n",
              "    <tr>\n",
              "      <th>2</th>\n",
              "      <td>2018MNRAS.480.3062L</td>\n",
              "      <td>1086</td>\n",
              "      <td>[62, 62, 62, 62, 62, 62, 62, 62, 62, 62, 62, 6...</td>\n",
              "      <td>[O, O, O, O, O, O, O, O, O, O, O, O, O, O, O, ...</td>\n",
              "      <td>acknowledgments</td>\n",
              "      <td>[ACKNOWLEDGEMENTS, The, authors, thank, an, an...</td>\n",
              "      <td>acknowledgments_1086_2018MNRAS.480.3062L</td>\n",
              "    </tr>\n",
              "    <tr>\n",
              "      <th>3</th>\n",
              "      <td>2016MNRAS.457.1786M</td>\n",
              "      <td>1135</td>\n",
              "      <td>[22, 62, 62, 62, 62, 21, 13, 44, 44, 21, 62, 1...</td>\n",
              "      <td>[B-Person, O, O, O, O, B-Organization, B-Grant...</td>\n",
              "      <td>acknowledgments</td>\n",
              "      <td>[BDM, gratefully, acknowledges, support, from,...</td>\n",
              "      <td>acknowledgments_1135_2016MNRAS.457.1786M</td>\n",
              "    </tr>\n",
              "    <tr>\n",
              "      <th>4</th>\n",
              "      <td>2019MNRAS.482L...9B</td>\n",
              "      <td>559</td>\n",
              "      <td>[62, 62, 62, 22, 53, 22, 53, 22, 53, 22, 53, 2...</td>\n",
              "      <td>[O, O, O, B-Person, I-Person, B-Person, I-Pers...</td>\n",
              "      <td>acknowledgments</td>\n",
              "      <td>[ACKNOWLEDGEMENTS, We, thank, Dougal, Mackey,,...</td>\n",
              "      <td>acknowledgments_559_2019MNRAS.482L...9B</td>\n",
              "    </tr>\n",
              "  </tbody>\n",
              "</table>\n",
              "</div>\n",
              "      <button class=\"colab-df-convert\" onclick=\"convertToInteractive('df-ed1f71df-0713-49ee-899b-4919e0b95bd5')\"\n",
              "              title=\"Convert this dataframe to an interactive table.\"\n",
              "              style=\"display:none;\">\n",
              "        \n",
              "  <svg xmlns=\"http://www.w3.org/2000/svg\" height=\"24px\"viewBox=\"0 0 24 24\"\n",
              "       width=\"24px\">\n",
              "    <path d=\"M0 0h24v24H0V0z\" fill=\"none\"/>\n",
              "    <path d=\"M18.56 5.44l.94 2.06.94-2.06 2.06-.94-2.06-.94-.94-2.06-.94 2.06-2.06.94zm-11 1L8.5 8.5l.94-2.06 2.06-.94-2.06-.94L8.5 2.5l-.94 2.06-2.06.94zm10 10l.94 2.06.94-2.06 2.06-.94-2.06-.94-.94-2.06-.94 2.06-2.06.94z\"/><path d=\"M17.41 7.96l-1.37-1.37c-.4-.4-.92-.59-1.43-.59-.52 0-1.04.2-1.43.59L10.3 9.45l-7.72 7.72c-.78.78-.78 2.05 0 2.83L4 21.41c.39.39.9.59 1.41.59.51 0 1.02-.2 1.41-.59l7.78-7.78 2.81-2.81c.8-.78.8-2.07 0-2.86zM5.41 20L4 18.59l7.72-7.72 1.47 1.35L5.41 20z\"/>\n",
              "  </svg>\n",
              "      </button>\n",
              "      \n",
              "  <style>\n",
              "    .colab-df-container {\n",
              "      display:flex;\n",
              "      flex-wrap:wrap;\n",
              "      gap: 12px;\n",
              "    }\n",
              "\n",
              "    .colab-df-convert {\n",
              "      background-color: #E8F0FE;\n",
              "      border: none;\n",
              "      border-radius: 50%;\n",
              "      cursor: pointer;\n",
              "      display: none;\n",
              "      fill: #1967D2;\n",
              "      height: 32px;\n",
              "      padding: 0 0 0 0;\n",
              "      width: 32px;\n",
              "    }\n",
              "\n",
              "    .colab-df-convert:hover {\n",
              "      background-color: #E2EBFA;\n",
              "      box-shadow: 0px 1px 2px rgba(60, 64, 67, 0.3), 0px 1px 3px 1px rgba(60, 64, 67, 0.15);\n",
              "      fill: #174EA6;\n",
              "    }\n",
              "\n",
              "    [theme=dark] .colab-df-convert {\n",
              "      background-color: #3B4455;\n",
              "      fill: #D2E3FC;\n",
              "    }\n",
              "\n",
              "    [theme=dark] .colab-df-convert:hover {\n",
              "      background-color: #434B5C;\n",
              "      box-shadow: 0px 1px 3px 1px rgba(0, 0, 0, 0.15);\n",
              "      filter: drop-shadow(0px 1px 2px rgba(0, 0, 0, 0.3));\n",
              "      fill: #FFFFFF;\n",
              "    }\n",
              "  </style>\n",
              "\n",
              "      <script>\n",
              "        const buttonEl =\n",
              "          document.querySelector('#df-ed1f71df-0713-49ee-899b-4919e0b95bd5 button.colab-df-convert');\n",
              "        buttonEl.style.display =\n",
              "          google.colab.kernel.accessAllowed ? 'block' : 'none';\n",
              "\n",
              "        async function convertToInteractive(key) {\n",
              "          const element = document.querySelector('#df-ed1f71df-0713-49ee-899b-4919e0b95bd5');\n",
              "          const dataTable =\n",
              "            await google.colab.kernel.invokeFunction('convertToInteractive',\n",
              "                                                     [key], {});\n",
              "          if (!dataTable) return;\n",
              "\n",
              "          const docLinkHtml = 'Like what you see? Visit the ' +\n",
              "            '<a target=\"_blank\" href=https://colab.research.google.com/notebooks/data_table.ipynb>data table notebook</a>'\n",
              "            + ' to learn more about interactive tables.';\n",
              "          element.innerHTML = '';\n",
              "          dataTable['output_type'] = 'display_data';\n",
              "          await google.colab.output.renderOutput(dataTable, element);\n",
              "          const docLink = document.createElement('div');\n",
              "          docLink.innerHTML = docLinkHtml;\n",
              "          element.appendChild(docLink);\n",
              "        }\n",
              "      </script>\n",
              "    </div>\n",
              "  </div>\n",
              "  "
            ]
          },
          "metadata": {},
          "execution_count": 4
        }
      ]
    },
    {
      "cell_type": "code",
      "source": [
        "# Viewing the columns in train_data\n",
        "train_data.columns"
      ],
      "metadata": {
        "colab": {
          "base_uri": "https://localhost:8080/"
        },
        "id": "VGhofLkPe0ab",
        "outputId": "957984d3-0679-4f10-8709-cbc84003f9c1"
      },
      "execution_count": null,
      "outputs": [
        {
          "output_type": "execute_result",
          "data": {
            "text/plain": [
              "Index(['bibcode', 'label_studio_id', 'ner_ids', 'ner_tags', 'section',\n",
              "       'tokens', 'unique_id'],\n",
              "      dtype='object')"
            ]
          },
          "metadata": {},
          "execution_count": 5
        }
      ]
    },
    {
      "cell_type": "markdown",
      "source": [
        "As seen from above, train data has 1753 word tokenized sentences and has 7 columns 'bibcode', 'label_studio_id', 'ner_ids', 'ner_tags', 'section' 'tokens', 'unique_id' where,\n",
        "1. bibcode: Each sentence have a common bibcode. \n",
        "2. label_studio_id: Unique label id.\n",
        "3. ner_ids: Encoded values for the ner_tags. \n",
        "4. ner_tags: Tags corresponding to sentence tokens.\n",
        "4. section: Type of sentence.\n",
        "5. tokens: These are the words for which the model needs to find which entities these are.\n",
        "6. unique_id: Unique id."
      ],
      "metadata": {
        "id": "bOQbtOAOeamV"
      }
    },
    {
      "cell_type": "code",
      "source": [
        "# Printing the shape of test_data and viewing first few rows of it\n",
        "print(\"Shape of test data: \",test_data.shape)\n",
        "test_data.head()"
      ],
      "metadata": {
        "colab": {
          "base_uri": "https://localhost:8080/",
          "height": 223
        },
        "id": "iK4ywgZ8BOD6",
        "outputId": "9c14d04f-c9c5-4899-d7e1-a221173a0f2e"
      },
      "execution_count": null,
      "outputs": [
        {
          "output_type": "stream",
          "name": "stdout",
          "text": [
            "Shape of test data:  (1366, 5)\n"
          ]
        },
        {
          "output_type": "execute_result",
          "data": {
            "text/plain": [
              "               bibcode  label_studio_id          section  \\\n",
              "0  2016A&A...586A.140P             1778         fulltext   \n",
              "1  2017ApJ...842..123F             1466         fulltext   \n",
              "2  2019ApJ...882L...1F             1015         fulltext   \n",
              "3  2018MNRAS.475.3029T               72         fulltext   \n",
              "4  2019ApJ...876..136J               57  acknowledgments   \n",
              "\n",
              "                                              tokens  \\\n",
              "0  [that, gas, outside, halos,, not, necessarily,...   \n",
              "1  [that, all, star, formation, within, Upper, Sc...   \n",
              "2  [the, PCs, would, contain, the, changes., Mate...   \n",
              "3  [arcmin, away,, in, a, low, density, environme...   \n",
              "4  [We, are, grateful, to, J., Chen,, J., Delabro...   \n",
              "\n",
              "                                unique_id  \n",
              "0       fulltext_1778_2016A&A...586A.140P  \n",
              "1       fulltext_1466_2017ApJ...842..123F  \n",
              "2       fulltext_1015_2019ApJ...882L...1F  \n",
              "3         fulltext_72_2018MNRAS.475.3029T  \n",
              "4  acknowledgments_57_2019ApJ...876..136J  "
            ],
            "text/html": [
              "\n",
              "  <div id=\"df-7a55d5d1-33c9-416f-bfff-0de9f55eaed6\">\n",
              "    <div class=\"colab-df-container\">\n",
              "      <div>\n",
              "<style scoped>\n",
              "    .dataframe tbody tr th:only-of-type {\n",
              "        vertical-align: middle;\n",
              "    }\n",
              "\n",
              "    .dataframe tbody tr th {\n",
              "        vertical-align: top;\n",
              "    }\n",
              "\n",
              "    .dataframe thead th {\n",
              "        text-align: right;\n",
              "    }\n",
              "</style>\n",
              "<table border=\"1\" class=\"dataframe\">\n",
              "  <thead>\n",
              "    <tr style=\"text-align: right;\">\n",
              "      <th></th>\n",
              "      <th>bibcode</th>\n",
              "      <th>label_studio_id</th>\n",
              "      <th>section</th>\n",
              "      <th>tokens</th>\n",
              "      <th>unique_id</th>\n",
              "    </tr>\n",
              "  </thead>\n",
              "  <tbody>\n",
              "    <tr>\n",
              "      <th>0</th>\n",
              "      <td>2016A&amp;A...586A.140P</td>\n",
              "      <td>1778</td>\n",
              "      <td>fulltext</td>\n",
              "      <td>[that, gas, outside, halos,, not, necessarily,...</td>\n",
              "      <td>fulltext_1778_2016A&amp;A...586A.140P</td>\n",
              "    </tr>\n",
              "    <tr>\n",
              "      <th>1</th>\n",
              "      <td>2017ApJ...842..123F</td>\n",
              "      <td>1466</td>\n",
              "      <td>fulltext</td>\n",
              "      <td>[that, all, star, formation, within, Upper, Sc...</td>\n",
              "      <td>fulltext_1466_2017ApJ...842..123F</td>\n",
              "    </tr>\n",
              "    <tr>\n",
              "      <th>2</th>\n",
              "      <td>2019ApJ...882L...1F</td>\n",
              "      <td>1015</td>\n",
              "      <td>fulltext</td>\n",
              "      <td>[the, PCs, would, contain, the, changes., Mate...</td>\n",
              "      <td>fulltext_1015_2019ApJ...882L...1F</td>\n",
              "    </tr>\n",
              "    <tr>\n",
              "      <th>3</th>\n",
              "      <td>2018MNRAS.475.3029T</td>\n",
              "      <td>72</td>\n",
              "      <td>fulltext</td>\n",
              "      <td>[arcmin, away,, in, a, low, density, environme...</td>\n",
              "      <td>fulltext_72_2018MNRAS.475.3029T</td>\n",
              "    </tr>\n",
              "    <tr>\n",
              "      <th>4</th>\n",
              "      <td>2019ApJ...876..136J</td>\n",
              "      <td>57</td>\n",
              "      <td>acknowledgments</td>\n",
              "      <td>[We, are, grateful, to, J., Chen,, J., Delabro...</td>\n",
              "      <td>acknowledgments_57_2019ApJ...876..136J</td>\n",
              "    </tr>\n",
              "  </tbody>\n",
              "</table>\n",
              "</div>\n",
              "      <button class=\"colab-df-convert\" onclick=\"convertToInteractive('df-7a55d5d1-33c9-416f-bfff-0de9f55eaed6')\"\n",
              "              title=\"Convert this dataframe to an interactive table.\"\n",
              "              style=\"display:none;\">\n",
              "        \n",
              "  <svg xmlns=\"http://www.w3.org/2000/svg\" height=\"24px\"viewBox=\"0 0 24 24\"\n",
              "       width=\"24px\">\n",
              "    <path d=\"M0 0h24v24H0V0z\" fill=\"none\"/>\n",
              "    <path d=\"M18.56 5.44l.94 2.06.94-2.06 2.06-.94-2.06-.94-.94-2.06-.94 2.06-2.06.94zm-11 1L8.5 8.5l.94-2.06 2.06-.94-2.06-.94L8.5 2.5l-.94 2.06-2.06.94zm10 10l.94 2.06.94-2.06 2.06-.94-2.06-.94-.94-2.06-.94 2.06-2.06.94z\"/><path d=\"M17.41 7.96l-1.37-1.37c-.4-.4-.92-.59-1.43-.59-.52 0-1.04.2-1.43.59L10.3 9.45l-7.72 7.72c-.78.78-.78 2.05 0 2.83L4 21.41c.39.39.9.59 1.41.59.51 0 1.02-.2 1.41-.59l7.78-7.78 2.81-2.81c.8-.78.8-2.07 0-2.86zM5.41 20L4 18.59l7.72-7.72 1.47 1.35L5.41 20z\"/>\n",
              "  </svg>\n",
              "      </button>\n",
              "      \n",
              "  <style>\n",
              "    .colab-df-container {\n",
              "      display:flex;\n",
              "      flex-wrap:wrap;\n",
              "      gap: 12px;\n",
              "    }\n",
              "\n",
              "    .colab-df-convert {\n",
              "      background-color: #E8F0FE;\n",
              "      border: none;\n",
              "      border-radius: 50%;\n",
              "      cursor: pointer;\n",
              "      display: none;\n",
              "      fill: #1967D2;\n",
              "      height: 32px;\n",
              "      padding: 0 0 0 0;\n",
              "      width: 32px;\n",
              "    }\n",
              "\n",
              "    .colab-df-convert:hover {\n",
              "      background-color: #E2EBFA;\n",
              "      box-shadow: 0px 1px 2px rgba(60, 64, 67, 0.3), 0px 1px 3px 1px rgba(60, 64, 67, 0.15);\n",
              "      fill: #174EA6;\n",
              "    }\n",
              "\n",
              "    [theme=dark] .colab-df-convert {\n",
              "      background-color: #3B4455;\n",
              "      fill: #D2E3FC;\n",
              "    }\n",
              "\n",
              "    [theme=dark] .colab-df-convert:hover {\n",
              "      background-color: #434B5C;\n",
              "      box-shadow: 0px 1px 3px 1px rgba(0, 0, 0, 0.15);\n",
              "      filter: drop-shadow(0px 1px 2px rgba(0, 0, 0, 0.3));\n",
              "      fill: #FFFFFF;\n",
              "    }\n",
              "  </style>\n",
              "\n",
              "      <script>\n",
              "        const buttonEl =\n",
              "          document.querySelector('#df-7a55d5d1-33c9-416f-bfff-0de9f55eaed6 button.colab-df-convert');\n",
              "        buttonEl.style.display =\n",
              "          google.colab.kernel.accessAllowed ? 'block' : 'none';\n",
              "\n",
              "        async function convertToInteractive(key) {\n",
              "          const element = document.querySelector('#df-7a55d5d1-33c9-416f-bfff-0de9f55eaed6');\n",
              "          const dataTable =\n",
              "            await google.colab.kernel.invokeFunction('convertToInteractive',\n",
              "                                                     [key], {});\n",
              "          if (!dataTable) return;\n",
              "\n",
              "          const docLinkHtml = 'Like what you see? Visit the ' +\n",
              "            '<a target=\"_blank\" href=https://colab.research.google.com/notebooks/data_table.ipynb>data table notebook</a>'\n",
              "            + ' to learn more about interactive tables.';\n",
              "          element.innerHTML = '';\n",
              "          dataTable['output_type'] = 'display_data';\n",
              "          await google.colab.output.renderOutput(dataTable, element);\n",
              "          const docLink = document.createElement('div');\n",
              "          docLink.innerHTML = docLinkHtml;\n",
              "          element.appendChild(docLink);\n",
              "        }\n",
              "      </script>\n",
              "    </div>\n",
              "  </div>\n",
              "  "
            ]
          },
          "metadata": {},
          "execution_count": 6
        }
      ]
    },
    {
      "cell_type": "markdown",
      "source": [
        "The test data has 1366 word tokenized sentences having same columns as train except the NER tags and NER ids which we have to predict."
      ],
      "metadata": {
        "id": "CqiuiFaLf5eX"
      }
    },
    {
      "cell_type": "markdown",
      "source": [
        "#### **2. Data Pre-processing**"
      ],
      "metadata": {
        "id": "9mOLN_HFJjjm"
      }
    },
    {
      "cell_type": "code",
      "source": [
        "# Keeping only the required columns from train_data['ner_ids','ner_tags','tokens'] and test_data['tokens']\n",
        "train_data = train_data[['ner_ids','ner_tags','tokens']]\n",
        "print(\"Shape of train_data: \", train_data.shape)\n",
        "\n",
        "test_data = test_data[['tokens']]\n",
        "print(\"Shape of test_data: \", test_data.shape)"
      ],
      "metadata": {
        "colab": {
          "base_uri": "https://localhost:8080/"
        },
        "id": "Xagc7MlwJE0-",
        "outputId": "0e3911ac-3eb2-41a6-8ca4-a24916197b3a"
      },
      "execution_count": null,
      "outputs": [
        {
          "output_type": "stream",
          "name": "stdout",
          "text": [
            "Shape of train_data:  (1753, 3)\n",
            "Shape of test_data:  (1366, 1)\n"
          ]
        }
      ]
    },
    {
      "cell_type": "markdown",
      "source": [
        "##### **2.1 - Exploding the train_data using df.explode() to get separate tokens and its corresponding NER tags and ids.** "
      ],
      "metadata": {
        "id": "I7sbxRsBHzzO"
      }
    },
    {
      "cell_type": "code",
      "source": [
        "# Using df.explode on train_data for columns 'ner_ids','ner_tags' and 'token'\n",
        "# to separate tokens and its corresponding ner tags and ids\n",
        "train_data = train_data.explode(['ner_ids','ner_tags','tokens'])\n",
        "print(\"Train data shape after separating tokens and its corresponding ner tags and ids: \",train_data.shape)\n",
        "\n",
        "# Viewing first few rows of exploded train_data\n",
        "train_data.head()"
      ],
      "metadata": {
        "colab": {
          "base_uri": "https://localhost:8080/",
          "height": 223
        },
        "id": "7L-OnzSOTJiC",
        "outputId": "c88eb9c2-7f78-466b-f1ed-ecfb7d1d922c"
      },
      "execution_count": null,
      "outputs": [
        {
          "output_type": "stream",
          "name": "stdout",
          "text": [
            "Train data shape after separating tokens and its corresponding ner tags and ids:  (573132, 3)\n"
          ]
        },
        {
          "output_type": "execute_result",
          "data": {
            "text/plain": [
              "  ner_ids ner_tags      tokens\n",
              "0      62        O      Whilst\n",
              "0      62        O           a\n",
              "0      62        O  reasonable\n",
              "0      62        O    harmonic\n",
              "0      62        O         fit"
            ],
            "text/html": [
              "\n",
              "  <div id=\"df-d017f041-bd9a-4cbb-aabc-752449ebb9d8\">\n",
              "    <div class=\"colab-df-container\">\n",
              "      <div>\n",
              "<style scoped>\n",
              "    .dataframe tbody tr th:only-of-type {\n",
              "        vertical-align: middle;\n",
              "    }\n",
              "\n",
              "    .dataframe tbody tr th {\n",
              "        vertical-align: top;\n",
              "    }\n",
              "\n",
              "    .dataframe thead th {\n",
              "        text-align: right;\n",
              "    }\n",
              "</style>\n",
              "<table border=\"1\" class=\"dataframe\">\n",
              "  <thead>\n",
              "    <tr style=\"text-align: right;\">\n",
              "      <th></th>\n",
              "      <th>ner_ids</th>\n",
              "      <th>ner_tags</th>\n",
              "      <th>tokens</th>\n",
              "    </tr>\n",
              "  </thead>\n",
              "  <tbody>\n",
              "    <tr>\n",
              "      <th>0</th>\n",
              "      <td>62</td>\n",
              "      <td>O</td>\n",
              "      <td>Whilst</td>\n",
              "    </tr>\n",
              "    <tr>\n",
              "      <th>0</th>\n",
              "      <td>62</td>\n",
              "      <td>O</td>\n",
              "      <td>a</td>\n",
              "    </tr>\n",
              "    <tr>\n",
              "      <th>0</th>\n",
              "      <td>62</td>\n",
              "      <td>O</td>\n",
              "      <td>reasonable</td>\n",
              "    </tr>\n",
              "    <tr>\n",
              "      <th>0</th>\n",
              "      <td>62</td>\n",
              "      <td>O</td>\n",
              "      <td>harmonic</td>\n",
              "    </tr>\n",
              "    <tr>\n",
              "      <th>0</th>\n",
              "      <td>62</td>\n",
              "      <td>O</td>\n",
              "      <td>fit</td>\n",
              "    </tr>\n",
              "  </tbody>\n",
              "</table>\n",
              "</div>\n",
              "      <button class=\"colab-df-convert\" onclick=\"convertToInteractive('df-d017f041-bd9a-4cbb-aabc-752449ebb9d8')\"\n",
              "              title=\"Convert this dataframe to an interactive table.\"\n",
              "              style=\"display:none;\">\n",
              "        \n",
              "  <svg xmlns=\"http://www.w3.org/2000/svg\" height=\"24px\"viewBox=\"0 0 24 24\"\n",
              "       width=\"24px\">\n",
              "    <path d=\"M0 0h24v24H0V0z\" fill=\"none\"/>\n",
              "    <path d=\"M18.56 5.44l.94 2.06.94-2.06 2.06-.94-2.06-.94-.94-2.06-.94 2.06-2.06.94zm-11 1L8.5 8.5l.94-2.06 2.06-.94-2.06-.94L8.5 2.5l-.94 2.06-2.06.94zm10 10l.94 2.06.94-2.06 2.06-.94-2.06-.94-.94-2.06-.94 2.06-2.06.94z\"/><path d=\"M17.41 7.96l-1.37-1.37c-.4-.4-.92-.59-1.43-.59-.52 0-1.04.2-1.43.59L10.3 9.45l-7.72 7.72c-.78.78-.78 2.05 0 2.83L4 21.41c.39.39.9.59 1.41.59.51 0 1.02-.2 1.41-.59l7.78-7.78 2.81-2.81c.8-.78.8-2.07 0-2.86zM5.41 20L4 18.59l7.72-7.72 1.47 1.35L5.41 20z\"/>\n",
              "  </svg>\n",
              "      </button>\n",
              "      \n",
              "  <style>\n",
              "    .colab-df-container {\n",
              "      display:flex;\n",
              "      flex-wrap:wrap;\n",
              "      gap: 12px;\n",
              "    }\n",
              "\n",
              "    .colab-df-convert {\n",
              "      background-color: #E8F0FE;\n",
              "      border: none;\n",
              "      border-radius: 50%;\n",
              "      cursor: pointer;\n",
              "      display: none;\n",
              "      fill: #1967D2;\n",
              "      height: 32px;\n",
              "      padding: 0 0 0 0;\n",
              "      width: 32px;\n",
              "    }\n",
              "\n",
              "    .colab-df-convert:hover {\n",
              "      background-color: #E2EBFA;\n",
              "      box-shadow: 0px 1px 2px rgba(60, 64, 67, 0.3), 0px 1px 3px 1px rgba(60, 64, 67, 0.15);\n",
              "      fill: #174EA6;\n",
              "    }\n",
              "\n",
              "    [theme=dark] .colab-df-convert {\n",
              "      background-color: #3B4455;\n",
              "      fill: #D2E3FC;\n",
              "    }\n",
              "\n",
              "    [theme=dark] .colab-df-convert:hover {\n",
              "      background-color: #434B5C;\n",
              "      box-shadow: 0px 1px 3px 1px rgba(0, 0, 0, 0.15);\n",
              "      filter: drop-shadow(0px 1px 2px rgba(0, 0, 0, 0.3));\n",
              "      fill: #FFFFFF;\n",
              "    }\n",
              "  </style>\n",
              "\n",
              "      <script>\n",
              "        const buttonEl =\n",
              "          document.querySelector('#df-d017f041-bd9a-4cbb-aabc-752449ebb9d8 button.colab-df-convert');\n",
              "        buttonEl.style.display =\n",
              "          google.colab.kernel.accessAllowed ? 'block' : 'none';\n",
              "\n",
              "        async function convertToInteractive(key) {\n",
              "          const element = document.querySelector('#df-d017f041-bd9a-4cbb-aabc-752449ebb9d8');\n",
              "          const dataTable =\n",
              "            await google.colab.kernel.invokeFunction('convertToInteractive',\n",
              "                                                     [key], {});\n",
              "          if (!dataTable) return;\n",
              "\n",
              "          const docLinkHtml = 'Like what you see? Visit the ' +\n",
              "            '<a target=\"_blank\" href=https://colab.research.google.com/notebooks/data_table.ipynb>data table notebook</a>'\n",
              "            + ' to learn more about interactive tables.';\n",
              "          element.innerHTML = '';\n",
              "          dataTable['output_type'] = 'display_data';\n",
              "          await google.colab.output.renderOutput(dataTable, element);\n",
              "          const docLink = document.createElement('div');\n",
              "          docLink.innerHTML = docLinkHtml;\n",
              "          element.appendChild(docLink);\n",
              "        }\n",
              "      </script>\n",
              "    </div>\n",
              "  </div>\n",
              "  "
            ]
          },
          "metadata": {},
          "execution_count": 8
        }
      ]
    },
    {
      "cell_type": "markdown",
      "source": [
        "Exploding would create a separate row for each word token in sentence with corresponding NER tags and NER ids for ease of cleaning i.e. removing punctation tokens. <br>\n",
        "Train data shape after separating tokens and its corresponding ner tags and ids: (573132, 3)"
      ],
      "metadata": {
        "id": "-46LFOCege3C"
      }
    },
    {
      "cell_type": "markdown",
      "source": [
        "##### **2.2 - Creating a dictionary of NER tags corresponding to its respective NER ids which would be useful later to convert the predicted tag id to NER tags.** "
      ],
      "metadata": {
        "id": "B44mQ2VemsD8"
      }
    },
    {
      "cell_type": "code",
      "source": [
        "# Getting the unique ner_ids and its corresponding tags\n",
        "unique_tags_and_ids = train_data[['ner_ids','ner_tags']]\n",
        "unique_tags_and_ids.drop_duplicates(inplace=True)\n",
        "unique_tags_and_ids.sort_values(by='ner_ids',inplace=True)\n",
        "unique_tags_and_ids.head()"
      ],
      "metadata": {
        "colab": {
          "base_uri": "https://localhost:8080/",
          "height": 206
        },
        "id": "BooHXfcan3ad",
        "outputId": "a1b54cb3-e9b3-4d30-c2fd-15ce4ddeaa6f"
      },
      "execution_count": null,
      "outputs": [
        {
          "output_type": "execute_result",
          "data": {
            "text/plain": [
              "   ner_ids                 ner_tags\n",
              "15       0                B-Archive\n",
              "6        1        B-CelestialObject\n",
              "7        2  B-CelestialObjectRegion\n",
              "14       3        B-CelestialRegion\n",
              "0        4               B-Citation"
            ],
            "text/html": [
              "\n",
              "  <div id=\"df-298d0a1b-a354-40be-b540-21a29a059c5f\">\n",
              "    <div class=\"colab-df-container\">\n",
              "      <div>\n",
              "<style scoped>\n",
              "    .dataframe tbody tr th:only-of-type {\n",
              "        vertical-align: middle;\n",
              "    }\n",
              "\n",
              "    .dataframe tbody tr th {\n",
              "        vertical-align: top;\n",
              "    }\n",
              "\n",
              "    .dataframe thead th {\n",
              "        text-align: right;\n",
              "    }\n",
              "</style>\n",
              "<table border=\"1\" class=\"dataframe\">\n",
              "  <thead>\n",
              "    <tr style=\"text-align: right;\">\n",
              "      <th></th>\n",
              "      <th>ner_ids</th>\n",
              "      <th>ner_tags</th>\n",
              "    </tr>\n",
              "  </thead>\n",
              "  <tbody>\n",
              "    <tr>\n",
              "      <th>15</th>\n",
              "      <td>0</td>\n",
              "      <td>B-Archive</td>\n",
              "    </tr>\n",
              "    <tr>\n",
              "      <th>6</th>\n",
              "      <td>1</td>\n",
              "      <td>B-CelestialObject</td>\n",
              "    </tr>\n",
              "    <tr>\n",
              "      <th>7</th>\n",
              "      <td>2</td>\n",
              "      <td>B-CelestialObjectRegion</td>\n",
              "    </tr>\n",
              "    <tr>\n",
              "      <th>14</th>\n",
              "      <td>3</td>\n",
              "      <td>B-CelestialRegion</td>\n",
              "    </tr>\n",
              "    <tr>\n",
              "      <th>0</th>\n",
              "      <td>4</td>\n",
              "      <td>B-Citation</td>\n",
              "    </tr>\n",
              "  </tbody>\n",
              "</table>\n",
              "</div>\n",
              "      <button class=\"colab-df-convert\" onclick=\"convertToInteractive('df-298d0a1b-a354-40be-b540-21a29a059c5f')\"\n",
              "              title=\"Convert this dataframe to an interactive table.\"\n",
              "              style=\"display:none;\">\n",
              "        \n",
              "  <svg xmlns=\"http://www.w3.org/2000/svg\" height=\"24px\"viewBox=\"0 0 24 24\"\n",
              "       width=\"24px\">\n",
              "    <path d=\"M0 0h24v24H0V0z\" fill=\"none\"/>\n",
              "    <path d=\"M18.56 5.44l.94 2.06.94-2.06 2.06-.94-2.06-.94-.94-2.06-.94 2.06-2.06.94zm-11 1L8.5 8.5l.94-2.06 2.06-.94-2.06-.94L8.5 2.5l-.94 2.06-2.06.94zm10 10l.94 2.06.94-2.06 2.06-.94-2.06-.94-.94-2.06-.94 2.06-2.06.94z\"/><path d=\"M17.41 7.96l-1.37-1.37c-.4-.4-.92-.59-1.43-.59-.52 0-1.04.2-1.43.59L10.3 9.45l-7.72 7.72c-.78.78-.78 2.05 0 2.83L4 21.41c.39.39.9.59 1.41.59.51 0 1.02-.2 1.41-.59l7.78-7.78 2.81-2.81c.8-.78.8-2.07 0-2.86zM5.41 20L4 18.59l7.72-7.72 1.47 1.35L5.41 20z\"/>\n",
              "  </svg>\n",
              "      </button>\n",
              "      \n",
              "  <style>\n",
              "    .colab-df-container {\n",
              "      display:flex;\n",
              "      flex-wrap:wrap;\n",
              "      gap: 12px;\n",
              "    }\n",
              "\n",
              "    .colab-df-convert {\n",
              "      background-color: #E8F0FE;\n",
              "      border: none;\n",
              "      border-radius: 50%;\n",
              "      cursor: pointer;\n",
              "      display: none;\n",
              "      fill: #1967D2;\n",
              "      height: 32px;\n",
              "      padding: 0 0 0 0;\n",
              "      width: 32px;\n",
              "    }\n",
              "\n",
              "    .colab-df-convert:hover {\n",
              "      background-color: #E2EBFA;\n",
              "      box-shadow: 0px 1px 2px rgba(60, 64, 67, 0.3), 0px 1px 3px 1px rgba(60, 64, 67, 0.15);\n",
              "      fill: #174EA6;\n",
              "    }\n",
              "\n",
              "    [theme=dark] .colab-df-convert {\n",
              "      background-color: #3B4455;\n",
              "      fill: #D2E3FC;\n",
              "    }\n",
              "\n",
              "    [theme=dark] .colab-df-convert:hover {\n",
              "      background-color: #434B5C;\n",
              "      box-shadow: 0px 1px 3px 1px rgba(0, 0, 0, 0.15);\n",
              "      filter: drop-shadow(0px 1px 2px rgba(0, 0, 0, 0.3));\n",
              "      fill: #FFFFFF;\n",
              "    }\n",
              "  </style>\n",
              "\n",
              "      <script>\n",
              "        const buttonEl =\n",
              "          document.querySelector('#df-298d0a1b-a354-40be-b540-21a29a059c5f button.colab-df-convert');\n",
              "        buttonEl.style.display =\n",
              "          google.colab.kernel.accessAllowed ? 'block' : 'none';\n",
              "\n",
              "        async function convertToInteractive(key) {\n",
              "          const element = document.querySelector('#df-298d0a1b-a354-40be-b540-21a29a059c5f');\n",
              "          const dataTable =\n",
              "            await google.colab.kernel.invokeFunction('convertToInteractive',\n",
              "                                                     [key], {});\n",
              "          if (!dataTable) return;\n",
              "\n",
              "          const docLinkHtml = 'Like what you see? Visit the ' +\n",
              "            '<a target=\"_blank\" href=https://colab.research.google.com/notebooks/data_table.ipynb>data table notebook</a>'\n",
              "            + ' to learn more about interactive tables.';\n",
              "          element.innerHTML = '';\n",
              "          dataTable['output_type'] = 'display_data';\n",
              "          await google.colab.output.renderOutput(dataTable, element);\n",
              "          const docLink = document.createElement('div');\n",
              "          docLink.innerHTML = docLinkHtml;\n",
              "          element.appendChild(docLink);\n",
              "        }\n",
              "      </script>\n",
              "    </div>\n",
              "  </div>\n",
              "  "
            ]
          },
          "metadata": {},
          "execution_count": 9
        }
      ]
    },
    {
      "cell_type": "code",
      "source": [
        "# Converting the unique_tags_and_ids dataframe to dictionary\n",
        "# with ner_id as key as its corresponding tag as value\n",
        "ner_id_tags_dict = pd.Series(unique_tags_and_ids.ner_tags.values,\n",
        "                             index = unique_tags_and_ids.ner_ids).to_dict()\n",
        "\n",
        "# Printing the 'ner_id_tags_dict' and length of ner_id_tags_dict \n",
        "print(\"Total NER ids: \",len(ner_id_tags_dict))\n",
        "print(\"Dictonary containing NER ids as keys and its corresponding NER tag as value: \")\n",
        "print(ner_id_tags_dict)"
      ],
      "metadata": {
        "colab": {
          "base_uri": "https://localhost:8080/"
        },
        "id": "nbTgLkUzocad",
        "outputId": "4a2d0f95-2402-4f16-c0ee-eb38587e65e1"
      },
      "execution_count": null,
      "outputs": [
        {
          "output_type": "stream",
          "name": "stdout",
          "text": [
            "Total NER ids:  63\n",
            "Dictonary containing NER ids as keys and its corresponding NER tag as value: \n",
            "{0: 'B-Archive', 1: 'B-CelestialObject', 2: 'B-CelestialObjectRegion', 3: 'B-CelestialRegion', 4: 'B-Citation', 5: 'B-Collaboration', 6: 'B-ComputingFacility', 7: 'B-Database', 8: 'B-Dataset', 9: 'B-EntityOfFutureInterest', 10: 'B-Event', 11: 'B-Fellowship', 12: 'B-Formula', 13: 'B-Grant', 14: 'B-Identifier', 15: 'B-Instrument', 16: 'B-Location', 17: 'B-Mission', 18: 'B-Model', 19: 'B-ObservationalTechniques', 20: 'B-Observatory', 21: 'B-Organization', 22: 'B-Person', 23: 'B-Proposal', 24: 'B-Software', 25: 'B-Survey', 26: 'B-Tag', 27: 'B-Telescope', 28: 'B-TextGarbage', 29: 'B-URL', 30: 'B-Wavelength', 31: 'I-Archive', 32: 'I-CelestialObject', 33: 'I-CelestialObjectRegion', 34: 'I-CelestialRegion', 35: 'I-Citation', 36: 'I-Collaboration', 37: 'I-ComputingFacility', 38: 'I-Database', 39: 'I-Dataset', 40: 'I-EntityOfFutureInterest', 41: 'I-Event', 42: 'I-Fellowship', 43: 'I-Formula', 44: 'I-Grant', 45: 'I-Identifier', 46: 'I-Instrument', 47: 'I-Location', 48: 'I-Mission', 49: 'I-Model', 50: 'I-ObservationalTechniques', 51: 'I-Observatory', 52: 'I-Organization', 53: 'I-Person', 54: 'I-Proposal', 55: 'I-Software', 56: 'I-Survey', 57: 'I-Tag', 58: 'I-Telescope', 59: 'I-TextGarbage', 60: 'I-URL', 61: 'I-Wavelength', 62: 'O'}\n"
          ]
        }
      ]
    },
    {
      "cell_type": "markdown",
      "source": [
        "##### **2.3 - Dropping punctuation tokens having tag as 'O'.** "
      ],
      "metadata": {
        "id": "3CERfYtnH7oW"
      }
    },
    {
      "cell_type": "code",
      "source": [
        "# Checking the number of tags which are punctuation and have tag as 'O'\n",
        "TagO_and_Tokpunc = train_data[(train_data['ner_tags']=='O') & (train_data['tokens'].isin(list('?$#@./|:()\",;[]{}-')))]\n",
        "print(\"Number of tags which are punctuation and have tag as 'O': \",TagO_and_Tokpunc.shape[0])\n",
        "\n",
        "# Viewing first few rows of the punctuation tokens\n",
        "TagO_and_Tokpunc.head()"
      ],
      "metadata": {
        "colab": {
          "base_uri": "https://localhost:8080/",
          "height": 223
        },
        "id": "xuX4j3jfWvaa",
        "outputId": "eb0274e7-647e-4c73-fea3-5896af51a7ca"
      },
      "execution_count": null,
      "outputs": [
        {
          "output_type": "stream",
          "name": "stdout",
          "text": [
            "Number of tags which are punctuation and have tag as 'O':  9719\n"
          ]
        },
        {
          "output_type": "execute_result",
          "data": {
            "text/plain": [
              "  ner_ids ner_tags tokens\n",
              "0      62        O      (\n",
              "0      62        O      )\n",
              "0      62        O      (\n",
              "0      62        O      )\n",
              "0      62        O      ("
            ],
            "text/html": [
              "\n",
              "  <div id=\"df-352419ae-9693-442b-a5cc-5f8f0239f26b\">\n",
              "    <div class=\"colab-df-container\">\n",
              "      <div>\n",
              "<style scoped>\n",
              "    .dataframe tbody tr th:only-of-type {\n",
              "        vertical-align: middle;\n",
              "    }\n",
              "\n",
              "    .dataframe tbody tr th {\n",
              "        vertical-align: top;\n",
              "    }\n",
              "\n",
              "    .dataframe thead th {\n",
              "        text-align: right;\n",
              "    }\n",
              "</style>\n",
              "<table border=\"1\" class=\"dataframe\">\n",
              "  <thead>\n",
              "    <tr style=\"text-align: right;\">\n",
              "      <th></th>\n",
              "      <th>ner_ids</th>\n",
              "      <th>ner_tags</th>\n",
              "      <th>tokens</th>\n",
              "    </tr>\n",
              "  </thead>\n",
              "  <tbody>\n",
              "    <tr>\n",
              "      <th>0</th>\n",
              "      <td>62</td>\n",
              "      <td>O</td>\n",
              "      <td>(</td>\n",
              "    </tr>\n",
              "    <tr>\n",
              "      <th>0</th>\n",
              "      <td>62</td>\n",
              "      <td>O</td>\n",
              "      <td>)</td>\n",
              "    </tr>\n",
              "    <tr>\n",
              "      <th>0</th>\n",
              "      <td>62</td>\n",
              "      <td>O</td>\n",
              "      <td>(</td>\n",
              "    </tr>\n",
              "    <tr>\n",
              "      <th>0</th>\n",
              "      <td>62</td>\n",
              "      <td>O</td>\n",
              "      <td>)</td>\n",
              "    </tr>\n",
              "    <tr>\n",
              "      <th>0</th>\n",
              "      <td>62</td>\n",
              "      <td>O</td>\n",
              "      <td>(</td>\n",
              "    </tr>\n",
              "  </tbody>\n",
              "</table>\n",
              "</div>\n",
              "      <button class=\"colab-df-convert\" onclick=\"convertToInteractive('df-352419ae-9693-442b-a5cc-5f8f0239f26b')\"\n",
              "              title=\"Convert this dataframe to an interactive table.\"\n",
              "              style=\"display:none;\">\n",
              "        \n",
              "  <svg xmlns=\"http://www.w3.org/2000/svg\" height=\"24px\"viewBox=\"0 0 24 24\"\n",
              "       width=\"24px\">\n",
              "    <path d=\"M0 0h24v24H0V0z\" fill=\"none\"/>\n",
              "    <path d=\"M18.56 5.44l.94 2.06.94-2.06 2.06-.94-2.06-.94-.94-2.06-.94 2.06-2.06.94zm-11 1L8.5 8.5l.94-2.06 2.06-.94-2.06-.94L8.5 2.5l-.94 2.06-2.06.94zm10 10l.94 2.06.94-2.06 2.06-.94-2.06-.94-.94-2.06-.94 2.06-2.06.94z\"/><path d=\"M17.41 7.96l-1.37-1.37c-.4-.4-.92-.59-1.43-.59-.52 0-1.04.2-1.43.59L10.3 9.45l-7.72 7.72c-.78.78-.78 2.05 0 2.83L4 21.41c.39.39.9.59 1.41.59.51 0 1.02-.2 1.41-.59l7.78-7.78 2.81-2.81c.8-.78.8-2.07 0-2.86zM5.41 20L4 18.59l7.72-7.72 1.47 1.35L5.41 20z\"/>\n",
              "  </svg>\n",
              "      </button>\n",
              "      \n",
              "  <style>\n",
              "    .colab-df-container {\n",
              "      display:flex;\n",
              "      flex-wrap:wrap;\n",
              "      gap: 12px;\n",
              "    }\n",
              "\n",
              "    .colab-df-convert {\n",
              "      background-color: #E8F0FE;\n",
              "      border: none;\n",
              "      border-radius: 50%;\n",
              "      cursor: pointer;\n",
              "      display: none;\n",
              "      fill: #1967D2;\n",
              "      height: 32px;\n",
              "      padding: 0 0 0 0;\n",
              "      width: 32px;\n",
              "    }\n",
              "\n",
              "    .colab-df-convert:hover {\n",
              "      background-color: #E2EBFA;\n",
              "      box-shadow: 0px 1px 2px rgba(60, 64, 67, 0.3), 0px 1px 3px 1px rgba(60, 64, 67, 0.15);\n",
              "      fill: #174EA6;\n",
              "    }\n",
              "\n",
              "    [theme=dark] .colab-df-convert {\n",
              "      background-color: #3B4455;\n",
              "      fill: #D2E3FC;\n",
              "    }\n",
              "\n",
              "    [theme=dark] .colab-df-convert:hover {\n",
              "      background-color: #434B5C;\n",
              "      box-shadow: 0px 1px 3px 1px rgba(0, 0, 0, 0.15);\n",
              "      filter: drop-shadow(0px 1px 2px rgba(0, 0, 0, 0.3));\n",
              "      fill: #FFFFFF;\n",
              "    }\n",
              "  </style>\n",
              "\n",
              "      <script>\n",
              "        const buttonEl =\n",
              "          document.querySelector('#df-352419ae-9693-442b-a5cc-5f8f0239f26b button.colab-df-convert');\n",
              "        buttonEl.style.display =\n",
              "          google.colab.kernel.accessAllowed ? 'block' : 'none';\n",
              "\n",
              "        async function convertToInteractive(key) {\n",
              "          const element = document.querySelector('#df-352419ae-9693-442b-a5cc-5f8f0239f26b');\n",
              "          const dataTable =\n",
              "            await google.colab.kernel.invokeFunction('convertToInteractive',\n",
              "                                                     [key], {});\n",
              "          if (!dataTable) return;\n",
              "\n",
              "          const docLinkHtml = 'Like what you see? Visit the ' +\n",
              "            '<a target=\"_blank\" href=https://colab.research.google.com/notebooks/data_table.ipynb>data table notebook</a>'\n",
              "            + ' to learn more about interactive tables.';\n",
              "          element.innerHTML = '';\n",
              "          dataTable['output_type'] = 'display_data';\n",
              "          await google.colab.output.renderOutput(dataTable, element);\n",
              "          const docLink = document.createElement('div');\n",
              "          docLink.innerHTML = docLinkHtml;\n",
              "          element.appendChild(docLink);\n",
              "        }\n",
              "      </script>\n",
              "    </div>\n",
              "  </div>\n",
              "  "
            ]
          },
          "metadata": {},
          "execution_count": 11
        }
      ]
    },
    {
      "cell_type": "markdown",
      "source": [
        "As seen from the above output, there are 9719 tokens which are punctuation markers and have tag as 'O' (Other). Removing these rows (tokens) from train data as this would clean the data and reduce the 'O' tag dominance in train data to some extent."
      ],
      "metadata": {
        "id": "PUs8wgsLhhez"
      }
    },
    {
      "cell_type": "code",
      "source": [
        "# Removing tokens which are punctuation and have tag as 'O' from train_data\n",
        "train_data = train_data[~((train_data['ner_tags']=='O') & (train_data['tokens'].isin(list('?$#@./|:()\",;[]{}-'))))]\n",
        "print(\"Shape of train data after removing tags which are punctuation and have tag as 'O': \",train_data.shape)"
      ],
      "metadata": {
        "colab": {
          "base_uri": "https://localhost:8080/"
        },
        "id": "bDUSuN9uVYVQ",
        "outputId": "1e77bd0b-86be-4f12-d6b7-fd57e81e77fd"
      },
      "execution_count": null,
      "outputs": [
        {
          "output_type": "stream",
          "name": "stdout",
          "text": [
            "Shape of train data after removing tags which are punctuation and have tag as 'O':  (563413, 3)\n"
          ]
        }
      ]
    },
    {
      "cell_type": "markdown",
      "source": [
        "##### **2.4 - Checking the distribution of NER tags in train data.** "
      ],
      "metadata": {
        "id": "C-lMTV2KIGhR"
      }
    },
    {
      "cell_type": "code",
      "source": [
        "# Checking the distribution of ner_tags\n",
        "train_data['ner_tags'].value_counts()"
      ],
      "metadata": {
        "colab": {
          "base_uri": "https://localhost:8080/"
        },
        "id": "1QBqjoc9d-O4",
        "outputId": "511fc89c-e257-42af-d28e-dd7ebda7f6a9"
      },
      "execution_count": null,
      "outputs": [
        {
          "output_type": "execute_result",
          "data": {
            "text/plain": [
              "O                           462588\n",
              "I-Citation                   18402\n",
              "I-Organization               14211\n",
              "I-Formula                     8433\n",
              "B-Organization                7448\n",
              "                             ...  \n",
              "B-Event                         45\n",
              "I-Identifier                    31\n",
              "I-Mission                       27\n",
              "I-EntityOfFutureInterest        16\n",
              "I-URL                           12\n",
              "Name: ner_tags, Length: 63, dtype: int64"
            ]
          },
          "metadata": {},
          "execution_count": 13
        }
      ]
    },
    {
      "cell_type": "code",
      "source": [
        "### Plotting the distribution of ner_tags ###\n",
        "\n",
        "# Keeping the top 9 most occuring tags and adding the other tags together in 'Others'\n",
        "tag_freq = pd.DataFrame(train_data['ner_tags'].value_counts()[:9])\n",
        "tag_freq.reset_index(inplace=True)\n",
        "tag_freq.rename(columns = {'index':'NER_tag', 'ner_tags':'Frequency'}, inplace = True)\n",
        "others = np.sum(train_data['ner_tags'].value_counts()[9:])\n",
        "\n",
        "# Adding the 'Others' (sum of rest of the tags count) to tag_freq dataframe\n",
        "tag_freq.loc[len(tag_freq.index)] = ['Others', others] \n",
        "\n",
        "# Plotting the bar chart\n",
        "plt.figure(figsize=(9,5))\n",
        "plt.bar(x = tag_freq['NER_tag'],height = tag_freq['Frequency'],\n",
        "        color = 'r', alpha = 0.6)\n",
        "plt.title(\"Distritbution of NER tags in train_data\")\n",
        "plt.xlabel(\"NER Tags\")\n",
        "plt.xticks(rotation = 45)\n",
        "plt.ylabel(\"Frequency\")\n",
        "plt.grid()"
      ],
      "metadata": {
        "colab": {
          "base_uri": "https://localhost:8080/",
          "height": 400
        },
        "id": "Gnpnj3s7YjyU",
        "outputId": "f79b602e-0b6a-4f42-f587-1d9e21b29992"
      },
      "execution_count": null,
      "outputs": [
        {
          "output_type": "display_data",
          "data": {
            "text/plain": [
              "<Figure size 648x360 with 1 Axes>"
            ],
            "image/png": "[encoded data removed]"
          },
          "metadata": {
            "needs_background": "light"
          }
        }
      ]
    },
    {
      "cell_type": "markdown",
      "source": [
        "As seen from the above bar plot, their is a huge dominance of 'O' (Other) tag leading to huge imbalance of classes in the train data.\n",
        "\n",
        "**For the model to predict well after training on such imbalance data, we have to give data in smaller batches while training the model so that model could learn other tags too. If we give data in large batches, due to the dominance of 'O' tag other tags would go unnoticed.**"
      ],
      "metadata": {
        "id": "JCm73iGCisOh"
      }
    },
    {
      "cell_type": "markdown",
      "source": [
        "##### **2.5 - Creating sentences from tokens (as intitial train data had).**\n",
        "As the pre-processing i.e. removing of punctuation tokens which had tag as 'O', creating sentences  (as the initial train data had) from tokens by grouping them on index as the model would require the complete sentence as input as its corresponding tags as target."
      ],
      "metadata": {
        "id": "DRw5obWr-npA"
      }
    },
    {
      "cell_type": "code",
      "source": [
        "# Creating sentences by grouping on index and the sentences respective ner_tokens and ids \n",
        "train_data = train_data.groupby(train_data.index).agg({'ner_ids': lambda x: x.tolist(),\n",
        "                                                       'ner_tags': lambda y: y.tolist(),\n",
        "                                                       'tokens': lambda z: z.tolist()})\n",
        "\n",
        "print(\"Shape of train_data: \",train_data.shape)\n",
        "train_data.head()"
      ],
      "metadata": {
        "colab": {
          "base_uri": "https://localhost:8080/",
          "height": 223
        },
        "id": "7m36Aslx9rL_",
        "outputId": "794ccb88-e39f-41d1-847b-7f2eb33ac9a7"
      },
      "execution_count": null,
      "outputs": [
        {
          "output_type": "stream",
          "name": "stdout",
          "text": [
            "Shape of train_data:  (1753, 3)\n"
          ]
        },
        {
          "output_type": "execute_result",
          "data": {
            "text/plain": [
              "                                             ner_ids  \\\n",
              "0  [62, 62, 62, 62, 62, 62, 62, 15, 62, 62, 62, 6...   \n",
              "1  [62, 62, 62, 62, 62, 62, 62, 62, 62, 62, 62, 6...   \n",
              "2  [62, 62, 62, 62, 62, 62, 62, 62, 62, 62, 62, 6...   \n",
              "3  [22, 62, 62, 62, 62, 21, 13, 44, 44, 21, 62, 1...   \n",
              "4  [62, 62, 62, 22, 53, 22, 53, 22, 53, 22, 53, 2...   \n",
              "\n",
              "                                            ner_tags  \\\n",
              "0  [O, O, O, O, O, O, O, B-Instrument, O, O, O, O...   \n",
              "1  [O, O, O, O, O, O, O, O, O, O, O, O, O, O, O, ...   \n",
              "2  [O, O, O, O, O, O, O, O, O, O, O, O, O, O, O, ...   \n",
              "3  [B-Person, O, O, O, O, B-Organization, B-Grant...   \n",
              "4  [O, O, O, B-Person, I-Person, B-Person, I-Pers...   \n",
              "\n",
              "                                              tokens  \n",
              "0  [Whilst, a, reasonable, harmonic, fit, to, the...  \n",
              "1  [comparison, once, the, angular, positions, of...  \n",
              "2  [ACKNOWLEDGEMENTS, The, authors, thank, an, an...  \n",
              "3  [BDM, gratefully, acknowledges, support, from,...  \n",
              "4  [ACKNOWLEDGEMENTS, We, thank, Dougal, Mackey,,...  "
            ],
            "text/html": [
              "\n",
              "  <div id=\"df-89c3e577-cdb4-4349-8b2d-3ae51627f317\">\n",
              "    <div class=\"colab-df-container\">\n",
              "      <div>\n",
              "<style scoped>\n",
              "    .dataframe tbody tr th:only-of-type {\n",
              "        vertical-align: middle;\n",
              "    }\n",
              "\n",
              "    .dataframe tbody tr th {\n",
              "        vertical-align: top;\n",
              "    }\n",
              "\n",
              "    .dataframe thead th {\n",
              "        text-align: right;\n",
              "    }\n",
              "</style>\n",
              "<table border=\"1\" class=\"dataframe\">\n",
              "  <thead>\n",
              "    <tr style=\"text-align: right;\">\n",
              "      <th></th>\n",
              "      <th>ner_ids</th>\n",
              "      <th>ner_tags</th>\n",
              "      <th>tokens</th>\n",
              "    </tr>\n",
              "  </thead>\n",
              "  <tbody>\n",
              "    <tr>\n",
              "      <th>0</th>\n",
              "      <td>[62, 62, 62, 62, 62, 62, 62, 15, 62, 62, 62, 6...</td>\n",
              "      <td>[O, O, O, O, O, O, O, B-Instrument, O, O, O, O...</td>\n",
              "      <td>[Whilst, a, reasonable, harmonic, fit, to, the...</td>\n",
              "    </tr>\n",
              "    <tr>\n",
              "      <th>1</th>\n",
              "      <td>[62, 62, 62, 62, 62, 62, 62, 62, 62, 62, 62, 6...</td>\n",
              "      <td>[O, O, O, O, O, O, O, O, O, O, O, O, O, O, O, ...</td>\n",
              "      <td>[comparison, once, the, angular, positions, of...</td>\n",
              "    </tr>\n",
              "    <tr>\n",
              "      <th>2</th>\n",
              "      <td>[62, 62, 62, 62, 62, 62, 62, 62, 62, 62, 62, 6...</td>\n",
              "      <td>[O, O, O, O, O, O, O, O, O, O, O, O, O, O, O, ...</td>\n",
              "      <td>[ACKNOWLEDGEMENTS, The, authors, thank, an, an...</td>\n",
              "    </tr>\n",
              "    <tr>\n",
              "      <th>3</th>\n",
              "      <td>[22, 62, 62, 62, 62, 21, 13, 44, 44, 21, 62, 1...</td>\n",
              "      <td>[B-Person, O, O, O, O, B-Organization, B-Grant...</td>\n",
              "      <td>[BDM, gratefully, acknowledges, support, from,...</td>\n",
              "    </tr>\n",
              "    <tr>\n",
              "      <th>4</th>\n",
              "      <td>[62, 62, 62, 22, 53, 22, 53, 22, 53, 22, 53, 2...</td>\n",
              "      <td>[O, O, O, B-Person, I-Person, B-Person, I-Pers...</td>\n",
              "      <td>[ACKNOWLEDGEMENTS, We, thank, Dougal, Mackey,,...</td>\n",
              "    </tr>\n",
              "  </tbody>\n",
              "</table>\n",
              "</div>\n",
              "      <button class=\"colab-df-convert\" onclick=\"convertToInteractive('df-89c3e577-cdb4-4349-8b2d-3ae51627f317')\"\n",
              "              title=\"Convert this dataframe to an interactive table.\"\n",
              "              style=\"display:none;\">\n",
              "        \n",
              "  <svg xmlns=\"http://www.w3.org/2000/svg\" height=\"24px\"viewBox=\"0 0 24 24\"\n",
              "       width=\"24px\">\n",
              "    <path d=\"M0 0h24v24H0V0z\" fill=\"none\"/>\n",
              "    <path d=\"M18.56 5.44l.94 2.06.94-2.06 2.06-.94-2.06-.94-.94-2.06-.94 2.06-2.06.94zm-11 1L8.5 8.5l.94-2.06 2.06-.94-2.06-.94L8.5 2.5l-.94 2.06-2.06.94zm10 10l.94 2.06.94-2.06 2.06-.94-2.06-.94-.94-2.06-.94 2.06-2.06.94z\"/><path d=\"M17.41 7.96l-1.37-1.37c-.4-.4-.92-.59-1.43-.59-.52 0-1.04.2-1.43.59L10.3 9.45l-7.72 7.72c-.78.78-.78 2.05 0 2.83L4 21.41c.39.39.9.59 1.41.59.51 0 1.02-.2 1.41-.59l7.78-7.78 2.81-2.81c.8-.78.8-2.07 0-2.86zM5.41 20L4 18.59l7.72-7.72 1.47 1.35L5.41 20z\"/>\n",
              "  </svg>\n",
              "      </button>\n",
              "      \n",
              "  <style>\n",
              "    .colab-df-container {\n",
              "      display:flex;\n",
              "      flex-wrap:wrap;\n",
              "      gap: 12px;\n",
              "    }\n",
              "\n",
              "    .colab-df-convert {\n",
              "      background-color: #E8F0FE;\n",
              "      border: none;\n",
              "      border-radius: 50%;\n",
              "      cursor: pointer;\n",
              "      display: none;\n",
              "      fill: #1967D2;\n",
              "      height: 32px;\n",
              "      padding: 0 0 0 0;\n",
              "      width: 32px;\n",
              "    }\n",
              "\n",
              "    .colab-df-convert:hover {\n",
              "      background-color: #E2EBFA;\n",
              "      box-shadow: 0px 1px 2px rgba(60, 64, 67, 0.3), 0px 1px 3px 1px rgba(60, 64, 67, 0.15);\n",
              "      fill: #174EA6;\n",
              "    }\n",
              "\n",
              "    [theme=dark] .colab-df-convert {\n",
              "      background-color: #3B4455;\n",
              "      fill: #D2E3FC;\n",
              "    }\n",
              "\n",
              "    [theme=dark] .colab-df-convert:hover {\n",
              "      background-color: #434B5C;\n",
              "      box-shadow: 0px 1px 3px 1px rgba(0, 0, 0, 0.15);\n",
              "      filter: drop-shadow(0px 1px 2px rgba(0, 0, 0, 0.3));\n",
              "      fill: #FFFFFF;\n",
              "    }\n",
              "  </style>\n",
              "\n",
              "      <script>\n",
              "        const buttonEl =\n",
              "          document.querySelector('#df-89c3e577-cdb4-4349-8b2d-3ae51627f317 button.colab-df-convert');\n",
              "        buttonEl.style.display =\n",
              "          google.colab.kernel.accessAllowed ? 'block' : 'none';\n",
              "\n",
              "        async function convertToInteractive(key) {\n",
              "          const element = document.querySelector('#df-89c3e577-cdb4-4349-8b2d-3ae51627f317');\n",
              "          const dataTable =\n",
              "            await google.colab.kernel.invokeFunction('convertToInteractive',\n",
              "                                                     [key], {});\n",
              "          if (!dataTable) return;\n",
              "\n",
              "          const docLinkHtml = 'Like what you see? Visit the ' +\n",
              "            '<a target=\"_blank\" href=https://colab.research.google.com/notebooks/data_table.ipynb>data table notebook</a>'\n",
              "            + ' to learn more about interactive tables.';\n",
              "          element.innerHTML = '';\n",
              "          dataTable['output_type'] = 'display_data';\n",
              "          await google.colab.output.renderOutput(dataTable, element);\n",
              "          const docLink = document.createElement('div');\n",
              "          docLink.innerHTML = docLinkHtml;\n",
              "          element.appendChild(docLink);\n",
              "        }\n",
              "      </script>\n",
              "    </div>\n",
              "  </div>\n",
              "  "
            ]
          },
          "metadata": {},
          "execution_count": 15
        }
      ]
    },
    {
      "cell_type": "markdown",
      "source": [
        "##### **2.6 - Checking the distribution of length of sentences and dropping outlier sentences (having length<10 or length>600) from train_data.**"
      ],
      "metadata": {
        "id": "Q3WLfdqhIh-8"
      }
    },
    {
      "cell_type": "code",
      "source": [
        "### Checking the distribution of length of sentences in train data ###\n",
        "sentence_length = []\n",
        "for sentence in train_data.tokens:\n",
        "  sentence_length.append(len(sentence))\n",
        "\n",
        "### Plotting the distribution of length of sentences ###\n",
        "plt.figure(figsize=(9,5))\n",
        "plt.hist(sentence_length, bins = 50, color = 'b', alpha = 0.4)\n",
        "plt.xlabel(\"Length of sentence (number of tokens in a sentence)\")\n",
        "plt.ylabel(\"Frequency\")\n",
        "plt.title(\"Distribution of length of texts\")"
      ],
      "metadata": {
        "colab": {
          "base_uri": "https://localhost:8080/",
          "height": 367
        },
        "id": "GNLDXQ2V9tno",
        "outputId": "f7bc18a0-c19c-404e-cba4-0e888c400d3f"
      },
      "execution_count": null,
      "outputs": [
        {
          "output_type": "execute_result",
          "data": {
            "text/plain": [
              "Text(0.5, 1.0, 'Distribution of length of texts')"
            ]
          },
          "metadata": {},
          "execution_count": 16
        },
        {
          "output_type": "display_data",
          "data": {
            "text/plain": [
              "<Figure size 648x360 with 1 Axes>"
            ],
            "image/png": "[encoded data removed]"
          },
          "metadata": {
            "needs_background": "light"
          }
        }
      ]
    },
    {
      "cell_type": "markdown",
      "source": [
        "As seen above histogram, there is huge difference between the lenght of sentences. Some sentences are too short while some are too large. Dropping the sentences whose length is less than 10 or greater than 600 to maintain some range by dropping outliers."
      ],
      "metadata": {
        "id": "Qll4MJutEs15"
      }
    },
    {
      "cell_type": "code",
      "source": [
        "# Dropping the sentences whose length is less than 10 or greater than 600 \n",
        "for idx in train_data.index:\n",
        "  len_sent = len(train_data['tokens'][idx])\n",
        "  if len_sent<10 or len_sent>600:\n",
        "    train_data.drop(idx, inplace=True)\n",
        "\n",
        "# Printing the shape of train_data\n",
        "print(\"Shape of train_data after dropping the outlier sentences: \",train_data.shape)"
      ],
      "metadata": {
        "colab": {
          "base_uri": "https://localhost:8080/"
        },
        "id": "ojBqCyeAVQvh",
        "outputId": "fa8e9c2b-da04-41f2-ac2a-648f731cdbda"
      },
      "execution_count": null,
      "outputs": [
        {
          "output_type": "stream",
          "name": "stdout",
          "text": [
            "Shape of train_data after dropping the outlier sentences:  (1739, 3)\n"
          ]
        }
      ]
    },
    {
      "cell_type": "markdown",
      "source": [
        "#### **3. Tokenizing the data (Implementing tokenizer from scratch)**"
      ],
      "metadata": {
        "id": "AeT_-3aXJPvA"
      }
    },
    {
      "cell_type": "markdown",
      "source": [
        "##### **3.1 - Creating vocabulary based on train data having vocab_size of 5000.**"
      ],
      "metadata": {
        "id": "3XvrlJxVQ_Qi"
      }
    },
    {
      "cell_type": "code",
      "source": [
        "### Creating a function that takes in df and returns a dictionary with a mapping of token to number for 'tokens' column\n",
        "def tokenizer(df):\n",
        "\n",
        "    # Use counter to count the frequency of each token\n",
        "    top = Counter([item for sublist in df['tokens'] for item in sublist])\n",
        "\n",
        "    # Create a dataframe 'temp' which contain all tokens in an order of their frequency\n",
        "    temp = pd.DataFrame(top.most_common(5000))\n",
        "    temp.columns = ['Token','Frequency']\n",
        "\n",
        "    # Setting index of temp df from 2 as we would map these index with tokens and \n",
        "    # index 1 would be used for <UNK> token \n",
        "    temp.index = list(range(2,temp.shape[0]+2))\n",
        "\n",
        "    # Create a dictionary which would contain token as key and it's index as value from temp df\n",
        "    vocabulary = {v:k for k, v in temp['Token'].to_dict().items()}\n",
        "\n",
        "    # Get the position of first item in vocabulary dict using temp df and \n",
        "    # add <UNK> token at that position with its value as 1\n",
        "    pos = list(vocabulary.keys()).index(temp.iloc[0,0])\n",
        "    items = list(vocabulary.items())\n",
        "    items.insert(pos, ('<UNK>', 1))\n",
        "    vocabulary = dict(items)\n",
        "\n",
        "    # Printing the size of vocabulary\n",
        "    print(\"Size of vocabulary: \",len(vocabulary))\n",
        "\n",
        "    # Returning vocabulary dict\n",
        "    return vocabulary\n",
        "\n",
        "\n",
        "### Using the above function on train set and printing first 10 items from returned dictionary\n",
        "vocab = tokenizer(train_data)\n",
        "dict(list(vocab.items())[0: 10]) "
      ],
      "metadata": {
        "colab": {
          "base_uri": "https://localhost:8080/"
        },
        "id": "pTJs32urJ9a8",
        "outputId": "eb46075e-82cc-49ed-9fa3-dd9ec642b170"
      },
      "execution_count": null,
      "outputs": [
        {
          "output_type": "stream",
          "name": "stdout",
          "text": [
            "Size of vocabulary:  5001\n"
          ]
        },
        {
          "output_type": "execute_result",
          "data": {
            "text/plain": [
              "{'<UNK>': 1,\n",
              " 'a': 8,\n",
              " 'and': 4,\n",
              " 'by': 10,\n",
              " 'for': 9,\n",
              " 'in': 5,\n",
              " 'is': 7,\n",
              " 'of': 3,\n",
              " 'the': 2,\n",
              " 'to': 6}"
            ]
          },
          "metadata": {},
          "execution_count": 18
        }
      ]
    },
    {
      "cell_type": "markdown",
      "source": [
        "##### **3.2 - Tokenizing train_data sentence tokens using the train_data vocabulary created above.** "
      ],
      "metadata": {
        "id": "sFPZG8PmObsr"
      }
    },
    {
      "cell_type": "code",
      "source": [
        "### Getting train_data tokens in numerical representation using above vocabulary ###\n",
        "\n",
        "# Creating a list 'vocab_Mapped_Tokens' which would contain \n",
        "# tokenized messages as per vocab dict\n",
        "vocab_Mapped_Tokens = []\n",
        "\n",
        "# For each row in train dataframe's 'tokens' column\n",
        "for sentence in train_data['tokens']:\n",
        "  # Creating a list 'mapped' which would contain numerical representation \n",
        "  # (from vocab dict) of the tokens present in that sentence\n",
        "  mapped = []\n",
        "  \n",
        "  # Iterating through each sentences tokens\n",
        "  for tok in sentence:\n",
        "    # if word is present in vocab dicts key, append its value(token number) to 'mapped' list\n",
        "    if tok in vocab.keys():\n",
        "      mapped.append(vocab[tok])\n",
        "    # else append the value of OOV token <UNK> which is 1\n",
        "    else:\n",
        "      mapped.append(vocab['<UNK>'])\n",
        "  \n",
        "  # Append these mapped list to vocab_Mapped_Tokens list\n",
        "  # vocab_Mapped_Tokens list would contain mapped list for each of the sentences\n",
        "  vocab_Mapped_Tokens.append(mapped)\n",
        "\n",
        "# Add a column 'Tokenized_Data' column to train set which would contain Tokennized sentences \n",
        "# for the respective sentences using vocabulary\n",
        "train_data['Tokenized_Data'] = vocab_Mapped_Tokens\n",
        "train_data.head()"
      ],
      "metadata": {
        "colab": {
          "base_uri": "https://localhost:8080/",
          "height": 337
        },
        "id": "FUN7SE6QJaEG",
        "outputId": "59b48c52-06d1-4c36-93ff-7b0649211863"
      },
      "execution_count": null,
      "outputs": [
        {
          "output_type": "execute_result",
          "data": {
            "text/plain": [
              "                                             ner_ids  \\\n",
              "0  [62, 62, 62, 62, 62, 62, 62, 15, 62, 62, 62, 6...   \n",
              "1  [62, 62, 62, 62, 62, 62, 62, 62, 62, 62, 62, 6...   \n",
              "2  [62, 62, 62, 62, 62, 62, 62, 62, 62, 62, 62, 6...   \n",
              "3  [22, 62, 62, 62, 62, 21, 13, 44, 44, 21, 62, 1...   \n",
              "4  [62, 62, 62, 22, 53, 22, 53, 22, 53, 22, 53, 2...   \n",
              "\n",
              "                                            ner_tags  \\\n",
              "0  [O, O, O, O, O, O, O, B-Instrument, O, O, O, O...   \n",
              "1  [O, O, O, O, O, O, O, O, O, O, O, O, O, O, O, ...   \n",
              "2  [O, O, O, O, O, O, O, O, O, O, O, O, O, O, O, ...   \n",
              "3  [B-Person, O, O, O, O, B-Organization, B-Grant...   \n",
              "4  [O, O, O, B-Person, I-Person, B-Person, I-Pers...   \n",
              "\n",
              "                                              tokens  \\\n",
              "0  [Whilst, a, reasonable, harmonic, fit, to, the...   \n",
              "1  [comparison, once, the, angular, positions, of...   \n",
              "2  [ACKNOWLEDGEMENTS, The, authors, thank, an, an...   \n",
              "3  [BDM, gratefully, acknowledges, support, from,...   \n",
              "4  [ACKNOWLEDGEMENTS, We, thank, Dougal, Mackey,,...   \n",
              "\n",
              "                                      Tokenized_Data  \n",
              "0  [1, 8, 1439, 1, 203, 6, 2, 1, 36, 40, 25, 2854...  \n",
              "1  [465, 1623, 2, 321, 1203, 3, 2, 2543, 17, 1, 2...  \n",
              "2  [427, 12, 251, 50, 28, 197, 2175, 9, 193, 4, 6...  \n",
              "3  [1, 647, 79, 42, 13, 154, 1734, 62, 1, 346, 62...  \n",
              "4  [427, 21, 50, 1, 1, 1, 1, 2242, 1, 1, 1, 2242,...  "
            ],
            "text/html": [
              "\n",
              "  <div id=\"df-3d184055-084b-4b7e-91b2-629c5c66e237\">\n",
              "    <div class=\"colab-df-container\">\n",
              "      <div>\n",
              "<style scoped>\n",
              "    .dataframe tbody tr th:only-of-type {\n",
              "        vertical-align: middle;\n",
              "    }\n",
              "\n",
              "    .dataframe tbody tr th {\n",
              "        vertical-align: top;\n",
              "    }\n",
              "\n",
              "    .dataframe thead th {\n",
              "        text-align: right;\n",
              "    }\n",
              "</style>\n",
              "<table border=\"1\" class=\"dataframe\">\n",
              "  <thead>\n",
              "    <tr style=\"text-align: right;\">\n",
              "      <th></th>\n",
              "      <th>ner_ids</th>\n",
              "      <th>ner_tags</th>\n",
              "      <th>tokens</th>\n",
              "      <th>Tokenized_Data</th>\n",
              "    </tr>\n",
              "  </thead>\n",
              "  <tbody>\n",
              "    <tr>\n",
              "      <th>0</th>\n",
              "      <td>[62, 62, 62, 62, 62, 62, 62, 15, 62, 62, 62, 6...</td>\n",
              "      <td>[O, O, O, O, O, O, O, B-Instrument, O, O, O, O...</td>\n",
              "      <td>[Whilst, a, reasonable, harmonic, fit, to, the...</td>\n",
              "      <td>[1, 8, 1439, 1, 203, 6, 2, 1, 36, 40, 25, 2854...</td>\n",
              "    </tr>\n",
              "    <tr>\n",
              "      <th>1</th>\n",
              "      <td>[62, 62, 62, 62, 62, 62, 62, 62, 62, 62, 62, 6...</td>\n",
              "      <td>[O, O, O, O, O, O, O, O, O, O, O, O, O, O, O, ...</td>\n",
              "      <td>[comparison, once, the, angular, positions, of...</td>\n",
              "      <td>[465, 1623, 2, 321, 1203, 3, 2, 2543, 17, 1, 2...</td>\n",
              "    </tr>\n",
              "    <tr>\n",
              "      <th>2</th>\n",
              "      <td>[62, 62, 62, 62, 62, 62, 62, 62, 62, 62, 62, 6...</td>\n",
              "      <td>[O, O, O, O, O, O, O, O, O, O, O, O, O, O, O, ...</td>\n",
              "      <td>[ACKNOWLEDGEMENTS, The, authors, thank, an, an...</td>\n",
              "      <td>[427, 12, 251, 50, 28, 197, 2175, 9, 193, 4, 6...</td>\n",
              "    </tr>\n",
              "    <tr>\n",
              "      <th>3</th>\n",
              "      <td>[22, 62, 62, 62, 62, 21, 13, 44, 44, 21, 62, 1...</td>\n",
              "      <td>[B-Person, O, O, O, O, B-Organization, B-Grant...</td>\n",
              "      <td>[BDM, gratefully, acknowledges, support, from,...</td>\n",
              "      <td>[1, 647, 79, 42, 13, 154, 1734, 62, 1, 346, 62...</td>\n",
              "    </tr>\n",
              "    <tr>\n",
              "      <th>4</th>\n",
              "      <td>[62, 62, 62, 22, 53, 22, 53, 22, 53, 22, 53, 2...</td>\n",
              "      <td>[O, O, O, B-Person, I-Person, B-Person, I-Pers...</td>\n",
              "      <td>[ACKNOWLEDGEMENTS, We, thank, Dougal, Mackey,,...</td>\n",
              "      <td>[427, 21, 50, 1, 1, 1, 1, 2242, 1, 1, 1, 2242,...</td>\n",
              "    </tr>\n",
              "  </tbody>\n",
              "</table>\n",
              "</div>\n",
              "      <button class=\"colab-df-convert\" onclick=\"convertToInteractive('df-3d184055-084b-4b7e-91b2-629c5c66e237')\"\n",
              "              title=\"Convert this dataframe to an interactive table.\"\n",
              "              style=\"display:none;\">\n",
              "        \n",
              "  <svg xmlns=\"http://www.w3.org/2000/svg\" height=\"24px\"viewBox=\"0 0 24 24\"\n",
              "       width=\"24px\">\n",
              "    <path d=\"M0 0h24v24H0V0z\" fill=\"none\"/>\n",
              "    <path d=\"M18.56 5.44l.94 2.06.94-2.06 2.06-.94-2.06-.94-.94-2.06-.94 2.06-2.06.94zm-11 1L8.5 8.5l.94-2.06 2.06-.94-2.06-.94L8.5 2.5l-.94 2.06-2.06.94zm10 10l.94 2.06.94-2.06 2.06-.94-2.06-.94-.94-2.06-.94 2.06-2.06.94z\"/><path d=\"M17.41 7.96l-1.37-1.37c-.4-.4-.92-.59-1.43-.59-.52 0-1.04.2-1.43.59L10.3 9.45l-7.72 7.72c-.78.78-.78 2.05 0 2.83L4 21.41c.39.39.9.59 1.41.59.51 0 1.02-.2 1.41-.59l7.78-7.78 2.81-2.81c.8-.78.8-2.07 0-2.86zM5.41 20L4 18.59l7.72-7.72 1.47 1.35L5.41 20z\"/>\n",
              "  </svg>\n",
              "      </button>\n",
              "      \n",
              "  <style>\n",
              "    .colab-df-container {\n",
              "      display:flex;\n",
              "      flex-wrap:wrap;\n",
              "      gap: 12px;\n",
              "    }\n",
              "\n",
              "    .colab-df-convert {\n",
              "      background-color: #E8F0FE;\n",
              "      border: none;\n",
              "      border-radius: 50%;\n",
              "      cursor: pointer;\n",
              "      display: none;\n",
              "      fill: #1967D2;\n",
              "      height: 32px;\n",
              "      padding: 0 0 0 0;\n",
              "      width: 32px;\n",
              "    }\n",
              "\n",
              "    .colab-df-convert:hover {\n",
              "      background-color: #E2EBFA;\n",
              "      box-shadow: 0px 1px 2px rgba(60, 64, 67, 0.3), 0px 1px 3px 1px rgba(60, 64, 67, 0.15);\n",
              "      fill: #174EA6;\n",
              "    }\n",
              "\n",
              "    [theme=dark] .colab-df-convert {\n",
              "      background-color: #3B4455;\n",
              "      fill: #D2E3FC;\n",
              "    }\n",
              "\n",
              "    [theme=dark] .colab-df-convert:hover {\n",
              "      background-color: #434B5C;\n",
              "      box-shadow: 0px 1px 3px 1px rgba(0, 0, 0, 0.15);\n",
              "      filter: drop-shadow(0px 1px 2px rgba(0, 0, 0, 0.3));\n",
              "      fill: #FFFFFF;\n",
              "    }\n",
              "  </style>\n",
              "\n",
              "      <script>\n",
              "        const buttonEl =\n",
              "          document.querySelector('#df-3d184055-084b-4b7e-91b2-629c5c66e237 button.colab-df-convert');\n",
              "        buttonEl.style.display =\n",
              "          google.colab.kernel.accessAllowed ? 'block' : 'none';\n",
              "\n",
              "        async function convertToInteractive(key) {\n",
              "          const element = document.querySelector('#df-3d184055-084b-4b7e-91b2-629c5c66e237');\n",
              "          const dataTable =\n",
              "            await google.colab.kernel.invokeFunction('convertToInteractive',\n",
              "                                                     [key], {});\n",
              "          if (!dataTable) return;\n",
              "\n",
              "          const docLinkHtml = 'Like what you see? Visit the ' +\n",
              "            '<a target=\"_blank\" href=https://colab.research.google.com/notebooks/data_table.ipynb>data table notebook</a>'\n",
              "            + ' to learn more about interactive tables.';\n",
              "          element.innerHTML = '';\n",
              "          dataTable['output_type'] = 'display_data';\n",
              "          await google.colab.output.renderOutput(dataTable, element);\n",
              "          const docLink = document.createElement('div');\n",
              "          docLink.innerHTML = docLinkHtml;\n",
              "          element.appendChild(docLink);\n",
              "        }\n",
              "      </script>\n",
              "    </div>\n",
              "  </div>\n",
              "  "
            ]
          },
          "metadata": {},
          "execution_count": 19
        }
      ]
    },
    {
      "cell_type": "markdown",
      "source": [
        "##### **3.3 - Tokenizing test_data sentence tokens using the train_data vocabulary created above.**"
      ],
      "metadata": {
        "id": "7sQ4Ode3O75r"
      }
    },
    {
      "cell_type": "code",
      "source": [
        "### Getting test_data tokens in numerical representation using above train_data vocabulary ###\n",
        "\n",
        "# Creating a list 'vocab_Mapped_Tokens_test' which would contain \n",
        "# tokenized messages as per vocab dict\n",
        "vocab_Mapped_Tokens_test = []\n",
        "\n",
        "# For each row in test dataframe's 'tokens' column\n",
        "for sentence in test_data['tokens']:\n",
        "  # Creating a list 'mapped' which would contain numerical representation \n",
        "  # (from vocab dict) of the tokens present in that sentence\n",
        "  mapped = []\n",
        "  \n",
        "  # Iterating through each sentences tokens\n",
        "  for tok in sentence:\n",
        "    # if word is present in vocab dicts key, append its value(token number) to 'mapped' list\n",
        "    if tok in vocab.keys():\n",
        "      mapped.append(vocab[tok])\n",
        "    # else append the value of OOV token <UNK> which is 1\n",
        "    else:\n",
        "      mapped.append(vocab['<UNK>'])\n",
        "  \n",
        "  # Append these mapped list to vocab_Mapped_Tokens_test list\n",
        "  # vocab_Mapped_Tokens_test list would contain mapped list for each of the sentences\n",
        "  vocab_Mapped_Tokens_test.append(mapped)\n",
        "\n",
        "# Add a column 'Tokenized_Data' column to test set which would contain Tokennized sentences \n",
        "# for the respective sentences using vocabulary\n",
        "test_data['Tokenized_Data'] = vocab_Mapped_Tokens_test\n",
        "test_data.head()"
      ],
      "metadata": {
        "colab": {
          "base_uri": "https://localhost:8080/",
          "height": 206
        },
        "id": "4UFyex6vO4wU",
        "outputId": "33d226dd-111f-4fca-c879-d79682b26a87"
      },
      "execution_count": null,
      "outputs": [
        {
          "output_type": "execute_result",
          "data": {
            "text/plain": [
              "                                              tokens  \\\n",
              "0  [that, gas, outside, halos,, not, necessarily,...   \n",
              "1  [that, all, star, formation, within, Upper, Sc...   \n",
              "2  [the, PCs, would, contain, the, changes., Mate...   \n",
              "3  [arcmin, away,, in, a, low, density, environme...   \n",
              "4  [We, are, grateful, to, J., Chen,, J., Delabro...   \n",
              "\n",
              "                                      Tokenized_Data  \n",
              "0  [15, 98, 1289, 1, 39, 2663, 353, 266, 166, 172...  \n",
              "1  [15, 74, 126, 199, 119, 3498, 1, 41, 1, 2209, ...  \n",
              "2  [2, 1, 96, 2023, 2, 1, 1, 15, 17, 1, 13, 2, 25...  \n",
              "3  [3538, 1, 5, 8, 228, 78, 2182, 1, 14, 16, 1016...  \n",
              "4  [21, 17, 329, 6, 1846, 1, 1846, 1, 1, 1, 1846,...  "
            ],
            "text/html": [
              "\n",
              "  <div id=\"df-585400fa-ea24-439b-a019-71d3c4d4bfd4\">\n",
              "    <div class=\"colab-df-container\">\n",
              "      <div>\n",
              "<style scoped>\n",
              "    .dataframe tbody tr th:only-of-type {\n",
              "        vertical-align: middle;\n",
              "    }\n",
              "\n",
              "    .dataframe tbody tr th {\n",
              "        vertical-align: top;\n",
              "    }\n",
              "\n",
              "    .dataframe thead th {\n",
              "        text-align: right;\n",
              "    }\n",
              "</style>\n",
              "<table border=\"1\" class=\"dataframe\">\n",
              "  <thead>\n",
              "    <tr style=\"text-align: right;\">\n",
              "      <th></th>\n",
              "      <th>tokens</th>\n",
              "      <th>Tokenized_Data</th>\n",
              "    </tr>\n",
              "  </thead>\n",
              "  <tbody>\n",
              "    <tr>\n",
              "      <th>0</th>\n",
              "      <td>[that, gas, outside, halos,, not, necessarily,...</td>\n",
              "      <td>[15, 98, 1289, 1, 39, 2663, 353, 266, 166, 172...</td>\n",
              "    </tr>\n",
              "    <tr>\n",
              "      <th>1</th>\n",
              "      <td>[that, all, star, formation, within, Upper, Sc...</td>\n",
              "      <td>[15, 74, 126, 199, 119, 3498, 1, 41, 1, 2209, ...</td>\n",
              "    </tr>\n",
              "    <tr>\n",
              "      <th>2</th>\n",
              "      <td>[the, PCs, would, contain, the, changes., Mate...</td>\n",
              "      <td>[2, 1, 96, 2023, 2, 1, 1, 15, 17, 1, 13, 2, 25...</td>\n",
              "    </tr>\n",
              "    <tr>\n",
              "      <th>3</th>\n",
              "      <td>[arcmin, away,, in, a, low, density, environme...</td>\n",
              "      <td>[3538, 1, 5, 8, 228, 78, 2182, 1, 14, 16, 1016...</td>\n",
              "    </tr>\n",
              "    <tr>\n",
              "      <th>4</th>\n",
              "      <td>[We, are, grateful, to, J., Chen,, J., Delabro...</td>\n",
              "      <td>[21, 17, 329, 6, 1846, 1, 1846, 1, 1, 1, 1846,...</td>\n",
              "    </tr>\n",
              "  </tbody>\n",
              "</table>\n",
              "</div>\n",
              "      <button class=\"colab-df-convert\" onclick=\"convertToInteractive('df-585400fa-ea24-439b-a019-71d3c4d4bfd4')\"\n",
              "              title=\"Convert this dataframe to an interactive table.\"\n",
              "              style=\"display:none;\">\n",
              "        \n",
              "  <svg xmlns=\"http://www.w3.org/2000/svg\" height=\"24px\"viewBox=\"0 0 24 24\"\n",
              "       width=\"24px\">\n",
              "    <path d=\"M0 0h24v24H0V0z\" fill=\"none\"/>\n",
              "    <path d=\"M18.56 5.44l.94 2.06.94-2.06 2.06-.94-2.06-.94-.94-2.06-.94 2.06-2.06.94zm-11 1L8.5 8.5l.94-2.06 2.06-.94-2.06-.94L8.5 2.5l-.94 2.06-2.06.94zm10 10l.94 2.06.94-2.06 2.06-.94-2.06-.94-.94-2.06-.94 2.06-2.06.94z\"/><path d=\"M17.41 7.96l-1.37-1.37c-.4-.4-.92-.59-1.43-.59-.52 0-1.04.2-1.43.59L10.3 9.45l-7.72 7.72c-.78.78-.78 2.05 0 2.83L4 21.41c.39.39.9.59 1.41.59.51 0 1.02-.2 1.41-.59l7.78-7.78 2.81-2.81c.8-.78.8-2.07 0-2.86zM5.41 20L4 18.59l7.72-7.72 1.47 1.35L5.41 20z\"/>\n",
              "  </svg>\n",
              "      </button>\n",
              "      \n",
              "  <style>\n",
              "    .colab-df-container {\n",
              "      display:flex;\n",
              "      flex-wrap:wrap;\n",
              "      gap: 12px;\n",
              "    }\n",
              "\n",
              "    .colab-df-convert {\n",
              "      background-color: #E8F0FE;\n",
              "      border: none;\n",
              "      border-radius: 50%;\n",
              "      cursor: pointer;\n",
              "      display: none;\n",
              "      fill: #1967D2;\n",
              "      height: 32px;\n",
              "      padding: 0 0 0 0;\n",
              "      width: 32px;\n",
              "    }\n",
              "\n",
              "    .colab-df-convert:hover {\n",
              "      background-color: #E2EBFA;\n",
              "      box-shadow: 0px 1px 2px rgba(60, 64, 67, 0.3), 0px 1px 3px 1px rgba(60, 64, 67, 0.15);\n",
              "      fill: #174EA6;\n",
              "    }\n",
              "\n",
              "    [theme=dark] .colab-df-convert {\n",
              "      background-color: #3B4455;\n",
              "      fill: #D2E3FC;\n",
              "    }\n",
              "\n",
              "    [theme=dark] .colab-df-convert:hover {\n",
              "      background-color: #434B5C;\n",
              "      box-shadow: 0px 1px 3px 1px rgba(0, 0, 0, 0.15);\n",
              "      filter: drop-shadow(0px 1px 2px rgba(0, 0, 0, 0.3));\n",
              "      fill: #FFFFFF;\n",
              "    }\n",
              "  </style>\n",
              "\n",
              "      <script>\n",
              "        const buttonEl =\n",
              "          document.querySelector('#df-585400fa-ea24-439b-a019-71d3c4d4bfd4 button.colab-df-convert');\n",
              "        buttonEl.style.display =\n",
              "          google.colab.kernel.accessAllowed ? 'block' : 'none';\n",
              "\n",
              "        async function convertToInteractive(key) {\n",
              "          const element = document.querySelector('#df-585400fa-ea24-439b-a019-71d3c4d4bfd4');\n",
              "          const dataTable =\n",
              "            await google.colab.kernel.invokeFunction('convertToInteractive',\n",
              "                                                     [key], {});\n",
              "          if (!dataTable) return;\n",
              "\n",
              "          const docLinkHtml = 'Like what you see? Visit the ' +\n",
              "            '<a target=\"_blank\" href=https://colab.research.google.com/notebooks/data_table.ipynb>data table notebook</a>'\n",
              "            + ' to learn more about interactive tables.';\n",
              "          element.innerHTML = '';\n",
              "          dataTable['output_type'] = 'display_data';\n",
              "          await google.colab.output.renderOutput(dataTable, element);\n",
              "          const docLink = document.createElement('div');\n",
              "          docLink.innerHTML = docLinkHtml;\n",
              "          element.appendChild(docLink);\n",
              "        }\n",
              "      </script>\n",
              "    </div>\n",
              "  </div>\n",
              "  "
            ]
          },
          "metadata": {},
          "execution_count": 20
        }
      ]
    },
    {
      "cell_type": "code",
      "source": [
        "# Printing the shape of train and test data\n",
        "print(\"Shape of train_data: \",train_data.shape)\n",
        "print(\"Shape of test_data: \",test_data.shape)"
      ],
      "metadata": {
        "colab": {
          "base_uri": "https://localhost:8080/"
        },
        "id": "O1ZIddxRS_6B",
        "outputId": "d0b37f1d-a05f-4f9c-d391-9eb8bcc8a9c8"
      },
      "execution_count": null,
      "outputs": [
        {
          "output_type": "stream",
          "name": "stdout",
          "text": [
            "Shape of train_data:  (1739, 4)\n",
            "Shape of test_data:  (1366, 2)\n"
          ]
        }
      ]
    },
    {
      "cell_type": "code",
      "source": [
        "# Resetting indexes of train_data and test_data\n",
        "train_data.reset_index(drop=True, inplace = True)\n",
        "test_data.reset_index(drop=True, inplace = True)"
      ],
      "metadata": {
        "id": "gmqx7FH4c-qb"
      },
      "execution_count": null,
      "outputs": []
    },
    {
      "cell_type": "code",
      "source": [
        "# Storing the original train_data as df\n",
        "train_data_df = train_data"
      ],
      "metadata": {
        "id": "4JzYW_WlWUgh"
      },
      "execution_count": null,
      "outputs": []
    },
    {
      "cell_type": "markdown",
      "source": [
        "#### **4. Splitting the data in train and validation splits (80-20 split).**"
      ],
      "metadata": {
        "id": "A2O9bXclcQEt"
      }
    },
    {
      "cell_type": "code",
      "source": [
        "X_train, X_val, y_train, y_val = train_test_split(train_data.Tokenized_Data, \n",
        "                                                  train_data.ner_ids, \n",
        "                                                  test_size=0.2, \n",
        "                                                  random_state=1)\n",
        "\n",
        "# Printing the shape of train and validation data\n",
        "print(\"X_train shape: \", X_train.shape)\n",
        "print(\"y_train shape: \", y_train.shape)\n",
        "print(\"X_val shape: \", X_val.shape)\n",
        "print(\"y_val shape: \", y_val.shape)"
      ],
      "metadata": {
        "colab": {
          "base_uri": "https://localhost:8080/"
        },
        "id": "XmDQjr_HTKeg",
        "outputId": "b95119c5-09e5-4c92-85a2-a1736814b74c"
      },
      "execution_count": null,
      "outputs": [
        {
          "output_type": "stream",
          "name": "stdout",
          "text": [
            "X_train shape:  (1391,)\n",
            "y_train shape:  (1391,)\n",
            "X_val shape:  (348,)\n",
            "y_val shape:  (348,)\n"
          ]
        }
      ]
    },
    {
      "cell_type": "code",
      "source": [
        "# Printing no. of sentences for train, validation and test\n",
        "print(\"Number of sentences for training: \",X_train.shape[0])\n",
        "print(\"Number of sentences for validation: \",X_val.shape[0])\n",
        "print(\"Number of sentences for testing: \",test_data.shape[0])"
      ],
      "metadata": {
        "colab": {
          "base_uri": "https://localhost:8080/"
        },
        "id": "0p7MhUQ6dpM8",
        "outputId": "d57daa58-bde5-4614-8614-b62b942ad1c4"
      },
      "execution_count": null,
      "outputs": [
        {
          "output_type": "stream",
          "name": "stdout",
          "text": [
            "Number of sentences for training:  1391\n",
            "Number of sentences for validation:  348\n",
            "Number of sentences for testing:  1366\n"
          ]
        }
      ]
    },
    {
      "cell_type": "markdown",
      "source": [
        "#### **5. Creating the tensorflow dataset.**"
      ],
      "metadata": {
        "id": "hhuzeJR_e3Yb"
      }
    },
    {
      "cell_type": "markdown",
      "source": [
        "For the model to predict well after training on such imbalance data, we have given data in smaller batches (batch size of 8) while training the model so that model could learn other tags too. \n",
        "\n",
        "If we give data in large batches, due to the dominance of 'O' tag other tags would go unnoticed."
      ],
      "metadata": {
        "id": "JQYE31qWSdQ5"
      }
    },
    {
      "cell_type": "code",
      "source": [
        "### Note - This code is taken from helper code of HW2 ###\n",
        "\n",
        "# Small batch size for model to learn well on other tags than 'O' tag\n",
        "batch_size = 8\n",
        "train_shuffle_buffer_size = len(X_train)\n",
        "validation_shuffle_buffer_size = len(X_val)\n",
        "\n",
        "# Fill the required cells to complete the function\n",
        "def transform_pad(input, output):\n",
        "    \n",
        "    # Pad the inputs\n",
        "    input  = input.to_tensor(default_value=0, shape=[None, None])\n",
        "    \n",
        "    # Pad the outputs\n",
        "    output = output.to_tensor(default_value=0, shape=[None, None])\n",
        "    \n",
        "    return input, output\n",
        "\n",
        "train_processed_x = tf.ragged.constant(X_train)\n",
        "validate_processed_x = tf.ragged.constant(X_val)\n",
        "train_processed_y = tf.ragged.constant(y_train)\n",
        "validate_processed_y = tf.ragged.constant(y_val)\n",
        "\n",
        "# Create TF Dataset\n",
        "train_data = tf.data.Dataset.from_tensor_slices((train_processed_x, train_processed_y))\n",
        "validation_data = tf.data.Dataset.from_tensor_slices((validate_processed_x, validate_processed_y))\n",
        "\n",
        "\n",
        "#############\n",
        "# Train data\n",
        "#############\n",
        "# Apply all data processing logic\n",
        "train_data = train_data.shuffle(buffer_size=train_shuffle_buffer_size)\n",
        "train_data = train_data.batch(batch_size)\n",
        "train_data = train_data.map(transform_pad, num_parallel_calls=tf.data.AUTOTUNE)\n",
        "train_data = train_data.prefetch(tf.data.AUTOTUNE)\n",
        "\n",
        "\n",
        "##################\n",
        "# Validation data\n",
        "##################\n",
        "# Apply all data processing logic\n",
        "#validation_data = validation_data.shuffle(buffer_size=validation_shuffle_buffer_size)\n",
        "validation_data = validation_data.batch(batch_size)\n",
        "validation_data = validation_data.map(transform_pad, num_parallel_calls=tf.data.AUTOTUNE)\n",
        "validation_data = validation_data.prefetch(tf.data.AUTOTUNE)\n",
        "\n",
        "print(\"train_data\", train_data)\n",
        "print(\"validation_data\", validation_data)"
      ],
      "metadata": {
        "colab": {
          "base_uri": "https://localhost:8080/"
        },
        "id": "ECobFY3VepQD",
        "outputId": "8408a244-c4da-49ac-91bc-a54ef0381c64"
      },
      "execution_count": null,
      "outputs": [
        {
          "output_type": "stream",
          "name": "stdout",
          "text": [
            "train_data <PrefetchDataset element_spec=(TensorSpec(shape=(None, None), dtype=tf.int32, name=None), TensorSpec(shape=(None, None), dtype=tf.int32, name=None))>\n",
            "validation_data <PrefetchDataset element_spec=(TensorSpec(shape=(None, None), dtype=tf.int32, name=None), TensorSpec(shape=(None, None), dtype=tf.int32, name=None))>\n"
          ]
        }
      ]
    },
    {
      "cell_type": "code",
      "source": [
        "# View some data from train_data tf dataset\n",
        "print('Data from tf dataset:')\n",
        "for inp, out in train_data.take(3):\n",
        "  print(inp.shape)\n",
        "  print(inp[0])\n",
        "\n",
        "  print(\"************************\")\n",
        "\n",
        "  print(out.shape)\n",
        "  print(out[0])"
      ],
      "metadata": {
        "colab": {
          "base_uri": "https://localhost:8080/"
        },
        "id": "KFe80Kn9f3KU",
        "outputId": "41a79dbe-f85c-4641-fa4d-486bac260692"
      },
      "execution_count": null,
      "outputs": [
        {
          "output_type": "stream",
          "name": "stdout",
          "text": [
            "Data from tf dataset:\n",
            "(8, 578)\n",
            "tf.Tensor(\n",
            "[   5    8  748  566    2  911    3    2 4165    4    1 1006   17 1998\n",
            "    1  555   61    7  116  423    6 3176  152   23  381   40   25    1\n",
            "    1  176 2059    1    2 2240    3    1    7 1359 4265    9    1  968\n",
            "  157 1262    4   61    7    8  630 1056    9 1310    2  441  165    3\n",
            "  416  124    3    2  452 1447  655    2  118  923   61 4689  210    6\n",
            "   25 1998    1    9 1310    2  814 4312    3  416 1343 1120   34  191\n",
            "    3 2333   20  694    8  608  465   47    2   88  109   70    2  440\n",
            "    1 1620    4    5    2  381    3    1   34   45   60    2 4644  452\n",
            "    4 1122  324  317  402    5    2 2657    3    8   95   92   17    1\n",
            "    9    2    1  345    1  551   89    4    9    2    1  169    1  551\n",
            " 1858 1626    2  440    1 1620 1710 1478    6    2 1620    5    2    1\n",
            "  381    1 2155   26  381   41   82  109   10 3634    2    1 1908  227\n",
            "  168 4379   74  118 1384  435    2    1 1908 4282   19  204    1   34\n",
            "  118 4846   20    1    1    2    1  563  309   15   74  748 1236 1551\n",
            "   70    2 4173    1   83  113  124 4216    2  452    7  962   18   89\n",
            "  943  152   57    2    1 1056   43  152    1    7 3743   26   40   25\n",
            " 4189 3554   19 2134   34    2  381    3    1    2 2086  506   18    8\n",
            "  166  393  918   22    8 2327  278    3    2 4165  506  172    2 1452\n",
            "   89 1725    4   61  466 1667  139  513 1075    9   28  332 1858    2\n",
            "  452  632 4927   13    2  441    6    2    1  655    2  118  923    5\n",
            "    2  381    3    1    2 2086  506    7  746   93    6    2 4165  506\n",
            "   18   15  115 3124    1    1    1  148    1    1    2  748  506    6\n",
            "    2 4165 4016   85  172   28 1513   15    7 1359  350   43    2  111\n",
            "  470    5    2    1 1742   26  115    1 4821    1    5    1    2  452\n",
            "    7  955  209    5    2    1   45  437    1 2517    1    4 1526 1122\n",
            "  324 2285    1  317    3    2 4644  506  402    9   28 4453   11    5\n",
            "    2 2657    3    8   95 1226    9    2    1  345   89   18    1  551\n",
            " 2855    1    4    9    2    1  169   89   18    1  551 3928    1 1174\n",
            "    2    1 1250  758   34   81    1    2   88    9    2  440    1 1620\n",
            " 1710 1478    4    2   88  109    5    2    1  381    1 1478   17    1\n",
            "   12 1107  663    3 1081 1122  324    7  358 1306    6    2  540 2417\n",
            "   45   60  772  104   15    2  306   47    1    4    1 1022 1383   19\n",
            " 3925  680  216    5    2    1  169    1  551 1701   34 1041   20  937\n",
            " 1075 1623    2 1526  317   17    1    6 3868  513    9    2  391    3\n",
            "    2    1    1  103    4    3    2 4243  157  383    3    8  511    1\n",
            "    2  618   47  113 1022  129   25    1   12    0    0    0    0    0\n",
            "    0    0    0    0    0    0    0    0    0    0    0    0    0    0\n",
            "    0    0    0    0    0    0    0    0    0    0    0    0    0    0\n",
            "    0    0    0    0    0    0    0    0    0    0    0    0    0    0\n",
            "    0    0    0    0    0    0    0    0    0    0    0    0    0    0\n",
            "    0    0    0    0    0    0    0    0    0    0    0    0    0    0\n",
            "    0    0    0    0], shape=(578,), dtype=int32)\n",
            "************************\n",
            "(8, 578)\n",
            "tf.Tensor(\n",
            "[62 62 62 62 62 62 62 62 62 62 62 62 62 62 62 62 62 62 62 62 62 62 62 62\n",
            " 62 62 62 62 62 62 62 62 62 62 62 18 62 62 62 62 62 62 62 62 62 62 62 62\n",
            " 62 62 62 62 62 62 62 62 62 62 62 62 62 62 62 62 62 62 62 62 62 62 62 62\n",
            " 62 62 62 62 62 62 62 62 62 62 62 62 62 62 62 62 62 62 62 62 62 62 62 62\n",
            " 62 62 18 62 62 62 62 62 62 18 62 62 62 62 62 62 62 62 62 62 62 62 62 62\n",
            " 62 62 62 62 62 62 62 62 30 61 61 61 62 62 62 62 30 61 61 61 62 62 62 62\n",
            " 18 62 62 62 62 62 62 62 62 18 62 62 62 62 62 62 62 62 62 62 62 62 62 62\n",
            " 62 62 62 62 62 62 62 62 62 62 62 62 62 62 62 62 62 62 62 62 62 62 62 62\n",
            " 62 62 62 62 62 62 62 62 62 62 62 62 62 62 62 62 62 62 62 62 62 62 18 62\n",
            " 62 62 18 62 62 62 62 62 62 62 62 62 62 62 62 62 18 62 62 62 62 62 62 62\n",
            " 62 62 62 62 62 62 62 62 62 62 62 62 62 62 62 62 62 62 62 62 62 62 62 62\n",
            " 62 62 62 62 62 62 62 62 62 62 62 62 62 62 62 62 62 62 62 62 62 62 62 62\n",
            " 62 62 62 62 62 62 62 62 62 62 18 62 62 62 62 62 62 62 62 62 62 62 62 62\n",
            " 62 62 62 62 62 62 62 62 62 62 62 62 62 18 62 62 62 62 62 62 62 18 62 62\n",
            " 62 62 62 62 62 62 62 62 62 62 62 62 62 62 62 62 62 62 62 62 62 62 62 62\n",
            " 62 62 62 62 62 62 62 62 62 62 62 62 62 62 62 62 30 61 62 62 62 62 62 62\n",
            " 62 62 62 30 61 62 62 62 62 18 49 49 62 62 62 62 62 62 62 62 18 62 62 62\n",
            " 62 62 62 62 62 62 18 62 62 62 62 62 62 62 62 62 62 62 62 62 62 62 62 62\n",
            " 62 62 62 62 62 62 62 62 62 62 18 62 18 62 62 62 62 62 62 62 62 30 61 61\n",
            " 61 61 62 62 62 62 62 62 62 62 62 62 62 62 62 62 62 62 62 62 62 62 62 62\n",
            " 62 62 62 62 62 62 62 62 62 62 62 62 62 62 62 62 62 62 62  0  0  0  0  0\n",
            "  0  0  0  0  0  0  0  0  0  0  0  0  0  0  0  0  0  0  0  0  0  0  0  0\n",
            "  0  0  0  0  0  0  0  0  0  0  0  0  0  0  0  0  0  0  0  0  0  0  0  0\n",
            "  0  0  0  0  0  0  0  0  0  0  0  0  0  0  0  0  0  0  0  0  0  0  0  0\n",
            "  0  0], shape=(578,), dtype=int32)\n",
            "(8, 517)\n",
            "tf.Tensor(\n",
            "[  21   50    2  197  156    9  193    4 1444   26  254   31  799  268\n",
            "   10    2 3370 2469  138 4565    1  375  674    1    9  419  242    2\n",
            "    1 1585    1    0    0    0    0    0    0    0    0    0    0    0\n",
            "    0    0    0    0    0    0    0    0    0    0    0    0    0    0\n",
            "    0    0    0    0    0    0    0    0    0    0    0    0    0    0\n",
            "    0    0    0    0    0    0    0    0    0    0    0    0    0    0\n",
            "    0    0    0    0    0    0    0    0    0    0    0    0    0    0\n",
            "    0    0    0    0    0    0    0    0    0    0    0    0    0    0\n",
            "    0    0    0    0    0    0    0    0    0    0    0    0    0    0\n",
            "    0    0    0    0    0    0    0    0    0    0    0    0    0    0\n",
            "    0    0    0    0    0    0    0    0    0    0    0    0    0    0\n",
            "    0    0    0    0    0    0    0    0    0    0    0    0    0    0\n",
            "    0    0    0    0    0    0    0    0    0    0    0    0    0    0\n",
            "    0    0    0    0    0    0    0    0    0    0    0    0    0    0\n",
            "    0    0    0    0    0    0    0    0    0    0    0    0    0    0\n",
            "    0    0    0    0    0    0    0    0    0    0    0    0    0    0\n",
            "    0    0    0    0    0    0    0    0    0    0    0    0    0    0\n",
            "    0    0    0    0    0    0    0    0    0    0    0    0    0    0\n",
            "    0    0    0    0    0    0    0    0    0    0    0    0    0    0\n",
            "    0    0    0    0    0    0    0    0    0    0    0    0    0    0\n",
            "    0    0    0    0    0    0    0    0    0    0    0    0    0    0\n",
            "    0    0    0    0    0    0    0    0    0    0    0    0    0    0\n",
            "    0    0    0    0    0    0    0    0    0    0    0    0    0    0\n",
            "    0    0    0    0    0    0    0    0    0    0    0    0    0    0\n",
            "    0    0    0    0    0    0    0    0    0    0    0    0    0    0\n",
            "    0    0    0    0    0    0    0    0    0    0    0    0    0    0\n",
            "    0    0    0    0    0    0    0    0    0    0    0    0    0    0\n",
            "    0    0    0    0    0    0    0    0    0    0    0    0    0    0\n",
            "    0    0    0    0    0    0    0    0    0    0    0    0    0    0\n",
            "    0    0    0    0    0    0    0    0    0    0    0    0    0    0\n",
            "    0    0    0    0    0    0    0    0    0    0    0    0    0    0\n",
            "    0    0    0    0    0    0    0    0    0    0    0    0    0    0\n",
            "    0    0    0    0    0    0    0    0    0    0    0    0    0    0\n",
            "    0    0    0    0    0    0    0    0    0    0    0    0    0    0\n",
            "    0    0    0    0    0    0    0    0    0    0    0    0    0    0\n",
            "    0    0    0    0    0    0    0    0    0    0    0    0    0    0\n",
            "    0    0    0    0    0    0    0    0    0    0    0    0    0], shape=(517,), dtype=int32)\n",
            "************************\n",
            "(8, 517)\n",
            "tf.Tensor(\n",
            "[62 62 62 62 62 62 62 62 62 62 62 62 62 62 62 62 13 44 44 62 22 62 22 53\n",
            " 62 62 62 62 15 62 62  0  0  0  0  0  0  0  0  0  0  0  0  0  0  0  0  0\n",
            "  0  0  0  0  0  0  0  0  0  0  0  0  0  0  0  0  0  0  0  0  0  0  0  0\n",
            "  0  0  0  0  0  0  0  0  0  0  0  0  0  0  0  0  0  0  0  0  0  0  0  0\n",
            "  0  0  0  0  0  0  0  0  0  0  0  0  0  0  0  0  0  0  0  0  0  0  0  0\n",
            "  0  0  0  0  0  0  0  0  0  0  0  0  0  0  0  0  0  0  0  0  0  0  0  0\n",
            "  0  0  0  0  0  0  0  0  0  0  0  0  0  0  0  0  0  0  0  0  0  0  0  0\n",
            "  0  0  0  0  0  0  0  0  0  0  0  0  0  0  0  0  0  0  0  0  0  0  0  0\n",
            "  0  0  0  0  0  0  0  0  0  0  0  0  0  0  0  0  0  0  0  0  0  0  0  0\n",
            "  0  0  0  0  0  0  0  0  0  0  0  0  0  0  0  0  0  0  0  0  0  0  0  0\n",
            "  0  0  0  0  0  0  0  0  0  0  0  0  0  0  0  0  0  0  0  0  0  0  0  0\n",
            "  0  0  0  0  0  0  0  0  0  0  0  0  0  0  0  0  0  0  0  0  0  0  0  0\n",
            "  0  0  0  0  0  0  0  0  0  0  0  0  0  0  0  0  0  0  0  0  0  0  0  0\n",
            "  0  0  0  0  0  0  0  0  0  0  0  0  0  0  0  0  0  0  0  0  0  0  0  0\n",
            "  0  0  0  0  0  0  0  0  0  0  0  0  0  0  0  0  0  0  0  0  0  0  0  0\n",
            "  0  0  0  0  0  0  0  0  0  0  0  0  0  0  0  0  0  0  0  0  0  0  0  0\n",
            "  0  0  0  0  0  0  0  0  0  0  0  0  0  0  0  0  0  0  0  0  0  0  0  0\n",
            "  0  0  0  0  0  0  0  0  0  0  0  0  0  0  0  0  0  0  0  0  0  0  0  0\n",
            "  0  0  0  0  0  0  0  0  0  0  0  0  0  0  0  0  0  0  0  0  0  0  0  0\n",
            "  0  0  0  0  0  0  0  0  0  0  0  0  0  0  0  0  0  0  0  0  0  0  0  0\n",
            "  0  0  0  0  0  0  0  0  0  0  0  0  0  0  0  0  0  0  0  0  0  0  0  0\n",
            "  0  0  0  0  0  0  0  0  0  0  0  0  0], shape=(517,), dtype=int32)\n",
            "(8, 543)\n",
            "tf.Tensor(\n",
            "[  21  647   50 1846    1    9  334  594 3726   88   13 2090  770 3177\n",
            "    1    9  334  594 3088  690  363  770    4   28  197  156    9   28\n",
            " 2278  557    1   26  498    7  137 1709   67   54   10    2   49   63\n",
            "  173   65  314 2426    1    1   79   42   13   62    1    3    2    1\n",
            "  997    3 3887    1   31   54   10 1367    1    1    1   56   62    1\n",
            "   26   67 4869   36  109   10    2 3260    1 2220 2046    1 3910 1317\n",
            "   10    2   49 1274  747   27    7  155   10    1 1890   65    8 1420\n",
            "  250   11    2   49   63  686    0    0    0    0    0    0    0    0\n",
            "    0    0    0    0    0    0    0    0    0    0    0    0    0    0\n",
            "    0    0    0    0    0    0    0    0    0    0    0    0    0    0\n",
            "    0    0    0    0    0    0    0    0    0    0    0    0    0    0\n",
            "    0    0    0    0    0    0    0    0    0    0    0    0    0    0\n",
            "    0    0    0    0    0    0    0    0    0    0    0    0    0    0\n",
            "    0    0    0    0    0    0    0    0    0    0    0    0    0    0\n",
            "    0    0    0    0    0    0    0    0    0    0    0    0    0    0\n",
            "    0    0    0    0    0    0    0    0    0    0    0    0    0    0\n",
            "    0    0    0    0    0    0    0    0    0    0    0    0    0    0\n",
            "    0    0    0    0    0    0    0    0    0    0    0    0    0    0\n",
            "    0    0    0    0    0    0    0    0    0    0    0    0    0    0\n",
            "    0    0    0    0    0    0    0    0    0    0    0    0    0    0\n",
            "    0    0    0    0    0    0    0    0    0    0    0    0    0    0\n",
            "    0    0    0    0    0    0    0    0    0    0    0    0    0    0\n",
            "    0    0    0    0    0    0    0    0    0    0    0    0    0    0\n",
            "    0    0    0    0    0    0    0    0    0    0    0    0    0    0\n",
            "    0    0    0    0    0    0    0    0    0    0    0    0    0    0\n",
            "    0    0    0    0    0    0    0    0    0    0    0    0    0    0\n",
            "    0    0    0    0    0    0    0    0    0    0    0    0    0    0\n",
            "    0    0    0    0    0    0    0    0    0    0    0    0    0    0\n",
            "    0    0    0    0    0    0    0    0    0    0    0    0    0    0\n",
            "    0    0    0    0    0    0    0    0    0    0    0    0    0    0\n",
            "    0    0    0    0    0    0    0    0    0    0    0    0    0    0\n",
            "    0    0    0    0    0    0    0    0    0    0    0    0    0    0\n",
            "    0    0    0    0    0    0    0    0    0    0    0    0    0    0\n",
            "    0    0    0    0    0    0    0    0    0    0    0    0    0    0\n",
            "    0    0    0    0    0    0    0    0    0    0    0    0    0    0\n",
            "    0    0    0    0    0    0    0    0    0    0    0    0    0    0\n",
            "    0    0    0    0    0    0    0    0    0    0    0    0    0    0\n",
            "    0    0    0    0    0    0    0    0    0    0    0    0    0    0\n",
            "    0    0    0    0    0    0    0    0    0    0    0], shape=(543,), dtype=int32)\n",
            "************************\n",
            "(8, 543)\n",
            "tf.Tensor(\n",
            "[62 62 62 22 53 62 62 62 62 62 62 27 62 22 53 62 62 62 62 62 62 62 62 62\n",
            " 62 62 62 62 62 62 62 62 62 62 62 62 62 62 62 62 21 52 52 62 62 62 13 22\n",
            " 62 62 62 62 13 62 62 16 21 52 52 22 62 62 62 21 13 44 44 44 44 44 62 62\n",
            " 62 62 62 62 62  5 36 36 36  5 62 62 62 62 20 51 51 62 62 62 62 21 52 62\n",
            " 62 62 62 62 62 21 52 52  0  0  0  0  0  0  0  0  0  0  0  0  0  0  0  0\n",
            "  0  0  0  0  0  0  0  0  0  0  0  0  0  0  0  0  0  0  0  0  0  0  0  0\n",
            "  0  0  0  0  0  0  0  0  0  0  0  0  0  0  0  0  0  0  0  0  0  0  0  0\n",
            "  0  0  0  0  0  0  0  0  0  0  0  0  0  0  0  0  0  0  0  0  0  0  0  0\n",
            "  0  0  0  0  0  0  0  0  0  0  0  0  0  0  0  0  0  0  0  0  0  0  0  0\n",
            "  0  0  0  0  0  0  0  0  0  0  0  0  0  0  0  0  0  0  0  0  0  0  0  0\n",
            "  0  0  0  0  0  0  0  0  0  0  0  0  0  0  0  0  0  0  0  0  0  0  0  0\n",
            "  0  0  0  0  0  0  0  0  0  0  0  0  0  0  0  0  0  0  0  0  0  0  0  0\n",
            "  0  0  0  0  0  0  0  0  0  0  0  0  0  0  0  0  0  0  0  0  0  0  0  0\n",
            "  0  0  0  0  0  0  0  0  0  0  0  0  0  0  0  0  0  0  0  0  0  0  0  0\n",
            "  0  0  0  0  0  0  0  0  0  0  0  0  0  0  0  0  0  0  0  0  0  0  0  0\n",
            "  0  0  0  0  0  0  0  0  0  0  0  0  0  0  0  0  0  0  0  0  0  0  0  0\n",
            "  0  0  0  0  0  0  0  0  0  0  0  0  0  0  0  0  0  0  0  0  0  0  0  0\n",
            "  0  0  0  0  0  0  0  0  0  0  0  0  0  0  0  0  0  0  0  0  0  0  0  0\n",
            "  0  0  0  0  0  0  0  0  0  0  0  0  0  0  0  0  0  0  0  0  0  0  0  0\n",
            "  0  0  0  0  0  0  0  0  0  0  0  0  0  0  0  0  0  0  0  0  0  0  0  0\n",
            "  0  0  0  0  0  0  0  0  0  0  0  0  0  0  0  0  0  0  0  0  0  0  0  0\n",
            "  0  0  0  0  0  0  0  0  0  0  0  0  0  0  0  0  0  0  0  0  0  0  0  0\n",
            "  0  0  0  0  0  0  0  0  0  0  0  0  0  0  0], shape=(543,), dtype=int32)\n"
          ]
        }
      ]
    },
    {
      "cell_type": "markdown",
      "source": [
        "#### **6. Building Models.**"
      ],
      "metadata": {
        "id": "jcX8FI7GlXXU"
      }
    },
    {
      "cell_type": "markdown",
      "source": [
        "##### **6.1 - Baseline Model: A simple RNN network with 2 layers.**"
      ],
      "metadata": {
        "id": "sJXODrI5ltkm"
      }
    },
    {
      "cell_type": "code",
      "source": [
        "# Defining the vocab_size\n",
        "vocab_size=len(vocab)"
      ],
      "metadata": {
        "id": "O_EZxyr2V277"
      },
      "execution_count": null,
      "outputs": []
    },
    {
      "cell_type": "code",
      "source": [
        "tf.keras.backend.clear_session()\n",
        "\n",
        "########## Baseline model architecture #########\n",
        "\n",
        "# Defining the input\n",
        "inputs = tf.keras.Input(shape=(None,), dtype=tf.float32)\n",
        "\n",
        "# Defining Embedding layer to get embeddings from scratch\n",
        "embedding_input = tf.keras.layers.Embedding(vocab_size+1, 300, mask_zero=True)(inputs)\n",
        "\n",
        "# Defining the RNN layer 1\n",
        "rnn1 = tf.keras.layers.SimpleRNN(300, return_sequences=True)\n",
        "h1 = rnn1(embedding_input)\n",
        "\n",
        "# Defining the RNN layer 2\n",
        "rnn2 = tf.keras.layers.SimpleRNN(300,return_sequences=True)\n",
        "h2 = rnn2(h1)\n",
        "\n",
        "# Dense layer for prediction with activation as softmax\n",
        "prediction = TimeDistributed(tf.keras.layers.Dense(63, activation='softmax'))(h2)\n",
        "\n",
        "# Defining the baseline model\n",
        "baseline_model = tf.keras.Model(inputs=(inputs,), outputs=prediction)\n",
        "\n",
        "# Compiling the model using sparse_categorical_crossentropy as loss and Adam as optimizer\n",
        "baseline_model.compile(loss='sparse_categorical_crossentropy', \n",
        "                       optimizer=tf.keras.optimizers.Adam(0.001),\n",
        "                       metrics='accuracy')"
      ],
      "metadata": {
        "id": "o5AyfMjHeq_V"
      },
      "execution_count": null,
      "outputs": []
    },
    {
      "cell_type": "code",
      "source": [
        "# Checking summary of Baseline model\n",
        "baseline_model.summary()"
      ],
      "metadata": {
        "colab": {
          "base_uri": "https://localhost:8080/"
        },
        "id": "29GC3sfAe0Fh",
        "outputId": "c416e919-f9cb-4390-dd82-3658f24e1ac1"
      },
      "execution_count": null,
      "outputs": [
        {
          "output_type": "stream",
          "name": "stdout",
          "text": [
            "Model: \"model\"\n",
            "_________________________________________________________________\n",
            " Layer (type)                Output Shape              Param #   \n",
            "=================================================================\n",
            " input_1 (InputLayer)        [(None, None)]            0         \n",
            "                                                                 \n",
            " embedding (Embedding)       (None, None, 300)         1500600   \n",
            "                                                                 \n",
            " simple_rnn (SimpleRNN)      (None, None, 300)         180300    \n",
            "                                                                 \n",
            " simple_rnn_1 (SimpleRNN)    (None, None, 300)         180300    \n",
            "                                                                 \n",
            " time_distributed (TimeDistr  (None, None, 63)         18963     \n",
            " ibuted)                                                         \n",
            "                                                                 \n",
            "=================================================================\n",
            "Total params: 1,880,163\n",
            "Trainable params: 1,880,163\n",
            "Non-trainable params: 0\n",
            "_________________________________________________________________\n"
          ]
        }
      ]
    },
    {
      "cell_type": "code",
      "source": [
        "#Architecture of baseline model \n",
        "tf.keras.utils.plot_model(baseline_model)"
      ],
      "metadata": {
        "colab": {
          "base_uri": "https://localhost:8080/",
          "height": 466
        },
        "id": "hTKEFJYMe0IJ",
        "outputId": "09b07870-deff-47e7-d9c4-1fc1d2167fb2"
      },
      "execution_count": null,
      "outputs": [
        {
          "output_type": "execute_result",
          "data": {
            "text/plain": [
              "<IPython.core.display.Image object>"
            ],
            "image/png": "[encoded data removed]"
          },
          "metadata": {},
          "execution_count": 52
        }
      ]
    },
    {
      "cell_type": "code",
      "source": [
        "# Fitting the model on train and val dataset\n",
        "history_bm = baseline_model.fit(train_data, validation_data=validation_data, epochs=5)"
      ],
      "metadata": {
        "colab": {
          "base_uri": "https://localhost:8080/"
        },
        "id": "iAi6T3Ahe0Lg",
        "outputId": "2bc82b61-6d4b-44fe-8158-a496d2f3f5a4"
      },
      "execution_count": null,
      "outputs": [
        {
          "output_type": "stream",
          "name": "stdout",
          "text": [
            "Epoch 1/5\n",
            "174/174 [==============================] - 249s 1s/step - loss: 0.5864 - accuracy: 0.8253 - val_loss: 0.4068 - val_accuracy: 0.8380\n",
            "Epoch 2/5\n",
            "174/174 [==============================] - 207s 1s/step - loss: 0.3097 - accuracy: 0.8861 - val_loss: 0.2643 - val_accuracy: 0.8892\n",
            "Epoch 3/5\n",
            "174/174 [==============================] - 207s 1s/step - loss: 0.2287 - accuracy: 0.9083 - val_loss: 0.2253 - val_accuracy: 0.9040\n",
            "Epoch 4/5\n",
            "174/174 [==============================] - 220s 1s/step - loss: 0.1896 - accuracy: 0.9216 - val_loss: 0.1999 - val_accuracy: 0.9136\n",
            "Epoch 5/5\n",
            "174/174 [==============================] - 242s 1s/step - loss: 0.1672 - accuracy: 0.9292 - val_loss: 0.1922 - val_accuracy: 0.9160\n"
          ]
        }
      ]
    },
    {
      "cell_type": "code",
      "source": [
        "# Saving the weights of baseline rnn model\n",
        "baseline_model.save_weights('/content/gdrive/MyDrive/Univ.AI/AI3/AI3_Project/rnn_baseline_model_weights.pkl')"
      ],
      "metadata": {
        "id": "v3FJCq-_jNBI"
      },
      "execution_count": null,
      "outputs": []
    },
    {
      "cell_type": "code",
      "source": [
        "# Plotting the training and validation loss and accuracy\n",
        "fig, ax = plt.subplots(1,2,figsize = (16,6))\n",
        "ax[0].plot(history_bm.history['loss'],color='#EFAEA4',label = 'Training Loss')\n",
        "ax[0].plot(history_bm.history['val_loss'],color='#B2D7D0',label = 'Validation Loss')\n",
        "ax[1].plot(history_bm.history['accuracy'],color='#EFAEA4',label = 'Training Accuracy')\n",
        "ax[1].plot(history_bm.history['val_accuracy'],color='#B2D7D0',label = 'Validation Accuracy')\n",
        "ax[0].legend(loc='upper left')\n",
        "ax[1].legend()\n",
        "ax[0].set_xlabel('Epochs')\n",
        "ax[1].set_xlabel('Epochs');\n",
        "ax[0].set_ylabel('Loss')\n",
        "ax[1].set_ylabel('Accuracy %');\n",
        "fig.suptitle('RNN Baseline model: Training and validation loss as well as accuracy as per the epochs')"
      ],
      "metadata": {
        "colab": {
          "base_uri": "https://localhost:8080/",
          "height": 448
        },
        "id": "l3bsnuJ3f9RQ",
        "outputId": "428abc4a-3951-400b-eb80-bff7a76a6bfb"
      },
      "execution_count": null,
      "outputs": [
        {
          "output_type": "execute_result",
          "data": {
            "text/plain": [
              "Text(0.5, 0.98, 'RNN Baseline model: Training and validation loss as well as accuracy as per the epochs')"
            ]
          },
          "metadata": {},
          "execution_count": 43
        },
        {
          "output_type": "display_data",
          "data": {
            "text/plain": [
              "<Figure size 1152x432 with 2 Axes>"
            ],
            "image/png": "[encoded data removed]"
          },
          "metadata": {
            "needs_background": "light"
          }
        }
      ]
    },
    {
      "cell_type": "code",
      "source": [
        "# Loading the saved weights of baseline model\n",
        "baseline_model.load_weights('/content/gdrive/MyDrive/Univ.AI/AI3/AI3_Project/rnn_baseline_model_weights.pkl')"
      ],
      "metadata": {
        "id": "wuMO9cMxjnKb",
        "colab": {
          "base_uri": "https://localhost:8080/"
        },
        "outputId": "f8552d36-7f12-4d31-b396-15082db69f70"
      },
      "execution_count": null,
      "outputs": [
        {
          "output_type": "execute_result",
          "data": {
            "text/plain": [
              "<tensorflow.python.training.tracking.util.CheckpointLoadStatus at 0x7f3a1e187c10>"
            ]
          },
          "metadata": {},
          "execution_count": 53
        }
      ]
    },
    {
      "cell_type": "code",
      "source": [
        "# Checking the Performance of Baseline model on Train and val dataset\n",
        "print(\"Baseline model's performance on train dataset: \", baseline_model.evaluate(train_data))\n",
        "print(\"Baseline model's performance on validation dataset: \", baseline_model.evaluate(validation_data))"
      ],
      "metadata": {
        "colab": {
          "base_uri": "https://localhost:8080/"
        },
        "id": "3_xmpOldgAQU",
        "outputId": "d525ad1f-b8e5-47aa-ce2b-7b99ac43e90b"
      },
      "execution_count": null,
      "outputs": [
        {
          "output_type": "stream",
          "name": "stdout",
          "text": [
            "174/174 [==============================] - 40s 225ms/step - loss: 0.1492 - accuracy: 0.9358\n",
            "Baseline model's performance on train dataset:  [0.14918461441993713, 0.9358131885528564]\n",
            "44/44 [==============================] - 8s 184ms/step - loss: 0.1922 - accuracy: 0.9160\n",
            "Baseline model's performance on validation dataset:  [0.19216026365756989, 0.9160115122795105]\n"
          ]
        }
      ]
    },
    {
      "cell_type": "code",
      "source": [
        "# Storing the train and validation accuracy of Baseline model\n",
        "baseline_rnn_train_acc = baseline_model.evaluate(train_data)[1]\n",
        "baseline_rnn_val_acc = baseline_model.evaluate(validation_data)[1]"
      ],
      "metadata": {
        "colab": {
          "base_uri": "https://localhost:8080/"
        },
        "id": "oJd5DTs_zL3I",
        "outputId": "a86cac90-31bf-4bf0-e68e-593bfbf1be68"
      },
      "execution_count": null,
      "outputs": [
        {
          "output_type": "stream",
          "name": "stdout",
          "text": [
            "174/174 [==============================] - 32s 183ms/step - loss: 0.1493 - accuracy: 0.9358\n",
            "44/44 [==============================] - 8s 188ms/step - loss: 0.1922 - accuracy: 0.9160\n"
          ]
        }
      ]
    },
    {
      "cell_type": "markdown",
      "source": [
        "**Comments on baseline model -** <br>\n",
        "As seen from above evaluation and accuracy,loss plots of baseline model with just 2 SimpleRNN layers and embeddings from scratch, the model is performing pretty well on train as well as validation data giving accuracy of 93.5% on train data and 91.6% on validation data."
      ],
      "metadata": {
        "id": "3pxYDlTJS7aN"
      }
    },
    {
      "cell_type": "markdown",
      "source": [
        "##### **6.2 - Bidirectional LSTM model. (2 Bidirectional LSTM layers)** \n",
        "Using Bidirectional class. In Bidirectional LSTM, input flows in two directions, making it different from the regular LSTM. With the regular LSTM, we can make input flow in one direction, either backwards or forward. However, in bi-directional, we can make the input flow in both directions to preserve the future and the past information thereby improving model's performance.\n",
        "\n",
        "We have used two Bidirectional LSTM layers in our architecture."
      ],
      "metadata": {
        "id": "l2deJtDEebfp"
      }
    },
    {
      "cell_type": "code",
      "source": [
        "tf.keras.backend.clear_session()\n",
        "\n",
        "########## Bidirectional model with 2 layers #########\n",
        "\n",
        "# Defining the input\n",
        "inputs = tf.keras.Input(shape=(None,), dtype=tf.float32)\n",
        "\n",
        "# Defining Embedding layer to get embeddings from scratch\n",
        "embedding_input = tf.keras.layers.Embedding(vocab_size+1, 300, mask_zero=True)(inputs)\n",
        "\n",
        "# Defining the bidirectional LSTM layer 1\n",
        "bi_lstm1 = Bidirectional(tf.keras.layers.LSTM(300, return_sequences=True))\n",
        "h1 = bi_lstm1(embedding_input)\n",
        "\n",
        "# Defining the bidirectional LSTM layer 2\n",
        "bi_lstm2 = Bidirectional(tf.keras.layers.LSTM(300,return_sequences=True))\n",
        "h2 = bi_lstm2(h1)\n",
        "\n",
        "# Dense layer for prediction with activation as softmax\n",
        "prediction = TimeDistributed(tf.keras.layers.Dense(63, activation='softmax'))(h2)\n",
        "\n",
        "# Defining the baseline model\n",
        "bidirectional_model = tf.keras.Model(inputs=(inputs,), outputs=prediction)\n",
        "\n",
        "# Compiling the model using sparse_categorical_crossentropy as loss and Adam as optimizer\n",
        "bidirectional_model.compile(loss='sparse_categorical_crossentropy', \n",
        "                            optimizer=tf.keras.optimizers.Adam(0.001), \n",
        "                            metrics='accuracy')"
      ],
      "metadata": {
        "id": "UWwq1v6DlWtE"
      },
      "execution_count": null,
      "outputs": []
    },
    {
      "cell_type": "code",
      "source": [
        "# Checking summary of bidirectional_model\n",
        "bidirectional_model.summary()"
      ],
      "metadata": {
        "id": "ZFZ2Q0HugQws",
        "colab": {
          "base_uri": "https://localhost:8080/"
        },
        "outputId": "96f27f46-554e-4202-e64e-2c70204ecf97"
      },
      "execution_count": null,
      "outputs": [
        {
          "output_type": "stream",
          "name": "stdout",
          "text": [
            "Model: \"model\"\n",
            "_________________________________________________________________\n",
            " Layer (type)                Output Shape              Param #   \n",
            "=================================================================\n",
            " input_1 (InputLayer)        [(None, None)]            0         \n",
            "                                                                 \n",
            " embedding (Embedding)       (None, None, 300)         1500600   \n",
            "                                                                 \n",
            " bidirectional (Bidirectiona  (None, None, 600)        1442400   \n",
            " l)                                                              \n",
            "                                                                 \n",
            " bidirectional_1 (Bidirectio  (None, None, 600)        2162400   \n",
            " nal)                                                            \n",
            "                                                                 \n",
            " time_distributed (TimeDistr  (None, None, 63)         37863     \n",
            " ibuted)                                                         \n",
            "                                                                 \n",
            "=================================================================\n",
            "Total params: 5,143,263\n",
            "Trainable params: 5,143,263\n",
            "Non-trainable params: 0\n",
            "_________________________________________________________________\n"
          ]
        }
      ]
    },
    {
      "cell_type": "code",
      "source": [
        "#Architecture of bidirectional model \n",
        "tf.keras.utils.plot_model(bidirectional_model)"
      ],
      "metadata": {
        "colab": {
          "base_uri": "https://localhost:8080/",
          "height": 466
        },
        "id": "6JEta_3FWY2I",
        "outputId": "b3cc1fff-35d3-4264-ed0a-7de9b27c8fc5"
      },
      "execution_count": null,
      "outputs": [
        {
          "output_type": "execute_result",
          "data": {
            "text/plain": [
              "<IPython.core.display.Image object>"
            ],
            "image/png": "[encoded data removed]"
          },
          "metadata": {},
          "execution_count": 113
        }
      ]
    },
    {
      "cell_type": "code",
      "source": [
        "# Fitting the model on train and val dataset\n",
        "history_bidirectional_model = bidirectional_model.fit(train_data, validation_data=validation_data, epochs=5)"
      ],
      "metadata": {
        "colab": {
          "base_uri": "https://localhost:8080/"
        },
        "id": "3A4JEQQfYJI2",
        "outputId": "3106075e-e33b-4e13-bbf6-1ec71206a4c2"
      },
      "execution_count": null,
      "outputs": [
        {
          "output_type": "stream",
          "name": "stdout",
          "text": [
            "Epoch 1/5\n",
            "174/174 [==============================] - 1802s 10s/step - loss: 0.4760 - accuracy: 0.8529 - val_loss: 0.2719 - val_accuracy: 0.8856\n",
            "Epoch 2/5\n",
            "174/174 [==============================] - 1791s 10s/step - loss: 0.2235 - accuracy: 0.9109 - val_loss: 0.2065 - val_accuracy: 0.9093\n",
            "Epoch 3/5\n",
            "174/174 [==============================] - 1800s 10s/step - loss: 0.1692 - accuracy: 0.9296 - val_loss: 0.1693 - val_accuracy: 0.9261\n",
            "Epoch 4/5\n",
            "174/174 [==============================] - 1867s 11s/step - loss: 0.1376 - accuracy: 0.9410 - val_loss: 0.1533 - val_accuracy: 0.9316\n",
            "Epoch 5/5\n",
            "174/174 [==============================] - 1823s 10s/step - loss: 0.1171 - accuracy: 0.9485 - val_loss: 0.1455 - val_accuracy: 0.9355\n"
          ]
        }
      ]
    },
    {
      "cell_type": "code",
      "source": [
        "# Saving the weights of bidirectional model\n",
        "bidirectional_model.save_weights('/content/gdrive/MyDrive/Univ.AI/AI3/AI3_Project/bidirectional_model_weights.pkl')"
      ],
      "metadata": {
        "id": "NxmXnmb1mNBw"
      },
      "execution_count": null,
      "outputs": []
    },
    {
      "cell_type": "code",
      "source": [
        "# Plotting the training and validation loss and accuracy\n",
        "fig, ax = plt.subplots(1,2,figsize = (16,6))\n",
        "ax[0].plot(history_bidirectional_model.history['loss'],color='#EFAEA4',label = 'Training Loss')\n",
        "ax[0].plot(history_bidirectional_model.history['val_loss'],color='#B2D7D0',label = 'Validation Loss')\n",
        "ax[1].plot(history_bidirectional_model.history['accuracy'],color='#EFAEA4',label = 'Training Accuracy')\n",
        "ax[1].plot(history_bidirectional_model.history['val_accuracy'],color='#B2D7D0',label = 'Validation Accuracy')\n",
        "ax[0].legend(loc='upper left')\n",
        "ax[1].legend()\n",
        "ax[0].set_xlabel('Epochs')\n",
        "ax[1].set_xlabel('Epochs');\n",
        "ax[0].set_ylabel('Loss')\n",
        "ax[1].set_ylabel('Accuracy %');\n",
        "fig.suptitle('Bidirectional RNN model: Training and validation loss as well as accuracy as per the epochs')"
      ],
      "metadata": {
        "colab": {
          "base_uri": "https://localhost:8080/",
          "height": 448
        },
        "id": "37YSRokuYO8p",
        "outputId": "4d93d96a-73ed-47b8-ef13-5bc289e93352"
      },
      "execution_count": null,
      "outputs": [
        {
          "output_type": "execute_result",
          "data": {
            "text/plain": [
              "Text(0.5, 0.98, 'Bidirectional RNN model: Training and validation loss as well as accuracy as per the epochs')"
            ]
          },
          "metadata": {},
          "execution_count": 50
        },
        {
          "output_type": "display_data",
          "data": {
            "text/plain": [
              "<Figure size 1152x432 with 2 Axes>"
            ],
            "image/png": "[encoded data removed]"
          },
          "metadata": {
            "needs_background": "light"
          }
        }
      ]
    },
    {
      "cell_type": "code",
      "source": [
        "# Loading the saved weights of bidirectional model\n",
        "bidirectional_model.load_weights('/content/gdrive/MyDrive/Univ.AI/AI3/AI3_Project/bidirectional_model_weights.pkl')"
      ],
      "metadata": {
        "id": "XAENRcLcX97w",
        "colab": {
          "base_uri": "https://localhost:8080/"
        },
        "outputId": "a4fbb316-bf09-4f8d-8bc5-81decca7b9e3"
      },
      "execution_count": null,
      "outputs": [
        {
          "output_type": "execute_result",
          "data": {
            "text/plain": [
              "<tensorflow.python.training.tracking.util.CheckpointLoadStatus at 0x7f0df8661f50>"
            ]
          },
          "metadata": {},
          "execution_count": 31
        }
      ]
    },
    {
      "cell_type": "code",
      "source": [
        "# Checking the Performance of bidirectional rnn model on Train and val dataset\n",
        "print(\"Bidirectional LSTM model's performance on train dataset: \", bidirectional_model.evaluate(train_data))\n",
        "print(\"Bidirectional LSTM model's performance on validation dataset: \", bidirectional_model.evaluate(validation_data))"
      ],
      "metadata": {
        "colab": {
          "base_uri": "https://localhost:8080/"
        },
        "id": "wLVmNhKMClqv",
        "outputId": "9f526e2c-3309-4801-aa89-f9853c757376"
      },
      "execution_count": null,
      "outputs": [
        {
          "output_type": "stream",
          "name": "stdout",
          "text": [
            "174/174 [==============================] - 216s 1s/step - loss: 0.1017 - accuracy: 0.9538\n",
            "Bidirectional LSTM model's performance on train dataset:  [0.10166198015213013, 0.9537599682807922]\n",
            "44/44 [==============================] - 51s 1s/step - loss: 0.1455 - accuracy: 0.9355\n",
            "Bidirectional LSTM model's performance on validation dataset:  [0.14550848305225372, 0.935533344745636]\n"
          ]
        }
      ]
    },
    {
      "cell_type": "code",
      "source": [
        "# Storing the train and validation accuracy of bidirectional model\n",
        "bd_lstm_train_acc = bidirectional_model.evaluate(train_data)[1]\n",
        "bd_lstm_val_acc = bidirectional_model.evaluate(validation_data)[1]"
      ],
      "metadata": {
        "colab": {
          "base_uri": "https://localhost:8080/"
        },
        "id": "abFhzjjuzJIR",
        "outputId": "5b617a46-d180-4f31-cb2d-c17128c58567"
      },
      "execution_count": null,
      "outputs": [
        {
          "output_type": "stream",
          "name": "stdout",
          "text": [
            "174/174 [==============================] - 207s 1s/step - loss: 0.1016 - accuracy: 0.9538\n",
            "44/44 [==============================] - 53s 1s/step - loss: 0.1455 - accuracy: 0.9355\n"
          ]
        }
      ]
    },
    {
      "cell_type": "markdown",
      "source": [
        "**Comments on Bidirectional LSTM model. (2 Bidirectional LSTM layers) -** <br>\n",
        "As seen from above evaluation and accuracy,loss plots of Bidirectional LSTM model, with just 2 Bidirectional LSTM layers and embeddings from scratch, the model is performing better than the baseline model on train as well as validation data giving accuracy of 95.3% on train data and 93.5% on validation data."
      ],
      "metadata": {
        "id": "Ffc-fUXITtcD"
      }
    },
    {
      "cell_type": "markdown",
      "source": [
        "##### **6.3 - Baseline Model - A simple RNN network with 2 layers using Word2Vec Embeddings.**"
      ],
      "metadata": {
        "id": "Wb2628KpfXU9"
      }
    },
    {
      "cell_type": "code",
      "source": [
        "# Loading the word2vec embeddings\n",
        "embeddings_path = '/content/gdrive/MyDrive/Univ.AI/AI3/GoogleNews-vectors-negative300.bin.gz'\n",
        "word_2_vec = KeyedVectors.load_word2vec_format(embeddings_path, binary=True)"
      ],
      "metadata": {
        "id": "XDAu_ALDfj7G"
      },
      "execution_count": null,
      "outputs": []
    },
    {
      "cell_type": "code",
      "source": [
        "# Getting the words from vocab dictionary\n",
        "vocab_words = list(vocab.keys())\n",
        "\n",
        "# Finding the com_words between our vocab and word_2_vec\n",
        "word2vec_vocab = list(word_2_vec.vocab)\n",
        "com_words = list(set(vocab_words) & set(word2vec_vocab))\n",
        "\n",
        "# Printing the commn words\n",
        "print('Common words in Word2Vec and our top 5001 words tokens are: ', len(com_words))"
      ],
      "metadata": {
        "colab": {
          "base_uri": "https://localhost:8080/"
        },
        "id": "Xy_5wMb4g3ux",
        "outputId": "e8a4bf29-3c42-49b8-e14c-b9a4e0078f31"
      },
      "execution_count": null,
      "outputs": [
        {
          "output_type": "stream",
          "name": "stdout",
          "text": [
            "Common words in Word2Vec and our top 5000 words tokens are:  3693\n"
          ]
        }
      ]
    },
    {
      "cell_type": "code",
      "source": [
        "# Creating a dictionary for embeddings of all the common words.\n",
        "com_embedding_dict = {w: word_2_vec[w] for w in com_words if w != '<UNK>'}\n",
        "\n",
        "# Adding the UNK token embeddings as they it is not present in word_2_vec.\n",
        "com_embedding_dict['<UNK>'] = np.random.uniform(low=-1, high=1, size=(300,))\n",
        "\n",
        "# Creating embedding_dict a dictionary with tokens as word index and its embeddings as keys\n",
        "embedding_dict = {}\n",
        "vocab_present_tokens = []\n",
        "for word in vocab_words:\n",
        "  word_token = vocab[word]\n",
        "\n",
        "  # if the word from vocab is not present in common words list, add the embeddings of '<UNK>'\n",
        "  if word not in com_words:\n",
        "    embedding_dict[word_token] = com_embedding_dict['<UNK>']   \n",
        "  \n",
        "  # else add the embeddings from com_embedding_dict\n",
        "  else:\n",
        "    embedding_dict[word_token] = com_embedding_dict[word]\n",
        "    vocab_present_tokens.append(word_token)"
      ],
      "metadata": {
        "id": "M7E2tsapgk4y"
      },
      "execution_count": null,
      "outputs": []
    },
    {
      "cell_type": "code",
      "source": [
        "# Creating embedding matrix having token number as its index corresponding embeddings for that token number\n",
        "embedding_matrix = np.zeros(shape=(len(embedding_dict)+1,300))\n",
        "emb_dict_keys = list(embedding_dict.keys())\n",
        "for k in emb_dict_keys:\n",
        "  embedding_matrix[k] = embedding_dict[k]\n",
        "\n",
        "# Dimension of embedding matrix\n",
        "print(\"Dimension of embedding matrix: \",embedding_matrix.shape)"
      ],
      "metadata": {
        "colab": {
          "base_uri": "https://localhost:8080/"
        },
        "id": "niG-u5xofj-X",
        "outputId": "531edddb-fc46-415a-860a-b029bda09fc6"
      },
      "execution_count": null,
      "outputs": [
        {
          "output_type": "stream",
          "name": "stdout",
          "text": [
            "Dimension of embedding matrix:  (5002, 300)\n"
          ]
        }
      ]
    },
    {
      "cell_type": "markdown",
      "source": [
        "As seen from above, we have got an embedding matrix of size of vocabulary i.e. 5001 each having 300 columns representing embeddings. "
      ],
      "metadata": {
        "id": "yhKdDNq3mSCT"
      }
    },
    {
      "cell_type": "code",
      "source": [
        "# Deleting the word_2_vec to free memory\n",
        "del(word_2_vec)\n",
        "gc.collect()"
      ],
      "metadata": {
        "colab": {
          "base_uri": "https://localhost:8080/"
        },
        "id": "y2R4vOz7fkA6",
        "outputId": "a499382a-ee53-4013-f7d9-e6296909c32e"
      },
      "execution_count": null,
      "outputs": [
        {
          "output_type": "execute_result",
          "data": {
            "text/plain": [
              "211"
            ]
          },
          "metadata": {},
          "execution_count": 31
        }
      ]
    },
    {
      "cell_type": "code",
      "source": [
        "tf.keras.backend.clear_session()\n",
        "\n",
        "########## Baseline model architecture using Word2Vec Embeddings #########\n",
        "\n",
        "# Defining the input\n",
        "inputs = tf.keras.Input(shape=(None,), dtype=tf.float32)\n",
        "\n",
        "# defining embedding layer using pretrained word2vec weights saved in embedding_matrix\n",
        "# where the input dimension is the number of rows in embedding_matrix and output dimension is embedding dimension i.e. 300\n",
        "embedding_input = tf.keras.layers.Embedding(input_dim=vocab_size+1,\n",
        "                            output_dim=300,\n",
        "                            weights=[embedding_matrix],\n",
        "                            trainable=False,\n",
        "                            mask_zero = True)(inputs)\n",
        "\n",
        "# Defining the RNN layer 1\n",
        "rnn1 = tf.keras.layers.SimpleRNN(300, return_sequences=True)\n",
        "h1 = rnn1(embedding_input)\n",
        "\n",
        "# Defining the RNN layer 2\n",
        "rnn2 = tf.keras.layers.SimpleRNN(300,return_sequences=True)\n",
        "h2 = rnn2(h1)\n",
        "\n",
        "# Dense layer for prediction with activation as softmax\n",
        "prediction = TimeDistributed(tf.keras.layers.Dense(63, activation='softmax'))(h2)\n",
        "\n",
        "# Defining the baseline w2v model\n",
        "baseline_w2v_model = tf.keras.Model(inputs=(inputs,), outputs=prediction)\n",
        "\n",
        "# Compiling the model using sparse_categorical_crossentropy as loss and Adam as optimizer\n",
        "baseline_w2v_model.compile(loss='sparse_categorical_crossentropy', \n",
        "                       optimizer=tf.keras.optimizers.Adam(0.001),\n",
        "                       metrics='accuracy')"
      ],
      "metadata": {
        "id": "9BQvHOyGCHOU"
      },
      "execution_count": null,
      "outputs": []
    },
    {
      "cell_type": "code",
      "source": [
        "# Checking summary of Baseline model using Word2Vec\n",
        "baseline_w2v_model.summary()"
      ],
      "metadata": {
        "colab": {
          "base_uri": "https://localhost:8080/"
        },
        "id": "mQ5jfX74DD8-",
        "outputId": "efbac2e6-3edd-4861-e5b8-7840fcf93dcc"
      },
      "execution_count": null,
      "outputs": [
        {
          "output_type": "stream",
          "name": "stdout",
          "text": [
            "Model: \"model\"\n",
            "_________________________________________________________________\n",
            " Layer (type)                Output Shape              Param #   \n",
            "=================================================================\n",
            " input_1 (InputLayer)        [(None, None)]            0         \n",
            "                                                                 \n",
            " embedding (Embedding)       (None, None, 300)         1500600   \n",
            "                                                                 \n",
            " simple_rnn (SimpleRNN)      (None, None, 300)         180300    \n",
            "                                                                 \n",
            " simple_rnn_1 (SimpleRNN)    (None, None, 300)         180300    \n",
            "                                                                 \n",
            " time_distributed (TimeDistr  (None, None, 63)         18963     \n",
            " ibuted)                                                         \n",
            "                                                                 \n",
            "=================================================================\n",
            "Total params: 1,880,163\n",
            "Trainable params: 379,563\n",
            "Non-trainable params: 1,500,600\n",
            "_________________________________________________________________\n"
          ]
        }
      ]
    },
    {
      "cell_type": "code",
      "source": [
        "# Fitting the model on train and val dataset\n",
        "history_bm_w2v = baseline_w2v_model.fit(train_data, validation_data=validation_data, epochs=5)"
      ],
      "metadata": {
        "colab": {
          "base_uri": "https://localhost:8080/"
        },
        "id": "bI3w6hR8DD_u",
        "outputId": "f83a1cfa-6477-4223-f749-176e2c9ecbb1"
      },
      "execution_count": null,
      "outputs": [
        {
          "output_type": "stream",
          "name": "stdout",
          "text": [
            "Epoch 1/5\n",
            "174/174 [==============================] - 178s 1s/step - loss: 0.5033 - accuracy: 0.8381 - val_loss: 0.3739 - val_accuracy: 0.8515\n",
            "Epoch 2/5\n",
            "174/174 [==============================] - 247s 1s/step - loss: 0.3456 - accuracy: 0.8696 - val_loss: 0.3237 - val_accuracy: 0.8633\n",
            "Epoch 3/5\n",
            "174/174 [==============================] - 195s 1s/step - loss: 0.3020 - accuracy: 0.8785 - val_loss: 0.2864 - val_accuracy: 0.8728\n",
            "Epoch 4/5\n",
            "174/174 [==============================] - 176s 1s/step - loss: 0.2854 - accuracy: 0.8831 - val_loss: 0.2991 - val_accuracy: 0.8729\n",
            "Epoch 5/5\n",
            "174/174 [==============================] - 175s 1s/step - loss: 0.2668 - accuracy: 0.8890 - val_loss: 0.3176 - val_accuracy: 0.8734\n"
          ]
        }
      ]
    },
    {
      "cell_type": "code",
      "source": [
        "# Saving the weights of baseline word2vec rnn model\n",
        "baseline_w2v_model.save_weights('/content/gdrive/MyDrive/Univ.AI/AI3/AI3_Project/rnn_baseline_model_using_w2v_weights.pkl')"
      ],
      "metadata": {
        "id": "n1cWqfh3DECs"
      },
      "execution_count": null,
      "outputs": []
    },
    {
      "cell_type": "code",
      "source": [
        "# Plotting the training and validation loss and accuracy\n",
        "fig, ax = plt.subplots(1,2,figsize = (16,6))\n",
        "ax[0].plot(history_bm_w2v.history['loss'],color='#EFAEA4',label = 'Training Loss')\n",
        "ax[0].plot(history_bm_w2v.history['val_loss'],color='#B2D7D0',label = 'Validation Loss')\n",
        "ax[1].plot(history_bm_w2v.history['accuracy'],color='#EFAEA4',label = 'Training Accuracy')\n",
        "ax[1].plot(history_bm_w2v.history['val_accuracy'],color='#B2D7D0',label = 'Validation Accuracy')\n",
        "ax[0].legend(loc='upper left')\n",
        "ax[1].legend()\n",
        "ax[0].set_xlabel('Epochs')\n",
        "ax[1].set_xlabel('Epochs');\n",
        "ax[0].set_ylabel('Loss')\n",
        "ax[1].set_ylabel('Accuracy %');\n",
        "fig.suptitle('RNN Baseline model using Word2Vec Embeddings: Training and validation loss as well as accuracy as per the epochs')"
      ],
      "metadata": {
        "colab": {
          "base_uri": "https://localhost:8080/",
          "height": 448
        },
        "id": "qjGt6C-VDEF-",
        "outputId": "f3b59c99-0fa9-4259-d2fa-ccd384029319"
      },
      "execution_count": null,
      "outputs": [
        {
          "output_type": "execute_result",
          "data": {
            "text/plain": [
              "Text(0.5, 0.98, 'RNN Baseline model using Word2Vec Embeddings: Training and validation loss as well as accuracy as per the epochs')"
            ]
          },
          "metadata": {},
          "execution_count": 47
        },
        {
          "output_type": "display_data",
          "data": {
            "text/plain": [
              "<Figure size 1152x432 with 2 Axes>"
            ],
            "image/png": "[encoded data removed]"
          },
          "metadata": {
            "needs_background": "light"
          }
        }
      ]
    },
    {
      "cell_type": "code",
      "source": [
        "# Loading the saved weights of rnn w2v baseline model\n",
        "baseline_w2v_model.load_weights('/content/gdrive/MyDrive/Univ.AI/AI3/AI3_Project/rnn_baseline_model_using_w2v_weights.pkl')"
      ],
      "metadata": {
        "id": "SxzCKnyTDEJo"
      },
      "execution_count": null,
      "outputs": []
    },
    {
      "cell_type": "code",
      "source": [
        "# Checking the Performance of Baseline model on Train and val dataset\n",
        "print(\"Baseline model using Word2Vec Embedding performance on train dataset: \", baseline_w2v_model.evaluate(train_data))\n",
        "print(\"Baseline model using Word2Vec Embedding performance on validation dataset: \", baseline_w2v_model.evaluate(validation_data))"
      ],
      "metadata": {
        "colab": {
          "base_uri": "https://localhost:8080/"
        },
        "id": "ZNLe9FyFFJb7",
        "outputId": "74dffc98-e534-4b74-b31e-50f19e19d38a"
      },
      "execution_count": null,
      "outputs": [
        {
          "output_type": "stream",
          "name": "stdout",
          "text": [
            "174/174 [==============================] - 32s 182ms/step - loss: 0.3200 - accuracy: 0.8850\n",
            "Baseline model using Word2Vec Embedding performance on train dataset:  [0.32000255584716797, 0.8849743008613586]\n",
            "44/44 [==============================] - 8s 183ms/step - loss: 0.3176 - accuracy: 0.8734\n",
            "Baseline model using Word2Vec Embedding performance on validation dataset:  [0.3176306188106537, 0.873425304889679]\n"
          ]
        }
      ]
    },
    {
      "cell_type": "code",
      "source": [
        "# Storing the train and validation accuracy of Baseline w2v model\n",
        "baseline_rnn_w2v_train_acc = baseline_w2v_model.evaluate(train_data)[1]\n",
        "baseline_rnn_w2v_val_acc = baseline_w2v_model.evaluate(validation_data)[1]"
      ],
      "metadata": {
        "colab": {
          "base_uri": "https://localhost:8080/"
        },
        "id": "mVJUs7_8FJfz",
        "outputId": "0caadbaa-1134-47d4-a37e-173a41974262"
      },
      "execution_count": null,
      "outputs": [
        {
          "output_type": "stream",
          "name": "stdout",
          "text": [
            "174/174 [==============================] - 41s 234ms/step - loss: 0.3194 - accuracy: 0.8850\n",
            "44/44 [==============================] - 9s 208ms/step - loss: 0.3176 - accuracy: 0.8734\n"
          ]
        }
      ]
    },
    {
      "cell_type": "markdown",
      "source": [
        "**Comments on baseline model using Word2Vec Embeddings-** <br>\n",
        "As seen from above evaluation and accuracy,loss plots of baseline model using Word2Vec embeddings, as just 3693 words from corpus have embeddings present in Word2Vec, the rest of the words were replaced with the embeddings of 'UNK' tag. This would have caused the accuracy of model to be less than that baseline model from scratch."
      ],
      "metadata": {
        "id": "chhFzmMMV1pe"
      }
    },
    {
      "cell_type": "markdown",
      "source": [
        "##### **6.4 - Bidirectional LSTM model using Word2Vec Embeddings.**"
      ],
      "metadata": {
        "id": "BKrLinWvypwd"
      }
    },
    {
      "cell_type": "code",
      "source": [
        "tf.keras.backend.clear_session()\n",
        "\n",
        "########## Bidirectional LSTM model architecture using Word2Vec Embeddings #########\n",
        "\n",
        "# Defining the input\n",
        "inputs = tf.keras.Input(shape=(None,), dtype=tf.float32)\n",
        "\n",
        "# defining embedding layer using pretrained word2vec weights saved in embedding_matrix\n",
        "# where the input dimension is the number of rows in embedding_matrix and output dimension is embedding dimension i.e. 300\n",
        "embedding_input = tf.keras.layers.Embedding(input_dim=vocab_size+1,\n",
        "                            output_dim=300,\n",
        "                            weights=[embedding_matrix],\n",
        "                            trainable=False,\n",
        "                            mask_zero = True)(inputs)\n",
        "\n",
        "# Defining the LSTM layer 1\n",
        "lstm1 = Bidirectional(tf.keras.layers.LSTM(150, return_sequences=True))\n",
        "h1 = lstm1(embedding_input)\n",
        "\n",
        "# Defining the LSTM layer 2\n",
        "lstm2 = Bidirectional(tf.keras.layers.LSTM(150,return_sequences=True))\n",
        "h2 = lstm2(h1)\n",
        "\n",
        "# Dense layer for prediction with activation as softmax\n",
        "prediction = TimeDistributed(tf.keras.layers.Dense(63, activation='softmax'))(h2)\n",
        "\n",
        "# Defining the baseline model\n",
        "bidlstm_model_w2v = tf.keras.Model(inputs=(inputs,), outputs=prediction)\n",
        "\n",
        "# Compiling the model using sparse_categorical_crossentropy as loss and Adam as optimizer\n",
        "bidlstm_model_w2v.compile(loss='sparse_categorical_crossentropy', optimizer=tf.keras.optimizers.Adam(0.001), metrics='accuracy')"
      ],
      "metadata": {
        "id": "jhIRvCPyfkDx"
      },
      "execution_count": null,
      "outputs": []
    },
    {
      "cell_type": "code",
      "source": [
        "# Checking summary of Baseline model using Word2Vec\n",
        "bidlstm_model_w2v.summary()"
      ],
      "metadata": {
        "colab": {
          "base_uri": "https://localhost:8080/"
        },
        "id": "UrPAhFrifkGu",
        "outputId": "0245b746-863b-436b-8314-87d46885f175"
      },
      "execution_count": null,
      "outputs": [
        {
          "output_type": "stream",
          "name": "stdout",
          "text": [
            "Model: \"model\"\n",
            "_________________________________________________________________\n",
            " Layer (type)                Output Shape              Param #   \n",
            "=================================================================\n",
            " input_1 (InputLayer)        [(None, None)]            0         \n",
            "                                                                 \n",
            " embedding (Embedding)       (None, None, 300)         1500600   \n",
            "                                                                 \n",
            " bidirectional (Bidirectiona  (None, None, 300)        541200    \n",
            " l)                                                              \n",
            "                                                                 \n",
            " bidirectional_1 (Bidirectio  (None, None, 300)        541200    \n",
            " nal)                                                            \n",
            "                                                                 \n",
            " time_distributed (TimeDistr  (None, None, 63)         18963     \n",
            " ibuted)                                                         \n",
            "                                                                 \n",
            "=================================================================\n",
            "Total params: 2,601,963\n",
            "Trainable params: 1,101,363\n",
            "Non-trainable params: 1,500,600\n",
            "_________________________________________________________________\n"
          ]
        }
      ]
    },
    {
      "cell_type": "code",
      "source": [
        "# Fitting the model on train and val dataset\n",
        "history_bm_w2v = bidlstm_model_w2v.fit(train_data, \n",
        "                                      validation_data=validation_data, \n",
        "                                      epochs=5)"
      ],
      "metadata": {
        "colab": {
          "base_uri": "https://localhost:8080/"
        },
        "id": "8lWo9HMNfkJ9",
        "outputId": "12835f1f-db23-410f-db90-0829635ef788"
      },
      "execution_count": null,
      "outputs": [
        {
          "output_type": "stream",
          "name": "stdout",
          "text": [
            "Epoch 1/5\n",
            "174/174 [==============================] - 593s 3s/step - loss: 0.4944 - accuracy: 0.8416 - val_loss: 0.3422 - val_accuracy: 0.8578\n",
            "Epoch 2/5\n",
            "174/174 [==============================] - 568s 3s/step - loss: 0.3049 - accuracy: 0.8799 - val_loss: 0.2922 - val_accuracy: 0.8741\n",
            "Epoch 3/5\n",
            "174/174 [==============================] - 739s 4s/step - loss: 0.2654 - accuracy: 0.8909 - val_loss: 0.2581 - val_accuracy: 0.8782\n",
            "Epoch 4/5\n",
            "174/174 [==============================] - 681s 4s/step - loss: 0.2373 - accuracy: 0.8998 - val_loss: 0.2328 - val_accuracy: 0.8910\n",
            "Epoch 5/5\n",
            "174/174 [==============================] - 569s 3s/step - loss: 0.2155 - accuracy: 0.9065 - val_loss: 0.2221 - val_accuracy: 0.8946\n"
          ]
        }
      ]
    },
    {
      "cell_type": "code",
      "source": [
        "# Saving the weights of bidirectional model using Word2Vec embeddings\n",
        "bidlstm_model_w2v.save_weights('/content/gdrive/MyDrive/Univ.AI/AI3/AI3_Project/bidirectional_model_using_w2v_weights.pkl')"
      ],
      "metadata": {
        "id": "5J-RiCoqqWz8"
      },
      "execution_count": null,
      "outputs": []
    },
    {
      "cell_type": "code",
      "source": [
        "# Plotting the training and validation loss and accuracy\n",
        "fig, ax = plt.subplots(1,2,figsize = (16,6))\n",
        "ax[0].plot(history_bm_w2v.history['loss'],color='#EFAEA4',label = 'Training Loss')\n",
        "ax[0].plot(history_bm_w2v.history['val_loss'],color='#B2D7D0',label = 'Validation Loss')\n",
        "ax[1].plot(history_bm_w2v.history['accuracy'],color='#EFAEA4',label = 'Training Accuracy')\n",
        "ax[1].plot(history_bm_w2v.history['val_accuracy'],color='#B2D7D0',label = 'Validation Accuracy')\n",
        "ax[0].legend(loc='upper left')\n",
        "ax[1].legend()\n",
        "ax[0].set_xlabel('Epochs')\n",
        "ax[1].set_xlabel('Epochs');\n",
        "ax[0].set_ylabel('Loss')\n",
        "ax[1].set_ylabel('Accuracy %');\n",
        "fig.suptitle('Bidirectional LSTM model using Word2Vec Embeddings: Training and validation loss as well as accuracy as per the epochs')"
      ],
      "metadata": {
        "colab": {
          "base_uri": "https://localhost:8080/",
          "height": 448
        },
        "id": "4FIEzF395QlS",
        "outputId": "8c6b3a8e-cbd6-478f-dd09-4282c7b037d7"
      },
      "execution_count": null,
      "outputs": [
        {
          "output_type": "execute_result",
          "data": {
            "text/plain": [
              "Text(0.5, 0.98, 'Bidirectional LSTM model using Word2Vec Embeddings: Training and validation loss as well as accuracy as per the epochs')"
            ]
          },
          "metadata": {},
          "execution_count": 39
        },
        {
          "output_type": "display_data",
          "data": {
            "text/plain": [
              "<Figure size 1152x432 with 2 Axes>"
            ],
            "image/png": "[encoded data removed]"
          },
          "metadata": {
            "needs_background": "light"
          }
        }
      ]
    },
    {
      "cell_type": "code",
      "source": [
        "# Loading the saved weights of bidirectional model using Word2Vec embeddings\n",
        "bidlstm_model_w2v.load_weights('/content/gdrive/MyDrive/Univ.AI/AI3/AI3_Project/bidirectional_model_using_w2v_weights.pkl')"
      ],
      "metadata": {
        "id": "DGgxACuk5QoS"
      },
      "execution_count": null,
      "outputs": []
    },
    {
      "cell_type": "code",
      "source": [
        "# Checking the Performance of bidirectional rnn model on Train and val dataset\n",
        "print(\"Bidirectional LSTM (using Word2Vec) model's performance on train dataset: \", bidlstm_model_w2v.evaluate(train_data))\n",
        "print(\"Bidirectional LSTM (using Word2Vec) model's performance on validation dataset: \", bidlstm_model_w2v.evaluate(validation_data))"
      ],
      "metadata": {
        "colab": {
          "base_uri": "https://localhost:8080/"
        },
        "id": "mHqCFxes5Qrx",
        "outputId": "4bc767fe-ea95-4dfd-a3ea-f79dd0b7f4d6"
      },
      "execution_count": null,
      "outputs": [
        {
          "output_type": "stream",
          "name": "stdout",
          "text": [
            "174/174 [==============================] - 136s 782ms/step - loss: 0.2084 - accuracy: 0.9083\n",
            "Bidirectional LSTM (using Word2Vec) model's performance on train dataset:  [0.208370178937912, 0.9083309173583984]\n",
            "44/44 [==============================] - 32s 727ms/step - loss: 0.2221 - accuracy: 0.8946\n",
            "Bidirectional LSTM (using Word2Vec) model's performance on validation dataset:  [0.22209566831588745, 0.8946047425270081]\n"
          ]
        }
      ]
    },
    {
      "cell_type": "code",
      "source": [
        "# Storing the train and validation accuracy of bidirectional model using Word2Vec embeddings \n",
        "bd_lstm_w2v_train_acc = bidlstm_model_w2v.evaluate(train_data)[1]\n",
        "bd_lstm_w2v_val_acc = bidlstm_model_w2v.evaluate(validation_data)[1]"
      ],
      "metadata": {
        "colab": {
          "base_uri": "https://localhost:8080/"
        },
        "id": "vVf0AYWn6JmB",
        "outputId": "cae0f670-d75f-4495-b68a-1133a701c293"
      },
      "execution_count": null,
      "outputs": [
        {
          "output_type": "stream",
          "name": "stdout",
          "text": [
            "174/174 [==============================] - 126s 723ms/step - loss: 0.2083 - accuracy: 0.9083\n",
            "44/44 [==============================] - 33s 741ms/step - loss: 0.2221 - accuracy: 0.8946\n"
          ]
        }
      ]
    },
    {
      "cell_type": "markdown",
      "source": [
        "**Comments on Bidirectional LSTM model using Word2Vec Embeddings-** <br>\n",
        "As seen from above evaluation and accuracy,loss plots of Bidirectional LSTM model using Word2Vec Embeddings, it performs poorly as compared to the Bidirectional LSTM model. As just 3693 words from corpus have embeddings present in Word2Vec, the rest of the words were replaced with the embeddings of 'UNK' tag, this would have caused the accuracy of model to be less than that Bidirectional LSTM model from scratch."
      ],
      "metadata": {
        "id": "8lMMlMseWlKu"
      }
    },
    {
      "cell_type": "markdown",
      "source": [
        "##### **6.5 - Comparison of models.** \n"
      ],
      "metadata": {
        "id": "v70umQ02GuuJ"
      }
    },
    {
      "cell_type": "code",
      "source": [
        "### Creating table showing train and validation accuracy of all 4 models ###\n",
        "# Specifing the Column Names while initializing the Table\n",
        "Comp_table = PrettyTable([\"Model\", \"Train Accuracy\", \"Validation Accuracy\"])\n",
        " \n",
        "# Adding rows\n",
        "Comp_table.add_row([\"Baseline Model (2 SimpleRNN layers)\", np.round(baseline_rnn_train_acc,3), np.round(baseline_rnn_val_acc,3) ])\n",
        "Comp_table.add_row([\"Bidirectional LSTM model\", np.round(bd_lstm_train_acc,3), np.round(bd_lstm_val_acc,3) ])\n",
        "Comp_table.add_row([\"Baseline Model (Using Word2Vec Embeddings)\", np.round(baseline_rnn_w2v_train_acc,3), np.round(baseline_rnn_w2v_val_acc,3) ])\n",
        "Comp_table.add_row([\"Bidirectional LSTM (Using Word2Vec Embeddings) model\", np.round(bd_lstm_w2v_train_acc,3), np.round(bd_lstm_w2v_val_acc,3) ])\n",
        " \n",
        "# Printing the table\n",
        "print(\"Training and Vakidation Accuracies of Models trained - \")\n",
        "print(Comp_table)"
      ],
      "metadata": {
        "colab": {
          "base_uri": "https://localhost:8080/"
        },
        "id": "c3lpyQFmGlI-",
        "outputId": "c948bee2-fb10-4068-9279-8c72eee4ca7a"
      },
      "execution_count": null,
      "outputs": [
        {
          "output_type": "stream",
          "name": "stdout",
          "text": [
            "Training and Vakidation Accuracies of Models trained - \n",
            "+------------------------------------------------------+----------------+---------------------+\n",
            "|                        Model                         | Train Accuracy | Validation Accuracy |\n",
            "+------------------------------------------------------+----------------+---------------------+\n",
            "|         Baseline Model (2 SimpleRNN layers)          |     0.936      |        0.916        |\n",
            "|               Bidirectional LSTM model               |     0.954      |        0.936        |\n",
            "|      Baseline Model (Using Word2Vec Embeddings)      |     0.885      |        0.873        |\n",
            "| Bidirectional LSTM (Using Word2Vec Embeddings) model |     0.908      |        0.895        |\n",
            "+------------------------------------------------------+----------------+---------------------+\n"
          ]
        }
      ]
    },
    {
      "cell_type": "markdown",
      "source": [
        "As seen from the above comparison table - <br>\n",
        "\n",
        "**Best model** - Bidirectional LSTM model having train accuracy of 95.4% and validation accuracy of 93.6%."
      ],
      "metadata": {
        "id": "UC3Kt8LEMdxz"
      }
    },
    {
      "cell_type": "markdown",
      "source": [
        "#### **7. Evaluating model using validation data.**"
      ],
      "metadata": {
        "id": "eLV-ujn5Md2B"
      }
    },
    {
      "cell_type": "markdown",
      "source": [
        "Evaluating our best model - **bidirectional_model**  using Validation data."
      ],
      "metadata": {
        "id": "1EhO5FWoST7K"
      }
    },
    {
      "cell_type": "code",
      "source": [
        "# Getting the index of rows in validation (X_val) data\n",
        "val_indexes = list(X_val.index)\n",
        "\n",
        "# Getting the index of rows in train_data df\n",
        "train_df_indexes = list(train_data_df.index)\n",
        "\n",
        "# Getting common indexes between val_indexes and train_df_indexes\n",
        "def common(a,b): \n",
        "    c = [value for value in a if value in b] \n",
        "    return c\n",
        "ci = common(val_indexes,train_df_indexes)\n",
        "\n",
        "\n",
        "# From train_data_df, selecting only the validation data rows\n",
        "# using val_indexes list\n",
        "val_data = train_data_df.iloc[ci]\n",
        "print(\"Shape  of Validation data: \",val_data.shape)\n",
        "val_data.head()"
      ],
      "metadata": {
        "colab": {
          "base_uri": "https://localhost:8080/",
          "height": 354
        },
        "id": "2tJgTA70XSWc",
        "outputId": "a2b3a514-8ff0-40ee-ec1d-7e5a7457eee1"
      },
      "execution_count": null,
      "outputs": [
        {
          "output_type": "stream",
          "name": "stdout",
          "text": [
            "Shape  of Validation data:  (348, 4)\n"
          ]
        },
        {
          "output_type": "execute_result",
          "data": {
            "text/plain": [
              "                                                ner_ids  \\\n",
              "906   [62, 62, 62, 62, 62, 62, 62, 62, 62, 62, 62, 6...   \n",
              "267   [62, 62, 62, 62, 62, 62, 62, 62, 62, 22, 53, 2...   \n",
              "1070  [62, 62, 62, 62, 62, 62, 4, 35, 35, 35, 35, 62...   \n",
              "1410  [62, 62, 62, 62, 62, 62, 62, 62, 62, 62, 62, 6...   \n",
              "403   [62, 62, 62, 62, 62, 62, 62, 62, 62, 22, 53, 5...   \n",
              "\n",
              "                                               ner_tags  \\\n",
              "906   [O, O, O, O, O, O, O, O, O, O, O, O, O, O, O, ...   \n",
              "267   [O, O, O, O, O, O, O, O, O, B-Person, I-Person...   \n",
              "1070  [O, O, O, O, O, O, B-Citation, I-Citation, I-C...   \n",
              "1410  [O, O, O, O, O, O, O, O, O, O, O, O, O, O, O, ...   \n",
              "403   [O, O, O, O, O, O, O, O, O, B-Person, I-Person...   \n",
              "\n",
              "                                                 tokens  \\\n",
              "906   [2015, )., For, illustration,, in, Fig., 3, we...   \n",
              "267   [We, would, like, to, acknowledge, the, pionee...   \n",
              "1070  [the, turbulence-regulated, star, formation, m...   \n",
              "1410  [We, would, like, to, thank, the, anonymous, r...   \n",
              "403   [We, acknowledge, insights, and, assistance, w...   \n",
              "\n",
              "                                         Tokenized_Data  \n",
              "906   [110, 24, 83, 1, 5, 44, 60, 20, 598, 2, 223, 3...  \n",
              "267   [21, 96, 274, 6, 140, 2, 1, 67, 3, 1, 1, 1, 1,...  \n",
              "1070  [2, 1, 126, 199, 58, 3, 1, 1, 30, 430, 52, 6, ...  \n",
              "1410  [21, 96, 274, 6, 50, 2, 197, 156, 9, 786, 193,...  \n",
              "403   [21, 140, 4622, 4, 2230, 11, 36, 159, 10, 1, 1...  "
            ],
            "text/html": [
              "\n",
              "  <div id=\"df-db220ee7-4534-4a4c-aef9-55c28335ebdb\">\n",
              "    <div class=\"colab-df-container\">\n",
              "      <div>\n",
              "<style scoped>\n",
              "    .dataframe tbody tr th:only-of-type {\n",
              "        vertical-align: middle;\n",
              "    }\n",
              "\n",
              "    .dataframe tbody tr th {\n",
              "        vertical-align: top;\n",
              "    }\n",
              "\n",
              "    .dataframe thead th {\n",
              "        text-align: right;\n",
              "    }\n",
              "</style>\n",
              "<table border=\"1\" class=\"dataframe\">\n",
              "  <thead>\n",
              "    <tr style=\"text-align: right;\">\n",
              "      <th></th>\n",
              "      <th>ner_ids</th>\n",
              "      <th>ner_tags</th>\n",
              "      <th>tokens</th>\n",
              "      <th>Tokenized_Data</th>\n",
              "    </tr>\n",
              "  </thead>\n",
              "  <tbody>\n",
              "    <tr>\n",
              "      <th>906</th>\n",
              "      <td>[62, 62, 62, 62, 62, 62, 62, 62, 62, 62, 62, 6...</td>\n",
              "      <td>[O, O, O, O, O, O, O, O, O, O, O, O, O, O, O, ...</td>\n",
              "      <td>[2015, )., For, illustration,, in, Fig., 3, we...</td>\n",
              "      <td>[110, 24, 83, 1, 5, 44, 60, 20, 598, 2, 223, 3...</td>\n",
              "    </tr>\n",
              "    <tr>\n",
              "      <th>267</th>\n",
              "      <td>[62, 62, 62, 62, 62, 62, 62, 62, 62, 22, 53, 2...</td>\n",
              "      <td>[O, O, O, O, O, O, O, O, O, B-Person, I-Person...</td>\n",
              "      <td>[We, would, like, to, acknowledge, the, pionee...</td>\n",
              "      <td>[21, 96, 274, 6, 140, 2, 1, 67, 3, 1, 1, 1, 1,...</td>\n",
              "    </tr>\n",
              "    <tr>\n",
              "      <th>1070</th>\n",
              "      <td>[62, 62, 62, 62, 62, 62, 4, 35, 35, 35, 35, 62...</td>\n",
              "      <td>[O, O, O, O, O, O, B-Citation, I-Citation, I-C...</td>\n",
              "      <td>[the, turbulence-regulated, star, formation, m...</td>\n",
              "      <td>[2, 1, 126, 199, 58, 3, 1, 1, 30, 430, 52, 6, ...</td>\n",
              "    </tr>\n",
              "    <tr>\n",
              "      <th>1410</th>\n",
              "      <td>[62, 62, 62, 62, 62, 62, 62, 62, 62, 62, 62, 6...</td>\n",
              "      <td>[O, O, O, O, O, O, O, O, O, O, O, O, O, O, O, ...</td>\n",
              "      <td>[We, would, like, to, thank, the, anonymous, r...</td>\n",
              "      <td>[21, 96, 274, 6, 50, 2, 197, 156, 9, 786, 193,...</td>\n",
              "    </tr>\n",
              "    <tr>\n",
              "      <th>403</th>\n",
              "      <td>[62, 62, 62, 62, 62, 62, 62, 62, 62, 22, 53, 5...</td>\n",
              "      <td>[O, O, O, O, O, O, O, O, O, B-Person, I-Person...</td>\n",
              "      <td>[We, acknowledge, insights, and, assistance, w...</td>\n",
              "      <td>[21, 140, 4622, 4, 2230, 11, 36, 159, 10, 1, 1...</td>\n",
              "    </tr>\n",
              "  </tbody>\n",
              "</table>\n",
              "</div>\n",
              "      <button class=\"colab-df-convert\" onclick=\"convertToInteractive('df-db220ee7-4534-4a4c-aef9-55c28335ebdb')\"\n",
              "              title=\"Convert this dataframe to an interactive table.\"\n",
              "              style=\"display:none;\">\n",
              "        \n",
              "  <svg xmlns=\"http://www.w3.org/2000/svg\" height=\"24px\"viewBox=\"0 0 24 24\"\n",
              "       width=\"24px\">\n",
              "    <path d=\"M0 0h24v24H0V0z\" fill=\"none\"/>\n",
              "    <path d=\"M18.56 5.44l.94 2.06.94-2.06 2.06-.94-2.06-.94-.94-2.06-.94 2.06-2.06.94zm-11 1L8.5 8.5l.94-2.06 2.06-.94-2.06-.94L8.5 2.5l-.94 2.06-2.06.94zm10 10l.94 2.06.94-2.06 2.06-.94-2.06-.94-.94-2.06-.94 2.06-2.06.94z\"/><path d=\"M17.41 7.96l-1.37-1.37c-.4-.4-.92-.59-1.43-.59-.52 0-1.04.2-1.43.59L10.3 9.45l-7.72 7.72c-.78.78-.78 2.05 0 2.83L4 21.41c.39.39.9.59 1.41.59.51 0 1.02-.2 1.41-.59l7.78-7.78 2.81-2.81c.8-.78.8-2.07 0-2.86zM5.41 20L4 18.59l7.72-7.72 1.47 1.35L5.41 20z\"/>\n",
              "  </svg>\n",
              "      </button>\n",
              "      \n",
              "  <style>\n",
              "    .colab-df-container {\n",
              "      display:flex;\n",
              "      flex-wrap:wrap;\n",
              "      gap: 12px;\n",
              "    }\n",
              "\n",
              "    .colab-df-convert {\n",
              "      background-color: #E8F0FE;\n",
              "      border: none;\n",
              "      border-radius: 50%;\n",
              "      cursor: pointer;\n",
              "      display: none;\n",
              "      fill: #1967D2;\n",
              "      height: 32px;\n",
              "      padding: 0 0 0 0;\n",
              "      width: 32px;\n",
              "    }\n",
              "\n",
              "    .colab-df-convert:hover {\n",
              "      background-color: #E2EBFA;\n",
              "      box-shadow: 0px 1px 2px rgba(60, 64, 67, 0.3), 0px 1px 3px 1px rgba(60, 64, 67, 0.15);\n",
              "      fill: #174EA6;\n",
              "    }\n",
              "\n",
              "    [theme=dark] .colab-df-convert {\n",
              "      background-color: #3B4455;\n",
              "      fill: #D2E3FC;\n",
              "    }\n",
              "\n",
              "    [theme=dark] .colab-df-convert:hover {\n",
              "      background-color: #434B5C;\n",
              "      box-shadow: 0px 1px 3px 1px rgba(0, 0, 0, 0.15);\n",
              "      filter: drop-shadow(0px 1px 2px rgba(0, 0, 0, 0.3));\n",
              "      fill: #FFFFFF;\n",
              "    }\n",
              "  </style>\n",
              "\n",
              "      <script>\n",
              "        const buttonEl =\n",
              "          document.querySelector('#df-db220ee7-4534-4a4c-aef9-55c28335ebdb button.colab-df-convert');\n",
              "        buttonEl.style.display =\n",
              "          google.colab.kernel.accessAllowed ? 'block' : 'none';\n",
              "\n",
              "        async function convertToInteractive(key) {\n",
              "          const element = document.querySelector('#df-db220ee7-4534-4a4c-aef9-55c28335ebdb');\n",
              "          const dataTable =\n",
              "            await google.colab.kernel.invokeFunction('convertToInteractive',\n",
              "                                                     [key], {});\n",
              "          if (!dataTable) return;\n",
              "\n",
              "          const docLinkHtml = 'Like what you see? Visit the ' +\n",
              "            '<a target=\"_blank\" href=https://colab.research.google.com/notebooks/data_table.ipynb>data table notebook</a>'\n",
              "            + ' to learn more about interactive tables.';\n",
              "          element.innerHTML = '';\n",
              "          dataTable['output_type'] = 'display_data';\n",
              "          await google.colab.output.renderOutput(dataTable, element);\n",
              "          const docLink = document.createElement('div');\n",
              "          docLink.innerHTML = docLinkHtml;\n",
              "          element.appendChild(docLink);\n",
              "        }\n",
              "      </script>\n",
              "    </div>\n",
              "  </div>\n",
              "  "
            ]
          },
          "metadata": {},
          "execution_count": 33
        }
      ]
    },
    {
      "cell_type": "code",
      "source": [
        "# Creating a new column 'predicted_ner_ids' which would contain \n",
        "# predicted ner ids for respective sentence using our best model\n",
        "# 'bidirectional_model'\n",
        "val_data['Predicted_NER_tag_ids'] = None\n",
        "for idx in val_data.index:\n",
        "  prediction = bidirectional_model.predict([val_data['Tokenized_Data'][idx]]).argmax(axis=-1)\n",
        "  val_data['Predicted_NER_tag_ids'][idx] = prediction.tolist()\n",
        "\n",
        "  # Flattening the predictions to a single list\n",
        "  val_data['Predicted_NER_tag_ids'][idx] = sum(val_data['Predicted_NER_tag_ids'][idx], [])\n",
        "\n",
        "# Viewing the first few row of val_data which has a new column of predictions 'Predicted_NER_tag_ids'\n",
        "val_data.head()"
      ],
      "metadata": {
        "colab": {
          "base_uri": "https://localhost:8080/",
          "height": 337
        },
        "id": "EAwdo0OzeY8z",
        "outputId": "52befca2-dc51-47ed-897b-a8b858b98161"
      },
      "execution_count": null,
      "outputs": [
        {
          "output_type": "execute_result",
          "data": {
            "text/plain": [
              "                                                ner_ids  \\\n",
              "906   [62, 62, 62, 62, 62, 62, 62, 62, 62, 62, 62, 6...   \n",
              "267   [62, 62, 62, 62, 62, 62, 62, 62, 62, 22, 53, 2...   \n",
              "1070  [62, 62, 62, 62, 62, 62, 4, 35, 35, 35, 35, 62...   \n",
              "1410  [62, 62, 62, 62, 62, 62, 62, 62, 62, 62, 62, 6...   \n",
              "403   [62, 62, 62, 62, 62, 62, 62, 62, 62, 22, 53, 5...   \n",
              "\n",
              "                                               ner_tags  \\\n",
              "906   [O, O, O, O, O, O, O, O, O, O, O, O, O, O, O, ...   \n",
              "267   [O, O, O, O, O, O, O, O, O, B-Person, I-Person...   \n",
              "1070  [O, O, O, O, O, O, B-Citation, I-Citation, I-C...   \n",
              "1410  [O, O, O, O, O, O, O, O, O, O, O, O, O, O, O, ...   \n",
              "403   [O, O, O, O, O, O, O, O, O, B-Person, I-Person...   \n",
              "\n",
              "                                                 tokens  \\\n",
              "906   [2015, )., For, illustration,, in, Fig., 3, we...   \n",
              "267   [We, would, like, to, acknowledge, the, pionee...   \n",
              "1070  [the, turbulence-regulated, star, formation, m...   \n",
              "1410  [We, would, like, to, thank, the, anonymous, r...   \n",
              "403   [We, acknowledge, insights, and, assistance, w...   \n",
              "\n",
              "                                         Tokenized_Data  \\\n",
              "906   [110, 24, 83, 1, 5, 44, 60, 20, 598, 2, 223, 3...   \n",
              "267   [21, 96, 274, 6, 140, 2, 1, 67, 3, 1, 1, 1, 1,...   \n",
              "1070  [2, 1, 126, 199, 58, 3, 1, 1, 30, 430, 52, 6, ...   \n",
              "1410  [21, 96, 274, 6, 50, 2, 197, 156, 9, 786, 193,...   \n",
              "403   [21, 140, 4622, 4, 2230, 11, 36, 159, 10, 1, 1...   \n",
              "\n",
              "                                  Predicted_NER_tag_ids  \n",
              "906   [35, 62, 62, 62, 62, 62, 62, 62, 62, 62, 62, 6...  \n",
              "267   [62, 62, 62, 62, 62, 62, 62, 62, 62, 62, 62, 2...  \n",
              "1070  [62, 62, 62, 62, 62, 62, 4, 35, 35, 35, 35, 62...  \n",
              "1410  [62, 62, 62, 62, 62, 62, 62, 62, 62, 62, 62, 6...  \n",
              "403   [62, 62, 62, 62, 62, 62, 62, 62, 62, 27, 62, 2...  "
            ],
            "text/html": [
              "\n",
              "  <div id=\"df-a8d2fd2d-f335-406a-9881-61c94d359a93\">\n",
              "    <div class=\"colab-df-container\">\n",
              "      <div>\n",
              "<style scoped>\n",
              "    .dataframe tbody tr th:only-of-type {\n",
              "        vertical-align: middle;\n",
              "    }\n",
              "\n",
              "    .dataframe tbody tr th {\n",
              "        vertical-align: top;\n",
              "    }\n",
              "\n",
              "    .dataframe thead th {\n",
              "        text-align: right;\n",
              "    }\n",
              "</style>\n",
              "<table border=\"1\" class=\"dataframe\">\n",
              "  <thead>\n",
              "    <tr style=\"text-align: right;\">\n",
              "      <th></th>\n",
              "      <th>ner_ids</th>\n",
              "      <th>ner_tags</th>\n",
              "      <th>tokens</th>\n",
              "      <th>Tokenized_Data</th>\n",
              "      <th>Predicted_NER_tag_ids</th>\n",
              "    </tr>\n",
              "  </thead>\n",
              "  <tbody>\n",
              "    <tr>\n",
              "      <th>906</th>\n",
              "      <td>[62, 62, 62, 62, 62, 62, 62, 62, 62, 62, 62, 6...</td>\n",
              "      <td>[O, O, O, O, O, O, O, O, O, O, O, O, O, O, O, ...</td>\n",
              "      <td>[2015, )., For, illustration,, in, Fig., 3, we...</td>\n",
              "      <td>[110, 24, 83, 1, 5, 44, 60, 20, 598, 2, 223, 3...</td>\n",
              "      <td>[35, 62, 62, 62, 62, 62, 62, 62, 62, 62, 62, 6...</td>\n",
              "    </tr>\n",
              "    <tr>\n",
              "      <th>267</th>\n",
              "      <td>[62, 62, 62, 62, 62, 62, 62, 62, 62, 22, 53, 2...</td>\n",
              "      <td>[O, O, O, O, O, O, O, O, O, B-Person, I-Person...</td>\n",
              "      <td>[We, would, like, to, acknowledge, the, pionee...</td>\n",
              "      <td>[21, 96, 274, 6, 140, 2, 1, 67, 3, 1, 1, 1, 1,...</td>\n",
              "      <td>[62, 62, 62, 62, 62, 62, 62, 62, 62, 62, 62, 2...</td>\n",
              "    </tr>\n",
              "    <tr>\n",
              "      <th>1070</th>\n",
              "      <td>[62, 62, 62, 62, 62, 62, 4, 35, 35, 35, 35, 62...</td>\n",
              "      <td>[O, O, O, O, O, O, B-Citation, I-Citation, I-C...</td>\n",
              "      <td>[the, turbulence-regulated, star, formation, m...</td>\n",
              "      <td>[2, 1, 126, 199, 58, 3, 1, 1, 30, 430, 52, 6, ...</td>\n",
              "      <td>[62, 62, 62, 62, 62, 62, 4, 35, 35, 35, 35, 62...</td>\n",
              "    </tr>\n",
              "    <tr>\n",
              "      <th>1410</th>\n",
              "      <td>[62, 62, 62, 62, 62, 62, 62, 62, 62, 62, 62, 6...</td>\n",
              "      <td>[O, O, O, O, O, O, O, O, O, O, O, O, O, O, O, ...</td>\n",
              "      <td>[We, would, like, to, thank, the, anonymous, r...</td>\n",
              "      <td>[21, 96, 274, 6, 50, 2, 197, 156, 9, 786, 193,...</td>\n",
              "      <td>[62, 62, 62, 62, 62, 62, 62, 62, 62, 62, 62, 6...</td>\n",
              "    </tr>\n",
              "    <tr>\n",
              "      <th>403</th>\n",
              "      <td>[62, 62, 62, 62, 62, 62, 62, 62, 62, 22, 53, 5...</td>\n",
              "      <td>[O, O, O, O, O, O, O, O, O, B-Person, I-Person...</td>\n",
              "      <td>[We, acknowledge, insights, and, assistance, w...</td>\n",
              "      <td>[21, 140, 4622, 4, 2230, 11, 36, 159, 10, 1, 1...</td>\n",
              "      <td>[62, 62, 62, 62, 62, 62, 62, 62, 62, 27, 62, 2...</td>\n",
              "    </tr>\n",
              "  </tbody>\n",
              "</table>\n",
              "</div>\n",
              "      <button class=\"colab-df-convert\" onclick=\"convertToInteractive('df-a8d2fd2d-f335-406a-9881-61c94d359a93')\"\n",
              "              title=\"Convert this dataframe to an interactive table.\"\n",
              "              style=\"display:none;\">\n",
              "        \n",
              "  <svg xmlns=\"http://www.w3.org/2000/svg\" height=\"24px\"viewBox=\"0 0 24 24\"\n",
              "       width=\"24px\">\n",
              "    <path d=\"M0 0h24v24H0V0z\" fill=\"none\"/>\n",
              "    <path d=\"M18.56 5.44l.94 2.06.94-2.06 2.06-.94-2.06-.94-.94-2.06-.94 2.06-2.06.94zm-11 1L8.5 8.5l.94-2.06 2.06-.94-2.06-.94L8.5 2.5l-.94 2.06-2.06.94zm10 10l.94 2.06.94-2.06 2.06-.94-2.06-.94-.94-2.06-.94 2.06-2.06.94z\"/><path d=\"M17.41 7.96l-1.37-1.37c-.4-.4-.92-.59-1.43-.59-.52 0-1.04.2-1.43.59L10.3 9.45l-7.72 7.72c-.78.78-.78 2.05 0 2.83L4 21.41c.39.39.9.59 1.41.59.51 0 1.02-.2 1.41-.59l7.78-7.78 2.81-2.81c.8-.78.8-2.07 0-2.86zM5.41 20L4 18.59l7.72-7.72 1.47 1.35L5.41 20z\"/>\n",
              "  </svg>\n",
              "      </button>\n",
              "      \n",
              "  <style>\n",
              "    .colab-df-container {\n",
              "      display:flex;\n",
              "      flex-wrap:wrap;\n",
              "      gap: 12px;\n",
              "    }\n",
              "\n",
              "    .colab-df-convert {\n",
              "      background-color: #E8F0FE;\n",
              "      border: none;\n",
              "      border-radius: 50%;\n",
              "      cursor: pointer;\n",
              "      display: none;\n",
              "      fill: #1967D2;\n",
              "      height: 32px;\n",
              "      padding: 0 0 0 0;\n",
              "      width: 32px;\n",
              "    }\n",
              "\n",
              "    .colab-df-convert:hover {\n",
              "      background-color: #E2EBFA;\n",
              "      box-shadow: 0px 1px 2px rgba(60, 64, 67, 0.3), 0px 1px 3px 1px rgba(60, 64, 67, 0.15);\n",
              "      fill: #174EA6;\n",
              "    }\n",
              "\n",
              "    [theme=dark] .colab-df-convert {\n",
              "      background-color: #3B4455;\n",
              "      fill: #D2E3FC;\n",
              "    }\n",
              "\n",
              "    [theme=dark] .colab-df-convert:hover {\n",
              "      background-color: #434B5C;\n",
              "      box-shadow: 0px 1px 3px 1px rgba(0, 0, 0, 0.15);\n",
              "      filter: drop-shadow(0px 1px 2px rgba(0, 0, 0, 0.3));\n",
              "      fill: #FFFFFF;\n",
              "    }\n",
              "  </style>\n",
              "\n",
              "      <script>\n",
              "        const buttonEl =\n",
              "          document.querySelector('#df-a8d2fd2d-f335-406a-9881-61c94d359a93 button.colab-df-convert');\n",
              "        buttonEl.style.display =\n",
              "          google.colab.kernel.accessAllowed ? 'block' : 'none';\n",
              "\n",
              "        async function convertToInteractive(key) {\n",
              "          const element = document.querySelector('#df-a8d2fd2d-f335-406a-9881-61c94d359a93');\n",
              "          const dataTable =\n",
              "            await google.colab.kernel.invokeFunction('convertToInteractive',\n",
              "                                                     [key], {});\n",
              "          if (!dataTable) return;\n",
              "\n",
              "          const docLinkHtml = 'Like what you see? Visit the ' +\n",
              "            '<a target=\"_blank\" href=https://colab.research.google.com/notebooks/data_table.ipynb>data table notebook</a>'\n",
              "            + ' to learn more about interactive tables.';\n",
              "          element.innerHTML = '';\n",
              "          dataTable['output_type'] = 'display_data';\n",
              "          await google.colab.output.renderOutput(dataTable, element);\n",
              "          const docLink = document.createElement('div');\n",
              "          docLink.innerHTML = docLinkHtml;\n",
              "          element.appendChild(docLink);\n",
              "        }\n",
              "      </script>\n",
              "    </div>\n",
              "  </div>\n",
              "  "
            ]
          },
          "metadata": {},
          "execution_count": 34
        }
      ]
    },
    {
      "cell_type": "code",
      "source": [
        "# Creating a new column 'predicted_ner_tags' which would contain \n",
        "# ner tags corresponding to predicted ner ids\n",
        "val_data['Predicted_NER_tags'] = None\n",
        "for idx in val_data.index:\n",
        "  tag_ids = val_data['Predicted_NER_tag_ids'][idx]\n",
        "  tags = []\n",
        "  for t in tag_ids:\n",
        "    tags.append(ner_id_tags_dict[t])\n",
        "  val_data['Predicted_NER_tags'][idx] = tags\n",
        "\n",
        "# Viewing the first few row of val_data which has a new column of 'Predicted_NER_tags'\n",
        "# containing tags corresponding to predicted tag_ids\n",
        "val_data.head(3)"
      ],
      "metadata": {
        "colab": {
          "base_uri": "https://localhost:8080/",
          "height": 292
        },
        "id": "il5pH0XVfbvB",
        "outputId": "d05f3712-1e94-4339-a2e6-a82a562523d4"
      },
      "execution_count": null,
      "outputs": [
        {
          "output_type": "execute_result",
          "data": {
            "text/plain": [
              "                                                ner_ids  \\\n",
              "906   [62, 62, 62, 62, 62, 62, 62, 62, 62, 62, 62, 6...   \n",
              "267   [62, 62, 62, 62, 62, 62, 62, 62, 62, 22, 53, 2...   \n",
              "1070  [62, 62, 62, 62, 62, 62, 4, 35, 35, 35, 35, 62...   \n",
              "\n",
              "                                               ner_tags  \\\n",
              "906   [O, O, O, O, O, O, O, O, O, O, O, O, O, O, O, ...   \n",
              "267   [O, O, O, O, O, O, O, O, O, B-Person, I-Person...   \n",
              "1070  [O, O, O, O, O, O, B-Citation, I-Citation, I-C...   \n",
              "\n",
              "                                                 tokens  \\\n",
              "906   [2015, )., For, illustration,, in, Fig., 3, we...   \n",
              "267   [We, would, like, to, acknowledge, the, pionee...   \n",
              "1070  [the, turbulence-regulated, star, formation, m...   \n",
              "\n",
              "                                         Tokenized_Data  \\\n",
              "906   [110, 24, 83, 1, 5, 44, 60, 20, 598, 2, 223, 3...   \n",
              "267   [21, 96, 274, 6, 140, 2, 1, 67, 3, 1, 1, 1, 1,...   \n",
              "1070  [2, 1, 126, 199, 58, 3, 1, 1, 30, 430, 52, 6, ...   \n",
              "\n",
              "                                  Predicted_NER_tag_ids  \\\n",
              "906   [35, 62, 62, 62, 62, 62, 62, 62, 62, 62, 62, 6...   \n",
              "267   [62, 62, 62, 62, 62, 62, 62, 62, 62, 62, 62, 2...   \n",
              "1070  [62, 62, 62, 62, 62, 62, 4, 35, 35, 35, 35, 62...   \n",
              "\n",
              "                                     Predicted_NER_tags  \n",
              "906   [I-Citation, O, O, O, O, O, O, O, O, O, O, O, ...  \n",
              "267   [O, O, O, O, O, O, O, O, O, O, O, B-Person, O,...  \n",
              "1070  [O, O, O, O, O, O, B-Citation, I-Citation, I-C...  "
            ],
            "text/html": [
              "\n",
              "  <div id=\"df-2995f89f-846d-4880-ac75-2969590c7666\">\n",
              "    <div class=\"colab-df-container\">\n",
              "      <div>\n",
              "<style scoped>\n",
              "    .dataframe tbody tr th:only-of-type {\n",
              "        vertical-align: middle;\n",
              "    }\n",
              "\n",
              "    .dataframe tbody tr th {\n",
              "        vertical-align: top;\n",
              "    }\n",
              "\n",
              "    .dataframe thead th {\n",
              "        text-align: right;\n",
              "    }\n",
              "</style>\n",
              "<table border=\"1\" class=\"dataframe\">\n",
              "  <thead>\n",
              "    <tr style=\"text-align: right;\">\n",
              "      <th></th>\n",
              "      <th>ner_ids</th>\n",
              "      <th>ner_tags</th>\n",
              "      <th>tokens</th>\n",
              "      <th>Tokenized_Data</th>\n",
              "      <th>Predicted_NER_tag_ids</th>\n",
              "      <th>Predicted_NER_tags</th>\n",
              "    </tr>\n",
              "  </thead>\n",
              "  <tbody>\n",
              "    <tr>\n",
              "      <th>906</th>\n",
              "      <td>[62, 62, 62, 62, 62, 62, 62, 62, 62, 62, 62, 6...</td>\n",
              "      <td>[O, O, O, O, O, O, O, O, O, O, O, O, O, O, O, ...</td>\n",
              "      <td>[2015, )., For, illustration,, in, Fig., 3, we...</td>\n",
              "      <td>[110, 24, 83, 1, 5, 44, 60, 20, 598, 2, 223, 3...</td>\n",
              "      <td>[35, 62, 62, 62, 62, 62, 62, 62, 62, 62, 62, 6...</td>\n",
              "      <td>[I-Citation, O, O, O, O, O, O, O, O, O, O, O, ...</td>\n",
              "    </tr>\n",
              "    <tr>\n",
              "      <th>267</th>\n",
              "      <td>[62, 62, 62, 62, 62, 62, 62, 62, 62, 22, 53, 2...</td>\n",
              "      <td>[O, O, O, O, O, O, O, O, O, B-Person, I-Person...</td>\n",
              "      <td>[We, would, like, to, acknowledge, the, pionee...</td>\n",
              "      <td>[21, 96, 274, 6, 140, 2, 1, 67, 3, 1, 1, 1, 1,...</td>\n",
              "      <td>[62, 62, 62, 62, 62, 62, 62, 62, 62, 62, 62, 2...</td>\n",
              "      <td>[O, O, O, O, O, O, O, O, O, O, O, B-Person, O,...</td>\n",
              "    </tr>\n",
              "    <tr>\n",
              "      <th>1070</th>\n",
              "      <td>[62, 62, 62, 62, 62, 62, 4, 35, 35, 35, 35, 62...</td>\n",
              "      <td>[O, O, O, O, O, O, B-Citation, I-Citation, I-C...</td>\n",
              "      <td>[the, turbulence-regulated, star, formation, m...</td>\n",
              "      <td>[2, 1, 126, 199, 58, 3, 1, 1, 30, 430, 52, 6, ...</td>\n",
              "      <td>[62, 62, 62, 62, 62, 62, 4, 35, 35, 35, 35, 62...</td>\n",
              "      <td>[O, O, O, O, O, O, B-Citation, I-Citation, I-C...</td>\n",
              "    </tr>\n",
              "  </tbody>\n",
              "</table>\n",
              "</div>\n",
              "      <button class=\"colab-df-convert\" onclick=\"convertToInteractive('df-2995f89f-846d-4880-ac75-2969590c7666')\"\n",
              "              title=\"Convert this dataframe to an interactive table.\"\n",
              "              style=\"display:none;\">\n",
              "        \n",
              "  <svg xmlns=\"http://www.w3.org/2000/svg\" height=\"24px\"viewBox=\"0 0 24 24\"\n",
              "       width=\"24px\">\n",
              "    <path d=\"M0 0h24v24H0V0z\" fill=\"none\"/>\n",
              "    <path d=\"M18.56 5.44l.94 2.06.94-2.06 2.06-.94-2.06-.94-.94-2.06-.94 2.06-2.06.94zm-11 1L8.5 8.5l.94-2.06 2.06-.94-2.06-.94L8.5 2.5l-.94 2.06-2.06.94zm10 10l.94 2.06.94-2.06 2.06-.94-2.06-.94-.94-2.06-.94 2.06-2.06.94z\"/><path d=\"M17.41 7.96l-1.37-1.37c-.4-.4-.92-.59-1.43-.59-.52 0-1.04.2-1.43.59L10.3 9.45l-7.72 7.72c-.78.78-.78 2.05 0 2.83L4 21.41c.39.39.9.59 1.41.59.51 0 1.02-.2 1.41-.59l7.78-7.78 2.81-2.81c.8-.78.8-2.07 0-2.86zM5.41 20L4 18.59l7.72-7.72 1.47 1.35L5.41 20z\"/>\n",
              "  </svg>\n",
              "      </button>\n",
              "      \n",
              "  <style>\n",
              "    .colab-df-container {\n",
              "      display:flex;\n",
              "      flex-wrap:wrap;\n",
              "      gap: 12px;\n",
              "    }\n",
              "\n",
              "    .colab-df-convert {\n",
              "      background-color: #E8F0FE;\n",
              "      border: none;\n",
              "      border-radius: 50%;\n",
              "      cursor: pointer;\n",
              "      display: none;\n",
              "      fill: #1967D2;\n",
              "      height: 32px;\n",
              "      padding: 0 0 0 0;\n",
              "      width: 32px;\n",
              "    }\n",
              "\n",
              "    .colab-df-convert:hover {\n",
              "      background-color: #E2EBFA;\n",
              "      box-shadow: 0px 1px 2px rgba(60, 64, 67, 0.3), 0px 1px 3px 1px rgba(60, 64, 67, 0.15);\n",
              "      fill: #174EA6;\n",
              "    }\n",
              "\n",
              "    [theme=dark] .colab-df-convert {\n",
              "      background-color: #3B4455;\n",
              "      fill: #D2E3FC;\n",
              "    }\n",
              "\n",
              "    [theme=dark] .colab-df-convert:hover {\n",
              "      background-color: #434B5C;\n",
              "      box-shadow: 0px 1px 3px 1px rgba(0, 0, 0, 0.15);\n",
              "      filter: drop-shadow(0px 1px 2px rgba(0, 0, 0, 0.3));\n",
              "      fill: #FFFFFF;\n",
              "    }\n",
              "  </style>\n",
              "\n",
              "      <script>\n",
              "        const buttonEl =\n",
              "          document.querySelector('#df-2995f89f-846d-4880-ac75-2969590c7666 button.colab-df-convert');\n",
              "        buttonEl.style.display =\n",
              "          google.colab.kernel.accessAllowed ? 'block' : 'none';\n",
              "\n",
              "        async function convertToInteractive(key) {\n",
              "          const element = document.querySelector('#df-2995f89f-846d-4880-ac75-2969590c7666');\n",
              "          const dataTable =\n",
              "            await google.colab.kernel.invokeFunction('convertToInteractive',\n",
              "                                                     [key], {});\n",
              "          if (!dataTable) return;\n",
              "\n",
              "          const docLinkHtml = 'Like what you see? Visit the ' +\n",
              "            '<a target=\"_blank\" href=https://colab.research.google.com/notebooks/data_table.ipynb>data table notebook</a>'\n",
              "            + ' to learn more about interactive tables.';\n",
              "          element.innerHTML = '';\n",
              "          dataTable['output_type'] = 'display_data';\n",
              "          await google.colab.output.renderOutput(dataTable, element);\n",
              "          const docLink = document.createElement('div');\n",
              "          docLink.innerHTML = docLinkHtml;\n",
              "          element.appendChild(docLink);\n",
              "        }\n",
              "      </script>\n",
              "    </div>\n",
              "  </div>\n",
              "  "
            ]
          },
          "metadata": {},
          "execution_count": 36
        }
      ]
    },
    {
      "cell_type": "code",
      "source": [
        "# Dropping the 'Tokenized_Data' column from val_data as it is not need now for evaluating model\n",
        "val_data.drop('Tokenized_Data', axis=1, inplace = True)"
      ],
      "metadata": {
        "id": "14gGnGiGhZk0"
      },
      "execution_count": null,
      "outputs": []
    },
    {
      "cell_type": "code",
      "source": [
        "# Using df.explode on val_data for all columns to get single tokens and its corresponding data in a row\n",
        "val_data_exp = val_data.explode(['ner_ids', 'ner_tags', 'tokens', 'Predicted_NER_tag_ids', 'Predicted_NER_tags'])\n",
        "print(\"Shape after separating tokens and its corresponding predicted and actual ner tags and ids: \",val_data_exp.shape)\n",
        "\n",
        "\n",
        "# Viewing first few rows of exploded val_data_exp\n",
        "val_data_exp.head()"
      ],
      "metadata": {
        "colab": {
          "base_uri": "https://localhost:8080/",
          "height": 223
        },
        "id": "brUux6h7hE0I",
        "outputId": "d5ebbed3-3d89-431e-93e3-5c7fdcfe4550"
      },
      "execution_count": null,
      "outputs": [
        {
          "output_type": "stream",
          "name": "stdout",
          "text": [
            "Shape after separating tokens and its corresponding predicted and actual ner tags and ids:  (105574, 5)\n"
          ]
        },
        {
          "output_type": "execute_result",
          "data": {
            "text/plain": [
              "    ner_ids ner_tags         tokens Predicted_NER_tag_ids Predicted_NER_tags\n",
              "906      62        O           2015                    35         I-Citation\n",
              "906      62        O             ).                    62                  O\n",
              "906      62        O            For                    62                  O\n",
              "906      62        O  illustration,                    62                  O\n",
              "906      62        O             in                    62                  O"
            ],
            "text/html": [
              "\n",
              "  <div id=\"df-60ccd924-7c69-43b5-b81d-ad3c48e2c731\">\n",
              "    <div class=\"colab-df-container\">\n",
              "      <div>\n",
              "<style scoped>\n",
              "    .dataframe tbody tr th:only-of-type {\n",
              "        vertical-align: middle;\n",
              "    }\n",
              "\n",
              "    .dataframe tbody tr th {\n",
              "        vertical-align: top;\n",
              "    }\n",
              "\n",
              "    .dataframe thead th {\n",
              "        text-align: right;\n",
              "    }\n",
              "</style>\n",
              "<table border=\"1\" class=\"dataframe\">\n",
              "  <thead>\n",
              "    <tr style=\"text-align: right;\">\n",
              "      <th></th>\n",
              "      <th>ner_ids</th>\n",
              "      <th>ner_tags</th>\n",
              "      <th>tokens</th>\n",
              "      <th>Predicted_NER_tag_ids</th>\n",
              "      <th>Predicted_NER_tags</th>\n",
              "    </tr>\n",
              "  </thead>\n",
              "  <tbody>\n",
              "    <tr>\n",
              "      <th>906</th>\n",
              "      <td>62</td>\n",
              "      <td>O</td>\n",
              "      <td>2015</td>\n",
              "      <td>35</td>\n",
              "      <td>I-Citation</td>\n",
              "    </tr>\n",
              "    <tr>\n",
              "      <th>906</th>\n",
              "      <td>62</td>\n",
              "      <td>O</td>\n",
              "      <td>).</td>\n",
              "      <td>62</td>\n",
              "      <td>O</td>\n",
              "    </tr>\n",
              "    <tr>\n",
              "      <th>906</th>\n",
              "      <td>62</td>\n",
              "      <td>O</td>\n",
              "      <td>For</td>\n",
              "      <td>62</td>\n",
              "      <td>O</td>\n",
              "    </tr>\n",
              "    <tr>\n",
              "      <th>906</th>\n",
              "      <td>62</td>\n",
              "      <td>O</td>\n",
              "      <td>illustration,</td>\n",
              "      <td>62</td>\n",
              "      <td>O</td>\n",
              "    </tr>\n",
              "    <tr>\n",
              "      <th>906</th>\n",
              "      <td>62</td>\n",
              "      <td>O</td>\n",
              "      <td>in</td>\n",
              "      <td>62</td>\n",
              "      <td>O</td>\n",
              "    </tr>\n",
              "  </tbody>\n",
              "</table>\n",
              "</div>\n",
              "      <button class=\"colab-df-convert\" onclick=\"convertToInteractive('df-60ccd924-7c69-43b5-b81d-ad3c48e2c731')\"\n",
              "              title=\"Convert this dataframe to an interactive table.\"\n",
              "              style=\"display:none;\">\n",
              "        \n",
              "  <svg xmlns=\"http://www.w3.org/2000/svg\" height=\"24px\"viewBox=\"0 0 24 24\"\n",
              "       width=\"24px\">\n",
              "    <path d=\"M0 0h24v24H0V0z\" fill=\"none\"/>\n",
              "    <path d=\"M18.56 5.44l.94 2.06.94-2.06 2.06-.94-2.06-.94-.94-2.06-.94 2.06-2.06.94zm-11 1L8.5 8.5l.94-2.06 2.06-.94-2.06-.94L8.5 2.5l-.94 2.06-2.06.94zm10 10l.94 2.06.94-2.06 2.06-.94-2.06-.94-.94-2.06-.94 2.06-2.06.94z\"/><path d=\"M17.41 7.96l-1.37-1.37c-.4-.4-.92-.59-1.43-.59-.52 0-1.04.2-1.43.59L10.3 9.45l-7.72 7.72c-.78.78-.78 2.05 0 2.83L4 21.41c.39.39.9.59 1.41.59.51 0 1.02-.2 1.41-.59l7.78-7.78 2.81-2.81c.8-.78.8-2.07 0-2.86zM5.41 20L4 18.59l7.72-7.72 1.47 1.35L5.41 20z\"/>\n",
              "  </svg>\n",
              "      </button>\n",
              "      \n",
              "  <style>\n",
              "    .colab-df-container {\n",
              "      display:flex;\n",
              "      flex-wrap:wrap;\n",
              "      gap: 12px;\n",
              "    }\n",
              "\n",
              "    .colab-df-convert {\n",
              "      background-color: #E8F0FE;\n",
              "      border: none;\n",
              "      border-radius: 50%;\n",
              "      cursor: pointer;\n",
              "      display: none;\n",
              "      fill: #1967D2;\n",
              "      height: 32px;\n",
              "      padding: 0 0 0 0;\n",
              "      width: 32px;\n",
              "    }\n",
              "\n",
              "    .colab-df-convert:hover {\n",
              "      background-color: #E2EBFA;\n",
              "      box-shadow: 0px 1px 2px rgba(60, 64, 67, 0.3), 0px 1px 3px 1px rgba(60, 64, 67, 0.15);\n",
              "      fill: #174EA6;\n",
              "    }\n",
              "\n",
              "    [theme=dark] .colab-df-convert {\n",
              "      background-color: #3B4455;\n",
              "      fill: #D2E3FC;\n",
              "    }\n",
              "\n",
              "    [theme=dark] .colab-df-convert:hover {\n",
              "      background-color: #434B5C;\n",
              "      box-shadow: 0px 1px 3px 1px rgba(0, 0, 0, 0.15);\n",
              "      filter: drop-shadow(0px 1px 2px rgba(0, 0, 0, 0.3));\n",
              "      fill: #FFFFFF;\n",
              "    }\n",
              "  </style>\n",
              "\n",
              "      <script>\n",
              "        const buttonEl =\n",
              "          document.querySelector('#df-60ccd924-7c69-43b5-b81d-ad3c48e2c731 button.colab-df-convert');\n",
              "        buttonEl.style.display =\n",
              "          google.colab.kernel.accessAllowed ? 'block' : 'none';\n",
              "\n",
              "        async function convertToInteractive(key) {\n",
              "          const element = document.querySelector('#df-60ccd924-7c69-43b5-b81d-ad3c48e2c731');\n",
              "          const dataTable =\n",
              "            await google.colab.kernel.invokeFunction('convertToInteractive',\n",
              "                                                     [key], {});\n",
              "          if (!dataTable) return;\n",
              "\n",
              "          const docLinkHtml = 'Like what you see? Visit the ' +\n",
              "            '<a target=\"_blank\" href=https://colab.research.google.com/notebooks/data_table.ipynb>data table notebook</a>'\n",
              "            + ' to learn more about interactive tables.';\n",
              "          element.innerHTML = '';\n",
              "          dataTable['output_type'] = 'display_data';\n",
              "          await google.colab.output.renderOutput(dataTable, element);\n",
              "          const docLink = document.createElement('div');\n",
              "          docLink.innerHTML = docLinkHtml;\n",
              "          element.appendChild(docLink);\n",
              "        }\n",
              "      </script>\n",
              "    </div>\n",
              "  </div>\n",
              "  "
            ]
          },
          "metadata": {},
          "execution_count": 41
        }
      ]
    },
    {
      "cell_type": "markdown",
      "source": [
        "##### **7.1 - Classification report.** "
      ],
      "metadata": {
        "id": "8txkvxzq-FVI"
      }
    },
    {
      "cell_type": "code",
      "source": [
        "#### CLASSIFICATION REPORT ####\n",
        "actual_tags = val_data_exp['ner_tags'].tolist()\n",
        "predicted_tags = val_data_exp['Predicted_NER_tags'].tolist()\n",
        "class_report_n = classification_report(actual_tags, predicted_tags)\n",
        "print(class_report_n)"
      ],
      "metadata": {
        "colab": {
          "base_uri": "https://localhost:8080/"
        },
        "id": "cJFK0Chuo1zA",
        "outputId": "290e4e45-e190-4beb-ac9e-30fa7d336c91"
      },
      "execution_count": null,
      "outputs": [
        {
          "output_type": "stream",
          "name": "stdout",
          "text": [
            "                           precision    recall  f1-score   support\n",
            "\n",
            "                B-Archive       0.67      0.59      0.62        51\n",
            "        B-CelestialObject       0.59      0.32      0.41       490\n",
            "  B-CelestialObjectRegion       0.00      0.00      0.00        56\n",
            "        B-CelestialRegion       0.00      0.00      0.00        15\n",
            "               B-Citation       0.92      0.87      0.89      1140\n",
            "          B-Collaboration       0.80      0.63      0.70        70\n",
            "      B-ComputingFacility       0.43      0.40      0.41        83\n",
            "               B-Database       0.86      0.64      0.73        66\n",
            "                B-Dataset       0.00      0.00      0.00        62\n",
            " B-EntityOfFutureInterest       0.00      0.00      0.00        13\n",
            "                  B-Event       0.00      0.00      0.00        15\n",
            "             B-Fellowship       0.70      0.34      0.46        77\n",
            "                B-Formula       0.72      0.83      0.77       417\n",
            "                  B-Grant       0.57      0.64      0.60       696\n",
            "             B-Identifier       0.00      0.00      0.00        30\n",
            "             B-Instrument       0.00      0.00      0.00       195\n",
            "               B-Location       0.74      0.44      0.55       324\n",
            "                B-Mission       0.00      0.00      0.00        26\n",
            "                  B-Model       0.55      0.20      0.29       270\n",
            "B-ObservationalTechniques       0.00      0.00      0.00        10\n",
            "            B-Observatory       0.86      0.44      0.58       197\n",
            "           B-Organization       0.75      0.83      0.79      1659\n",
            "                 B-Person       0.90      0.74      0.81       904\n",
            "               B-Proposal       0.00      0.00      0.00        24\n",
            "               B-Software       0.61      0.42      0.50       240\n",
            "                 B-Survey       0.61      0.36      0.45       177\n",
            "                    B-Tag       0.00      0.00      0.00        11\n",
            "              B-Telescope       0.52      0.52      0.52       347\n",
            "            B-TextGarbage       0.00      0.00      0.00        13\n",
            "                    B-URL       0.50      0.29      0.37        72\n",
            "             B-Wavelength       0.70      0.43      0.53       591\n",
            "                I-Archive       0.75      0.85      0.80       117\n",
            "        I-CelestialObject       0.59      0.39      0.47       256\n",
            "  I-CelestialObjectRegion       0.00      0.00      0.00        48\n",
            "        I-CelestialRegion       0.00      0.00      0.00        16\n",
            "               I-Citation       0.97      0.97      0.97      3299\n",
            "          I-Collaboration       0.83      0.61      0.70       146\n",
            "      I-ComputingFacility       0.71      0.53      0.61       169\n",
            "               I-Database       0.61      0.44      0.51        85\n",
            "                I-Dataset       0.00      0.00      0.00        71\n",
            "                  I-Event       0.00      0.00      0.00        58\n",
            "             I-Fellowship       0.82      0.57      0.67       202\n",
            "                I-Formula       0.81      0.87      0.84      1716\n",
            "                  I-Grant       0.73      0.30      0.42       740\n",
            "             I-Identifier       0.00      0.00      0.00         7\n",
            "             I-Instrument       0.00      0.00      0.00        46\n",
            "               I-Location       0.92      0.49      0.64        98\n",
            "                I-Mission       0.00      0.00      0.00         3\n",
            "                  I-Model       0.46      0.14      0.21       207\n",
            "I-ObservationalTechniques       0.00      0.00      0.00         7\n",
            "            I-Observatory       0.93      0.75      0.83       226\n",
            "           I-Organization       0.87      0.89      0.88      3236\n",
            "                 I-Person       0.92      0.79      0.85       545\n",
            "               I-Proposal       0.00      0.00      0.00        19\n",
            "               I-Software       0.67      0.11      0.18       113\n",
            "                 I-Survey       0.63      0.64      0.64       104\n",
            "                    I-Tag       0.00      0.00      0.00         2\n",
            "              I-Telescope       0.61      0.66      0.64       125\n",
            "            I-TextGarbage       0.00      0.00      0.00         9\n",
            "                    I-URL       0.00      0.00      0.00         6\n",
            "             I-Wavelength       0.47      0.54      0.50       323\n",
            "                        O       0.96      0.99      0.98     85234\n",
            "\n",
            "                 accuracy                           0.94    105574\n",
            "                macro avg       0.44      0.35      0.38    105574\n",
            "             weighted avg       0.92      0.94      0.93    105574\n",
            "\n"
          ]
        }
      ]
    },
    {
      "cell_type": "markdown",
      "source": [
        "**Comments on Classification Report -** <br>\n",
        "As there is class imbalance in our dataset, we would look upto **F1-Score** as evaluation metrics which takes into account not only the number of prediction errors that our model makes, but that also look at the type of errors that are made. F1 Score is the weighted average of Precision and Recall. Therefore, this score takes both false positives and false negatives into account. Higher the F1-score, the better it is.\n",
        "\n",
        "From the classification report we can figure out what weigthage is given to each of the tags by our best model. There is dominance of 'O' tag in data due to which its  F1-score is the highest. But, few of the other tags which are higher incounts after 'O' also have high  F1-scores indicating that our model would predict entities well rather than just predicting 'O' tag."
      ],
      "metadata": {
        "id": "YX47_oUIXkA4"
      }
    },
    {
      "cell_type": "markdown",
      "source": [
        "##### **7.2 - Actual tags VS Predicted tags for a validation input.** \n",
        "\n",
        "Taking one sentence from validation data and checking its actual vs predicted tags."
      ],
      "metadata": {
        "id": "TAlIZ0P0-LsS"
      }
    },
    {
      "cell_type": "code",
      "source": [
        "# Choosing one input from val_data_exp \n",
        "eg1_df = val_data_exp[val_data_exp.index==267]"
      ],
      "metadata": {
        "id": "yG6tzFwD-W-7"
      },
      "execution_count": null,
      "outputs": []
    },
    {
      "cell_type": "code",
      "source": [
        "# Printing the sentence\n",
        "Sentence = [' '.join(eg1_df['tokens'])]\n",
        "print(\"Sentence:\\n\")\n",
        "Sentence"
      ],
      "metadata": {
        "colab": {
          "base_uri": "https://localhost:8080/"
        },
        "id": "NZ6vmmUK-guw",
        "outputId": "d796e59b-0e63-48be-f55b-1d14ca55635c"
      },
      "execution_count": null,
      "outputs": [
        {
          "output_type": "stream",
          "name": "stdout",
          "text": [
            "Sentence:\n",
            "\n"
          ]
        },
        {
          "output_type": "execute_result",
          "data": {
            "text/plain": [
              "['We would like to acknowledge the pioneering work of Adam Burrows, Hans-Thomas Janka, and Matthias Liebendörfer, whose contributions to CCSN theory were directly inspirational to the work presented here. This material is based upon work supported by the National Science Foundation under Grant No. 1313036.']"
            ]
          },
          "metadata": {},
          "execution_count": 146
        }
      ]
    },
    {
      "cell_type": "code",
      "source": [
        "# Printing the Actual tags corresponding to sentence tokens\n",
        "eg1_df['Token_Tag'] = eg1_df['tokens'] + \"[\" + eg1_df['ner_tags'] + \"]\"\n",
        "actual_NER = [' '.join(eg1_df['Token_Tag'])]\n",
        "print(\"Actual tags for input sentence :\\n\")\n",
        "actual_NER"
      ],
      "metadata": {
        "colab": {
          "base_uri": "https://localhost:8080/"
        },
        "id": "NPZchx6guYw1",
        "outputId": "b536b668-fdb7-4e77-925b-19f3a7446591"
      },
      "execution_count": null,
      "outputs": [
        {
          "output_type": "stream",
          "name": "stdout",
          "text": [
            "Actual tags for input sentence :\n",
            "\n"
          ]
        },
        {
          "output_type": "execute_result",
          "data": {
            "text/plain": [
              "['We[O] would[O] like[O] to[O] acknowledge[O] the[O] pioneering[O] work[O] of[O] Adam[B-Person] Burrows,[I-Person] Hans-Thomas[B-Person] Janka,[I-Person] and[O] Matthias[B-Person] Liebendörfer,[I-Person] whose[O] contributions[O] to[O] CCSN[B-Model] theory[I-Model] were[O] directly[O] inspirational[O] to[O] the[O] work[O] presented[O] here.[O] This[O] material[O] is[O] based[O] upon[O] work[O] supported[O] by[O] the[O] National[B-Organization] Science[I-Organization] Foundation[I-Organization] under[O] Grant[B-Grant] No.[I-Grant] 1313036.[I-Grant]']"
            ]
          },
          "metadata": {},
          "execution_count": 149
        }
      ]
    },
    {
      "cell_type": "code",
      "source": [
        "# Predicted tags for input sentence tokens\n",
        "eg1_df['Pred_Token_Tag'] = eg1_df['tokens'] + \"[\" + eg1_df['Predicted_NER_tags'] + \"]\"\n",
        "pred_NER = [' '.join(eg1_df['Pred_Token_Tag'])]\n",
        "print(\"Predicted tags for input sentence:\\n\")\n",
        "pred_NER"
      ],
      "metadata": {
        "colab": {
          "base_uri": "https://localhost:8080/"
        },
        "id": "9HZfElCx7Gcb",
        "outputId": "de2d6a82-9592-4734-b0b5-7fafde457d24"
      },
      "execution_count": null,
      "outputs": [
        {
          "output_type": "stream",
          "name": "stdout",
          "text": [
            "Predicted tags for input sentence:\n",
            "\n"
          ]
        },
        {
          "output_type": "execute_result",
          "data": {
            "text/plain": [
              "['We[O] would[O] like[O] to[O] acknowledge[O] the[O] pioneering[O] work[O] of[O] Adam[O] Burrows,[O] Hans-Thomas[B-Person] Janka,[O] and[O] Matthias[O] Liebendörfer,[O] whose[O] contributions[O] to[O] CCSN[O] theory[O] were[O] directly[O] inspirational[O] to[O] the[O] work[O] presented[O] here.[O] This[O] material[O] is[O] based[O] upon[O] work[O] supported[O] by[O] the[O] National[B-Organization] Science[I-Organization] Foundation[I-Organization] under[O] Grant[O] No.[O] 1313036.[B-Grant]']"
            ]
          },
          "metadata": {},
          "execution_count": 148
        }
      ]
    },
    {
      "cell_type": "markdown",
      "source": [
        "As seen from above actual tags VS predicted tags for a validation sentence, we can see that most of the tags have been predicted correctly."
      ],
      "metadata": {
        "id": "H0DUSLhWa9Wo"
      }
    },
    {
      "cell_type": "markdown",
      "source": [
        "#### **8. Making predictions on test data**\n",
        "Using the best model (Bidirectional LSTM model) to predict on test sentences."
      ],
      "metadata": {
        "id": "Ff2YmubEfHWX"
      }
    },
    {
      "cell_type": "code",
      "source": [
        "# Printing the test data head\n",
        "test_data.head()"
      ],
      "metadata": {
        "colab": {
          "base_uri": "https://localhost:8080/",
          "height": 206
        },
        "id": "Ab16ldKv_gCj",
        "outputId": "07e5aae6-99b4-4cbb-ab9c-d936fab3f9e1"
      },
      "execution_count": null,
      "outputs": [
        {
          "output_type": "execute_result",
          "data": {
            "text/plain": [
              "                                              tokens  \\\n",
              "0  [that, gas, outside, halos,, not, necessarily,...   \n",
              "1  [that, all, star, formation, within, Upper, Sc...   \n",
              "2  [the, PCs, would, contain, the, changes., Mate...   \n",
              "3  [arcmin, away,, in, a, low, density, environme...   \n",
              "4  [We, are, grateful, to, J., Chen,, J., Delabro...   \n",
              "\n",
              "                                      Tokenized_Data  \n",
              "0  [15, 98, 1289, 1, 39, 2663, 353, 266, 166, 172...  \n",
              "1  [15, 74, 126, 199, 119, 3498, 1, 41, 1, 2209, ...  \n",
              "2  [2, 1, 96, 2023, 2, 1, 1, 15, 17, 1, 13, 2, 25...  \n",
              "3  [3538, 1, 5, 8, 228, 78, 2182, 1, 14, 16, 1016...  \n",
              "4  [21, 17, 329, 6, 1846, 1, 1846, 1, 1, 1, 1846,...  "
            ],
            "text/html": [
              "\n",
              "  <div id=\"df-2fae59a0-ff27-4ad0-9088-890af4f6aef1\">\n",
              "    <div class=\"colab-df-container\">\n",
              "      <div>\n",
              "<style scoped>\n",
              "    .dataframe tbody tr th:only-of-type {\n",
              "        vertical-align: middle;\n",
              "    }\n",
              "\n",
              "    .dataframe tbody tr th {\n",
              "        vertical-align: top;\n",
              "    }\n",
              "\n",
              "    .dataframe thead th {\n",
              "        text-align: right;\n",
              "    }\n",
              "</style>\n",
              "<table border=\"1\" class=\"dataframe\">\n",
              "  <thead>\n",
              "    <tr style=\"text-align: right;\">\n",
              "      <th></th>\n",
              "      <th>tokens</th>\n",
              "      <th>Tokenized_Data</th>\n",
              "    </tr>\n",
              "  </thead>\n",
              "  <tbody>\n",
              "    <tr>\n",
              "      <th>0</th>\n",
              "      <td>[that, gas, outside, halos,, not, necessarily,...</td>\n",
              "      <td>[15, 98, 1289, 1, 39, 2663, 353, 266, 166, 172...</td>\n",
              "    </tr>\n",
              "    <tr>\n",
              "      <th>1</th>\n",
              "      <td>[that, all, star, formation, within, Upper, Sc...</td>\n",
              "      <td>[15, 74, 126, 199, 119, 3498, 1, 41, 1, 2209, ...</td>\n",
              "    </tr>\n",
              "    <tr>\n",
              "      <th>2</th>\n",
              "      <td>[the, PCs, would, contain, the, changes., Mate...</td>\n",
              "      <td>[2, 1, 96, 2023, 2, 1, 1, 15, 17, 1, 13, 2, 25...</td>\n",
              "    </tr>\n",
              "    <tr>\n",
              "      <th>3</th>\n",
              "      <td>[arcmin, away,, in, a, low, density, environme...</td>\n",
              "      <td>[3538, 1, 5, 8, 228, 78, 2182, 1, 14, 16, 1016...</td>\n",
              "    </tr>\n",
              "    <tr>\n",
              "      <th>4</th>\n",
              "      <td>[We, are, grateful, to, J., Chen,, J., Delabro...</td>\n",
              "      <td>[21, 17, 329, 6, 1846, 1, 1846, 1, 1, 1, 1846,...</td>\n",
              "    </tr>\n",
              "  </tbody>\n",
              "</table>\n",
              "</div>\n",
              "      <button class=\"colab-df-convert\" onclick=\"convertToInteractive('df-2fae59a0-ff27-4ad0-9088-890af4f6aef1')\"\n",
              "              title=\"Convert this dataframe to an interactive table.\"\n",
              "              style=\"display:none;\">\n",
              "        \n",
              "  <svg xmlns=\"http://www.w3.org/2000/svg\" height=\"24px\"viewBox=\"0 0 24 24\"\n",
              "       width=\"24px\">\n",
              "    <path d=\"M0 0h24v24H0V0z\" fill=\"none\"/>\n",
              "    <path d=\"M18.56 5.44l.94 2.06.94-2.06 2.06-.94-2.06-.94-.94-2.06-.94 2.06-2.06.94zm-11 1L8.5 8.5l.94-2.06 2.06-.94-2.06-.94L8.5 2.5l-.94 2.06-2.06.94zm10 10l.94 2.06.94-2.06 2.06-.94-2.06-.94-.94-2.06-.94 2.06-2.06.94z\"/><path d=\"M17.41 7.96l-1.37-1.37c-.4-.4-.92-.59-1.43-.59-.52 0-1.04.2-1.43.59L10.3 9.45l-7.72 7.72c-.78.78-.78 2.05 0 2.83L4 21.41c.39.39.9.59 1.41.59.51 0 1.02-.2 1.41-.59l7.78-7.78 2.81-2.81c.8-.78.8-2.07 0-2.86zM5.41 20L4 18.59l7.72-7.72 1.47 1.35L5.41 20z\"/>\n",
              "  </svg>\n",
              "      </button>\n",
              "      \n",
              "  <style>\n",
              "    .colab-df-container {\n",
              "      display:flex;\n",
              "      flex-wrap:wrap;\n",
              "      gap: 12px;\n",
              "    }\n",
              "\n",
              "    .colab-df-convert {\n",
              "      background-color: #E8F0FE;\n",
              "      border: none;\n",
              "      border-radius: 50%;\n",
              "      cursor: pointer;\n",
              "      display: none;\n",
              "      fill: #1967D2;\n",
              "      height: 32px;\n",
              "      padding: 0 0 0 0;\n",
              "      width: 32px;\n",
              "    }\n",
              "\n",
              "    .colab-df-convert:hover {\n",
              "      background-color: #E2EBFA;\n",
              "      box-shadow: 0px 1px 2px rgba(60, 64, 67, 0.3), 0px 1px 3px 1px rgba(60, 64, 67, 0.15);\n",
              "      fill: #174EA6;\n",
              "    }\n",
              "\n",
              "    [theme=dark] .colab-df-convert {\n",
              "      background-color: #3B4455;\n",
              "      fill: #D2E3FC;\n",
              "    }\n",
              "\n",
              "    [theme=dark] .colab-df-convert:hover {\n",
              "      background-color: #434B5C;\n",
              "      box-shadow: 0px 1px 3px 1px rgba(0, 0, 0, 0.15);\n",
              "      filter: drop-shadow(0px 1px 2px rgba(0, 0, 0, 0.3));\n",
              "      fill: #FFFFFF;\n",
              "    }\n",
              "  </style>\n",
              "\n",
              "      <script>\n",
              "        const buttonEl =\n",
              "          document.querySelector('#df-2fae59a0-ff27-4ad0-9088-890af4f6aef1 button.colab-df-convert');\n",
              "        buttonEl.style.display =\n",
              "          google.colab.kernel.accessAllowed ? 'block' : 'none';\n",
              "\n",
              "        async function convertToInteractive(key) {\n",
              "          const element = document.querySelector('#df-2fae59a0-ff27-4ad0-9088-890af4f6aef1');\n",
              "          const dataTable =\n",
              "            await google.colab.kernel.invokeFunction('convertToInteractive',\n",
              "                                                     [key], {});\n",
              "          if (!dataTable) return;\n",
              "\n",
              "          const docLinkHtml = 'Like what you see? Visit the ' +\n",
              "            '<a target=\"_blank\" href=https://colab.research.google.com/notebooks/data_table.ipynb>data table notebook</a>'\n",
              "            + ' to learn more about interactive tables.';\n",
              "          element.innerHTML = '';\n",
              "          dataTable['output_type'] = 'display_data';\n",
              "          await google.colab.output.renderOutput(dataTable, element);\n",
              "          const docLink = document.createElement('div');\n",
              "          docLink.innerHTML = docLinkHtml;\n",
              "          element.appendChild(docLink);\n",
              "        }\n",
              "      </script>\n",
              "    </div>\n",
              "  </div>\n",
              "  "
            ]
          },
          "metadata": {},
          "execution_count": 150
        }
      ]
    },
    {
      "cell_type": "code",
      "source": [
        "### Predicting ner tag ids using bidirectional_model ###\n",
        "\n",
        "# Creating a new column 'predicted_ner_ids' which would contain \n",
        "# predicted ner ids for respective sentence using our best model\n",
        "# 'bidirectional_model'\n",
        "test_data['Predicted_NER_tag_ids'] = None\n",
        "for idx in test_data.index:\n",
        "  prediction = bidirectional_model.predict([test_data['Tokenized_Data'][idx]]).argmax(axis=-1)\n",
        "  test_data['Predicted_NER_tag_ids'][idx] = prediction.tolist()\n",
        "\n",
        "  # Flattening the predictions to a single list\n",
        "  test_data['Predicted_NER_tag_ids'][idx] = sum(test_data['Predicted_NER_tag_ids'][idx], [])\n",
        "\n",
        "# Viewing the first few row of test_data which has a new column of predictions 'Predicted_NER_tag_ids'\n",
        "test_data.head()"
      ],
      "metadata": {
        "colab": {
          "base_uri": "https://localhost:8080/",
          "height": 206
        },
        "id": "8E904xQ__dhe",
        "outputId": "98fa47b5-571b-49a2-d064-db8fc70f25a9"
      },
      "execution_count": null,
      "outputs": [
        {
          "output_type": "execute_result",
          "data": {
            "text/plain": [
              "                                              tokens  \\\n",
              "0  [that, gas, outside, halos,, not, necessarily,...   \n",
              "1  [that, all, star, formation, within, Upper, Sc...   \n",
              "2  [the, PCs, would, contain, the, changes., Mate...   \n",
              "3  [arcmin, away,, in, a, low, density, environme...   \n",
              "4  [We, are, grateful, to, J., Chen,, J., Delabro...   \n",
              "\n",
              "                                      Tokenized_Data  \\\n",
              "0  [15, 98, 1289, 1, 39, 2663, 353, 266, 166, 172...   \n",
              "1  [15, 74, 126, 199, 119, 3498, 1, 41, 1, 2209, ...   \n",
              "2  [2, 1, 96, 2023, 2, 1, 1, 15, 17, 1, 13, 2, 25...   \n",
              "3  [3538, 1, 5, 8, 228, 78, 2182, 1, 14, 16, 1016...   \n",
              "4  [21, 17, 329, 6, 1846, 1, 1846, 1, 1, 1, 1846,...   \n",
              "\n",
              "                               Predicted_NER_tag_ids  \n",
              "0  [62, 62, 62, 62, 62, 62, 62, 62, 62, 62, 62, 6...  \n",
              "1  [62, 62, 62, 62, 62, 1, 62, 62, 62, 62, 62, 4,...  \n",
              "2  [62, 62, 62, 62, 62, 62, 62, 62, 62, 62, 62, 6...  \n",
              "3  [62, 62, 62, 62, 62, 62, 62, 4, 35, 35, 35, 4,...  \n",
              "4  [62, 62, 62, 62, 22, 53, 22, 53, 22, 53, 22, 5...  "
            ],
            "text/html": [
              "\n",
              "  <div id=\"df-e86360b3-660d-4f6d-8405-796697269649\">\n",
              "    <div class=\"colab-df-container\">\n",
              "      <div>\n",
              "<style scoped>\n",
              "    .dataframe tbody tr th:only-of-type {\n",
              "        vertical-align: middle;\n",
              "    }\n",
              "\n",
              "    .dataframe tbody tr th {\n",
              "        vertical-align: top;\n",
              "    }\n",
              "\n",
              "    .dataframe thead th {\n",
              "        text-align: right;\n",
              "    }\n",
              "</style>\n",
              "<table border=\"1\" class=\"dataframe\">\n",
              "  <thead>\n",
              "    <tr style=\"text-align: right;\">\n",
              "      <th></th>\n",
              "      <th>tokens</th>\n",
              "      <th>Tokenized_Data</th>\n",
              "      <th>Predicted_NER_tag_ids</th>\n",
              "    </tr>\n",
              "  </thead>\n",
              "  <tbody>\n",
              "    <tr>\n",
              "      <th>0</th>\n",
              "      <td>[that, gas, outside, halos,, not, necessarily,...</td>\n",
              "      <td>[15, 98, 1289, 1, 39, 2663, 353, 266, 166, 172...</td>\n",
              "      <td>[62, 62, 62, 62, 62, 62, 62, 62, 62, 62, 62, 6...</td>\n",
              "    </tr>\n",
              "    <tr>\n",
              "      <th>1</th>\n",
              "      <td>[that, all, star, formation, within, Upper, Sc...</td>\n",
              "      <td>[15, 74, 126, 199, 119, 3498, 1, 41, 1, 2209, ...</td>\n",
              "      <td>[62, 62, 62, 62, 62, 1, 62, 62, 62, 62, 62, 4,...</td>\n",
              "    </tr>\n",
              "    <tr>\n",
              "      <th>2</th>\n",
              "      <td>[the, PCs, would, contain, the, changes., Mate...</td>\n",
              "      <td>[2, 1, 96, 2023, 2, 1, 1, 15, 17, 1, 13, 2, 25...</td>\n",
              "      <td>[62, 62, 62, 62, 62, 62, 62, 62, 62, 62, 62, 6...</td>\n",
              "    </tr>\n",
              "    <tr>\n",
              "      <th>3</th>\n",
              "      <td>[arcmin, away,, in, a, low, density, environme...</td>\n",
              "      <td>[3538, 1, 5, 8, 228, 78, 2182, 1, 14, 16, 1016...</td>\n",
              "      <td>[62, 62, 62, 62, 62, 62, 62, 4, 35, 35, 35, 4,...</td>\n",
              "    </tr>\n",
              "    <tr>\n",
              "      <th>4</th>\n",
              "      <td>[We, are, grateful, to, J., Chen,, J., Delabro...</td>\n",
              "      <td>[21, 17, 329, 6, 1846, 1, 1846, 1, 1, 1, 1846,...</td>\n",
              "      <td>[62, 62, 62, 62, 22, 53, 22, 53, 22, 53, 22, 5...</td>\n",
              "    </tr>\n",
              "  </tbody>\n",
              "</table>\n",
              "</div>\n",
              "      <button class=\"colab-df-convert\" onclick=\"convertToInteractive('df-e86360b3-660d-4f6d-8405-796697269649')\"\n",
              "              title=\"Convert this dataframe to an interactive table.\"\n",
              "              style=\"display:none;\">\n",
              "        \n",
              "  <svg xmlns=\"http://www.w3.org/2000/svg\" height=\"24px\"viewBox=\"0 0 24 24\"\n",
              "       width=\"24px\">\n",
              "    <path d=\"M0 0h24v24H0V0z\" fill=\"none\"/>\n",
              "    <path d=\"M18.56 5.44l.94 2.06.94-2.06 2.06-.94-2.06-.94-.94-2.06-.94 2.06-2.06.94zm-11 1L8.5 8.5l.94-2.06 2.06-.94-2.06-.94L8.5 2.5l-.94 2.06-2.06.94zm10 10l.94 2.06.94-2.06 2.06-.94-2.06-.94-.94-2.06-.94 2.06-2.06.94z\"/><path d=\"M17.41 7.96l-1.37-1.37c-.4-.4-.92-.59-1.43-.59-.52 0-1.04.2-1.43.59L10.3 9.45l-7.72 7.72c-.78.78-.78 2.05 0 2.83L4 21.41c.39.39.9.59 1.41.59.51 0 1.02-.2 1.41-.59l7.78-7.78 2.81-2.81c.8-.78.8-2.07 0-2.86zM5.41 20L4 18.59l7.72-7.72 1.47 1.35L5.41 20z\"/>\n",
              "  </svg>\n",
              "      </button>\n",
              "      \n",
              "  <style>\n",
              "    .colab-df-container {\n",
              "      display:flex;\n",
              "      flex-wrap:wrap;\n",
              "      gap: 12px;\n",
              "    }\n",
              "\n",
              "    .colab-df-convert {\n",
              "      background-color: #E8F0FE;\n",
              "      border: none;\n",
              "      border-radius: 50%;\n",
              "      cursor: pointer;\n",
              "      display: none;\n",
              "      fill: #1967D2;\n",
              "      height: 32px;\n",
              "      padding: 0 0 0 0;\n",
              "      width: 32px;\n",
              "    }\n",
              "\n",
              "    .colab-df-convert:hover {\n",
              "      background-color: #E2EBFA;\n",
              "      box-shadow: 0px 1px 2px rgba(60, 64, 67, 0.3), 0px 1px 3px 1px rgba(60, 64, 67, 0.15);\n",
              "      fill: #174EA6;\n",
              "    }\n",
              "\n",
              "    [theme=dark] .colab-df-convert {\n",
              "      background-color: #3B4455;\n",
              "      fill: #D2E3FC;\n",
              "    }\n",
              "\n",
              "    [theme=dark] .colab-df-convert:hover {\n",
              "      background-color: #434B5C;\n",
              "      box-shadow: 0px 1px 3px 1px rgba(0, 0, 0, 0.15);\n",
              "      filter: drop-shadow(0px 1px 2px rgba(0, 0, 0, 0.3));\n",
              "      fill: #FFFFFF;\n",
              "    }\n",
              "  </style>\n",
              "\n",
              "      <script>\n",
              "        const buttonEl =\n",
              "          document.querySelector('#df-e86360b3-660d-4f6d-8405-796697269649 button.colab-df-convert');\n",
              "        buttonEl.style.display =\n",
              "          google.colab.kernel.accessAllowed ? 'block' : 'none';\n",
              "\n",
              "        async function convertToInteractive(key) {\n",
              "          const element = document.querySelector('#df-e86360b3-660d-4f6d-8405-796697269649');\n",
              "          const dataTable =\n",
              "            await google.colab.kernel.invokeFunction('convertToInteractive',\n",
              "                                                     [key], {});\n",
              "          if (!dataTable) return;\n",
              "\n",
              "          const docLinkHtml = 'Like what you see? Visit the ' +\n",
              "            '<a target=\"_blank\" href=https://colab.research.google.com/notebooks/data_table.ipynb>data table notebook</a>'\n",
              "            + ' to learn more about interactive tables.';\n",
              "          element.innerHTML = '';\n",
              "          dataTable['output_type'] = 'display_data';\n",
              "          await google.colab.output.renderOutput(dataTable, element);\n",
              "          const docLink = document.createElement('div');\n",
              "          docLink.innerHTML = docLinkHtml;\n",
              "          element.appendChild(docLink);\n",
              "        }\n",
              "      </script>\n",
              "    </div>\n",
              "  </div>\n",
              "  "
            ]
          },
          "metadata": {},
          "execution_count": 151
        }
      ]
    },
    {
      "cell_type": "code",
      "source": [
        "# Creating a new column 'predicted_ner_tags' which would contain \n",
        "# ner tags corresponding to predicted ner ids\n",
        "test_data['Predicted_NER_tags'] = None\n",
        "for idx in test_data.index:\n",
        "  tag_ids = test_data['Predicted_NER_tag_ids'][idx]\n",
        "  tags = []\n",
        "  for t in tag_ids:\n",
        "    tags.append(ner_id_tags_dict[t])\n",
        "  test_data['Predicted_NER_tags'][idx] = tags\n",
        "\n",
        "# Viewing the first few row of test_data which has a new column of 'Predicted_NER_tags'\n",
        "# containing tags corresponding to predicted tag_ids\n",
        "test_data.head(3)"
      ],
      "metadata": {
        "colab": {
          "base_uri": "https://localhost:8080/",
          "height": 239
        },
        "id": "gucbbQM2_53P",
        "outputId": "53f90d9e-41b1-4d56-bb71-147b7283e6a3"
      },
      "execution_count": null,
      "outputs": [
        {
          "output_type": "execute_result",
          "data": {
            "text/plain": [
              "                                              tokens  \\\n",
              "0  [that, gas, outside, halos,, not, necessarily,...   \n",
              "1  [that, all, star, formation, within, Upper, Sc...   \n",
              "2  [the, PCs, would, contain, the, changes., Mate...   \n",
              "\n",
              "                                      Tokenized_Data  \\\n",
              "0  [15, 98, 1289, 1, 39, 2663, 353, 266, 166, 172...   \n",
              "1  [15, 74, 126, 199, 119, 3498, 1, 41, 1, 2209, ...   \n",
              "2  [2, 1, 96, 2023, 2, 1, 1, 15, 17, 1, 13, 2, 25...   \n",
              "\n",
              "                               Predicted_NER_tag_ids  \\\n",
              "0  [62, 62, 62, 62, 62, 62, 62, 62, 62, 62, 62, 6...   \n",
              "1  [62, 62, 62, 62, 62, 1, 62, 62, 62, 62, 62, 4,...   \n",
              "2  [62, 62, 62, 62, 62, 62, 62, 62, 62, 62, 62, 6...   \n",
              "\n",
              "                                  Predicted_NER_tags  \n",
              "0  [O, O, O, O, O, O, O, O, O, O, O, O, O, O, O, ...  \n",
              "1  [O, O, O, O, O, B-CelestialObject, O, O, O, O,...  \n",
              "2  [O, O, O, O, O, O, O, O, O, O, O, O, O, O, O, ...  "
            ],
            "text/html": [
              "\n",
              "  <div id=\"df-e161d314-a1d3-441c-8a96-a460b7ef85d1\">\n",
              "    <div class=\"colab-df-container\">\n",
              "      <div>\n",
              "<style scoped>\n",
              "    .dataframe tbody tr th:only-of-type {\n",
              "        vertical-align: middle;\n",
              "    }\n",
              "\n",
              "    .dataframe tbody tr th {\n",
              "        vertical-align: top;\n",
              "    }\n",
              "\n",
              "    .dataframe thead th {\n",
              "        text-align: right;\n",
              "    }\n",
              "</style>\n",
              "<table border=\"1\" class=\"dataframe\">\n",
              "  <thead>\n",
              "    <tr style=\"text-align: right;\">\n",
              "      <th></th>\n",
              "      <th>tokens</th>\n",
              "      <th>Tokenized_Data</th>\n",
              "      <th>Predicted_NER_tag_ids</th>\n",
              "      <th>Predicted_NER_tags</th>\n",
              "    </tr>\n",
              "  </thead>\n",
              "  <tbody>\n",
              "    <tr>\n",
              "      <th>0</th>\n",
              "      <td>[that, gas, outside, halos,, not, necessarily,...</td>\n",
              "      <td>[15, 98, 1289, 1, 39, 2663, 353, 266, 166, 172...</td>\n",
              "      <td>[62, 62, 62, 62, 62, 62, 62, 62, 62, 62, 62, 6...</td>\n",
              "      <td>[O, O, O, O, O, O, O, O, O, O, O, O, O, O, O, ...</td>\n",
              "    </tr>\n",
              "    <tr>\n",
              "      <th>1</th>\n",
              "      <td>[that, all, star, formation, within, Upper, Sc...</td>\n",
              "      <td>[15, 74, 126, 199, 119, 3498, 1, 41, 1, 2209, ...</td>\n",
              "      <td>[62, 62, 62, 62, 62, 1, 62, 62, 62, 62, 62, 4,...</td>\n",
              "      <td>[O, O, O, O, O, B-CelestialObject, O, O, O, O,...</td>\n",
              "    </tr>\n",
              "    <tr>\n",
              "      <th>2</th>\n",
              "      <td>[the, PCs, would, contain, the, changes., Mate...</td>\n",
              "      <td>[2, 1, 96, 2023, 2, 1, 1, 15, 17, 1, 13, 2, 25...</td>\n",
              "      <td>[62, 62, 62, 62, 62, 62, 62, 62, 62, 62, 62, 6...</td>\n",
              "      <td>[O, O, O, O, O, O, O, O, O, O, O, O, O, O, O, ...</td>\n",
              "    </tr>\n",
              "  </tbody>\n",
              "</table>\n",
              "</div>\n",
              "      <button class=\"colab-df-convert\" onclick=\"convertToInteractive('df-e161d314-a1d3-441c-8a96-a460b7ef85d1')\"\n",
              "              title=\"Convert this dataframe to an interactive table.\"\n",
              "              style=\"display:none;\">\n",
              "        \n",
              "  <svg xmlns=\"http://www.w3.org/2000/svg\" height=\"24px\"viewBox=\"0 0 24 24\"\n",
              "       width=\"24px\">\n",
              "    <path d=\"M0 0h24v24H0V0z\" fill=\"none\"/>\n",
              "    <path d=\"M18.56 5.44l.94 2.06.94-2.06 2.06-.94-2.06-.94-.94-2.06-.94 2.06-2.06.94zm-11 1L8.5 8.5l.94-2.06 2.06-.94-2.06-.94L8.5 2.5l-.94 2.06-2.06.94zm10 10l.94 2.06.94-2.06 2.06-.94-2.06-.94-.94-2.06-.94 2.06-2.06.94z\"/><path d=\"M17.41 7.96l-1.37-1.37c-.4-.4-.92-.59-1.43-.59-.52 0-1.04.2-1.43.59L10.3 9.45l-7.72 7.72c-.78.78-.78 2.05 0 2.83L4 21.41c.39.39.9.59 1.41.59.51 0 1.02-.2 1.41-.59l7.78-7.78 2.81-2.81c.8-.78.8-2.07 0-2.86zM5.41 20L4 18.59l7.72-7.72 1.47 1.35L5.41 20z\"/>\n",
              "  </svg>\n",
              "      </button>\n",
              "      \n",
              "  <style>\n",
              "    .colab-df-container {\n",
              "      display:flex;\n",
              "      flex-wrap:wrap;\n",
              "      gap: 12px;\n",
              "    }\n",
              "\n",
              "    .colab-df-convert {\n",
              "      background-color: #E8F0FE;\n",
              "      border: none;\n",
              "      border-radius: 50%;\n",
              "      cursor: pointer;\n",
              "      display: none;\n",
              "      fill: #1967D2;\n",
              "      height: 32px;\n",
              "      padding: 0 0 0 0;\n",
              "      width: 32px;\n",
              "    }\n",
              "\n",
              "    .colab-df-convert:hover {\n",
              "      background-color: #E2EBFA;\n",
              "      box-shadow: 0px 1px 2px rgba(60, 64, 67, 0.3), 0px 1px 3px 1px rgba(60, 64, 67, 0.15);\n",
              "      fill: #174EA6;\n",
              "    }\n",
              "\n",
              "    [theme=dark] .colab-df-convert {\n",
              "      background-color: #3B4455;\n",
              "      fill: #D2E3FC;\n",
              "    }\n",
              "\n",
              "    [theme=dark] .colab-df-convert:hover {\n",
              "      background-color: #434B5C;\n",
              "      box-shadow: 0px 1px 3px 1px rgba(0, 0, 0, 0.15);\n",
              "      filter: drop-shadow(0px 1px 2px rgba(0, 0, 0, 0.3));\n",
              "      fill: #FFFFFF;\n",
              "    }\n",
              "  </style>\n",
              "\n",
              "      <script>\n",
              "        const buttonEl =\n",
              "          document.querySelector('#df-e161d314-a1d3-441c-8a96-a460b7ef85d1 button.colab-df-convert');\n",
              "        buttonEl.style.display =\n",
              "          google.colab.kernel.accessAllowed ? 'block' : 'none';\n",
              "\n",
              "        async function convertToInteractive(key) {\n",
              "          const element = document.querySelector('#df-e161d314-a1d3-441c-8a96-a460b7ef85d1');\n",
              "          const dataTable =\n",
              "            await google.colab.kernel.invokeFunction('convertToInteractive',\n",
              "                                                     [key], {});\n",
              "          if (!dataTable) return;\n",
              "\n",
              "          const docLinkHtml = 'Like what you see? Visit the ' +\n",
              "            '<a target=\"_blank\" href=https://colab.research.google.com/notebooks/data_table.ipynb>data table notebook</a>'\n",
              "            + ' to learn more about interactive tables.';\n",
              "          element.innerHTML = '';\n",
              "          dataTable['output_type'] = 'display_data';\n",
              "          await google.colab.output.renderOutput(dataTable, element);\n",
              "          const docLink = document.createElement('div');\n",
              "          docLink.innerHTML = docLinkHtml;\n",
              "          element.appendChild(docLink);\n",
              "        }\n",
              "      </script>\n",
              "    </div>\n",
              "  </div>\n",
              "  "
            ]
          },
          "metadata": {},
          "execution_count": 152
        }
      ]
    },
    {
      "cell_type": "code",
      "source": [
        "# Dropping the 'Tokenized_Data' as it is no longer needed\n",
        "test_data.drop('Tokenized_Data', axis=1, inplace=True)"
      ],
      "metadata": {
        "id": "Fml_PBa9CLv8"
      },
      "execution_count": null,
      "outputs": []
    },
    {
      "cell_type": "code",
      "source": [
        "##### PREDICTIONS ON TEST DATA ####\n",
        "test_data.head()"
      ],
      "metadata": {
        "colab": {
          "base_uri": "https://localhost:8080/",
          "height": 206
        },
        "id": "enWIuvoPCal8",
        "outputId": "19284487-83d6-4a2d-90f0-4b7b50a2b7fd"
      },
      "execution_count": null,
      "outputs": [
        {
          "output_type": "execute_result",
          "data": {
            "text/plain": [
              "                                              tokens  \\\n",
              "0  [that, gas, outside, halos,, not, necessarily,...   \n",
              "1  [that, all, star, formation, within, Upper, Sc...   \n",
              "2  [the, PCs, would, contain, the, changes., Mate...   \n",
              "3  [arcmin, away,, in, a, low, density, environme...   \n",
              "4  [We, are, grateful, to, J., Chen,, J., Delabro...   \n",
              "\n",
              "                               Predicted_NER_tag_ids  \\\n",
              "0  [62, 62, 62, 62, 62, 62, 62, 62, 62, 62, 62, 6...   \n",
              "1  [62, 62, 62, 62, 62, 1, 62, 62, 62, 62, 62, 4,...   \n",
              "2  [62, 62, 62, 62, 62, 62, 62, 62, 62, 62, 62, 6...   \n",
              "3  [62, 62, 62, 62, 62, 62, 62, 4, 35, 35, 35, 4,...   \n",
              "4  [62, 62, 62, 62, 22, 53, 22, 53, 22, 53, 22, 5...   \n",
              "\n",
              "                                  Predicted_NER_tags  \n",
              "0  [O, O, O, O, O, O, O, O, O, O, O, O, O, O, O, ...  \n",
              "1  [O, O, O, O, O, B-CelestialObject, O, O, O, O,...  \n",
              "2  [O, O, O, O, O, O, O, O, O, O, O, O, O, O, O, ...  \n",
              "3  [O, O, O, O, O, O, O, B-Citation, I-Citation, ...  \n",
              "4  [O, O, O, O, B-Person, I-Person, B-Person, I-P...  "
            ],
            "text/html": [
              "\n",
              "  <div id=\"df-bb58dffd-c112-42fb-ba9d-ff47c95b8f3a\">\n",
              "    <div class=\"colab-df-container\">\n",
              "      <div>\n",
              "<style scoped>\n",
              "    .dataframe tbody tr th:only-of-type {\n",
              "        vertical-align: middle;\n",
              "    }\n",
              "\n",
              "    .dataframe tbody tr th {\n",
              "        vertical-align: top;\n",
              "    }\n",
              "\n",
              "    .dataframe thead th {\n",
              "        text-align: right;\n",
              "    }\n",
              "</style>\n",
              "<table border=\"1\" class=\"dataframe\">\n",
              "  <thead>\n",
              "    <tr style=\"text-align: right;\">\n",
              "      <th></th>\n",
              "      <th>tokens</th>\n",
              "      <th>Predicted_NER_tag_ids</th>\n",
              "      <th>Predicted_NER_tags</th>\n",
              "    </tr>\n",
              "  </thead>\n",
              "  <tbody>\n",
              "    <tr>\n",
              "      <th>0</th>\n",
              "      <td>[that, gas, outside, halos,, not, necessarily,...</td>\n",
              "      <td>[62, 62, 62, 62, 62, 62, 62, 62, 62, 62, 62, 6...</td>\n",
              "      <td>[O, O, O, O, O, O, O, O, O, O, O, O, O, O, O, ...</td>\n",
              "    </tr>\n",
              "    <tr>\n",
              "      <th>1</th>\n",
              "      <td>[that, all, star, formation, within, Upper, Sc...</td>\n",
              "      <td>[62, 62, 62, 62, 62, 1, 62, 62, 62, 62, 62, 4,...</td>\n",
              "      <td>[O, O, O, O, O, B-CelestialObject, O, O, O, O,...</td>\n",
              "    </tr>\n",
              "    <tr>\n",
              "      <th>2</th>\n",
              "      <td>[the, PCs, would, contain, the, changes., Mate...</td>\n",
              "      <td>[62, 62, 62, 62, 62, 62, 62, 62, 62, 62, 62, 6...</td>\n",
              "      <td>[O, O, O, O, O, O, O, O, O, O, O, O, O, O, O, ...</td>\n",
              "    </tr>\n",
              "    <tr>\n",
              "      <th>3</th>\n",
              "      <td>[arcmin, away,, in, a, low, density, environme...</td>\n",
              "      <td>[62, 62, 62, 62, 62, 62, 62, 4, 35, 35, 35, 4,...</td>\n",
              "      <td>[O, O, O, O, O, O, O, B-Citation, I-Citation, ...</td>\n",
              "    </tr>\n",
              "    <tr>\n",
              "      <th>4</th>\n",
              "      <td>[We, are, grateful, to, J., Chen,, J., Delabro...</td>\n",
              "      <td>[62, 62, 62, 62, 22, 53, 22, 53, 22, 53, 22, 5...</td>\n",
              "      <td>[O, O, O, O, B-Person, I-Person, B-Person, I-P...</td>\n",
              "    </tr>\n",
              "  </tbody>\n",
              "</table>\n",
              "</div>\n",
              "      <button class=\"colab-df-convert\" onclick=\"convertToInteractive('df-bb58dffd-c112-42fb-ba9d-ff47c95b8f3a')\"\n",
              "              title=\"Convert this dataframe to an interactive table.\"\n",
              "              style=\"display:none;\">\n",
              "        \n",
              "  <svg xmlns=\"http://www.w3.org/2000/svg\" height=\"24px\"viewBox=\"0 0 24 24\"\n",
              "       width=\"24px\">\n",
              "    <path d=\"M0 0h24v24H0V0z\" fill=\"none\"/>\n",
              "    <path d=\"M18.56 5.44l.94 2.06.94-2.06 2.06-.94-2.06-.94-.94-2.06-.94 2.06-2.06.94zm-11 1L8.5 8.5l.94-2.06 2.06-.94-2.06-.94L8.5 2.5l-.94 2.06-2.06.94zm10 10l.94 2.06.94-2.06 2.06-.94-2.06-.94-.94-2.06-.94 2.06-2.06.94z\"/><path d=\"M17.41 7.96l-1.37-1.37c-.4-.4-.92-.59-1.43-.59-.52 0-1.04.2-1.43.59L10.3 9.45l-7.72 7.72c-.78.78-.78 2.05 0 2.83L4 21.41c.39.39.9.59 1.41.59.51 0 1.02-.2 1.41-.59l7.78-7.78 2.81-2.81c.8-.78.8-2.07 0-2.86zM5.41 20L4 18.59l7.72-7.72 1.47 1.35L5.41 20z\"/>\n",
              "  </svg>\n",
              "      </button>\n",
              "      \n",
              "  <style>\n",
              "    .colab-df-container {\n",
              "      display:flex;\n",
              "      flex-wrap:wrap;\n",
              "      gap: 12px;\n",
              "    }\n",
              "\n",
              "    .colab-df-convert {\n",
              "      background-color: #E8F0FE;\n",
              "      border: none;\n",
              "      border-radius: 50%;\n",
              "      cursor: pointer;\n",
              "      display: none;\n",
              "      fill: #1967D2;\n",
              "      height: 32px;\n",
              "      padding: 0 0 0 0;\n",
              "      width: 32px;\n",
              "    }\n",
              "\n",
              "    .colab-df-convert:hover {\n",
              "      background-color: #E2EBFA;\n",
              "      box-shadow: 0px 1px 2px rgba(60, 64, 67, 0.3), 0px 1px 3px 1px rgba(60, 64, 67, 0.15);\n",
              "      fill: #174EA6;\n",
              "    }\n",
              "\n",
              "    [theme=dark] .colab-df-convert {\n",
              "      background-color: #3B4455;\n",
              "      fill: #D2E3FC;\n",
              "    }\n",
              "\n",
              "    [theme=dark] .colab-df-convert:hover {\n",
              "      background-color: #434B5C;\n",
              "      box-shadow: 0px 1px 3px 1px rgba(0, 0, 0, 0.15);\n",
              "      filter: drop-shadow(0px 1px 2px rgba(0, 0, 0, 0.3));\n",
              "      fill: #FFFFFF;\n",
              "    }\n",
              "  </style>\n",
              "\n",
              "      <script>\n",
              "        const buttonEl =\n",
              "          document.querySelector('#df-bb58dffd-c112-42fb-ba9d-ff47c95b8f3a button.colab-df-convert');\n",
              "        buttonEl.style.display =\n",
              "          google.colab.kernel.accessAllowed ? 'block' : 'none';\n",
              "\n",
              "        async function convertToInteractive(key) {\n",
              "          const element = document.querySelector('#df-bb58dffd-c112-42fb-ba9d-ff47c95b8f3a');\n",
              "          const dataTable =\n",
              "            await google.colab.kernel.invokeFunction('convertToInteractive',\n",
              "                                                     [key], {});\n",
              "          if (!dataTable) return;\n",
              "\n",
              "          const docLinkHtml = 'Like what you see? Visit the ' +\n",
              "            '<a target=\"_blank\" href=https://colab.research.google.com/notebooks/data_table.ipynb>data table notebook</a>'\n",
              "            + ' to learn more about interactive tables.';\n",
              "          element.innerHTML = '';\n",
              "          dataTable['output_type'] = 'display_data';\n",
              "          await google.colab.output.renderOutput(dataTable, element);\n",
              "          const docLink = document.createElement('div');\n",
              "          docLink.innerHTML = docLinkHtml;\n",
              "          element.appendChild(docLink);\n",
              "        }\n",
              "      </script>\n",
              "    </div>\n",
              "  </div>\n",
              "  "
            ]
          },
          "metadata": {},
          "execution_count": 154
        }
      ]
    },
    {
      "cell_type": "markdown",
      "source": [
        "As seen from the last row of the above output, names of the persons have been correctly tagged."
      ],
      "metadata": {
        "id": "PH5KmY3seXEZ"
      }
    },
    {
      "cell_type": "markdown",
      "source": [
        "#### **9. Conclusion**"
      ],
      "metadata": {
        "id": "d5XbMJt9BukK"
      }
    },
    {
      "cell_type": "markdown",
      "source": [
        "![image.png](data:image/png;base64,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)"
      ],
      "metadata": {
        "id": "QSzQ-m2HexYQ"
      }
    },
    {
      "cell_type": "markdown",
      "source": [
        "**Best model - Bidirectional LSTM model having train accuracy of 95.4% and validation accuracy of 93.6%.**\n",
        "\n",
        "**Inference: Classification Report of Best model -**<br>\n",
        "As there is **class imbalance** in our dataset, we would look upto **F1-Score as evaluation metrics** which takes into account not only the number of prediction errors that our model makes, but that also look at the type of errors that are made. F1 Score is the weighted average of Precision and Recall. Therefore, this score takes both false positives and false negatives into account. Higher the F1-score, the better it is.\n",
        "\n",
        "From the classification report we can figure out what weigthage is given to each of the tags by our best model. There is dominance of 'O' tag in data due to which its F1-score is the highest. But, few of the other tags which are higher in counts after 'O' also have high F1-scores indicating that our model would predict entities well rather than just predicting 'O' tag.\n",
        "\n",
        "**Future Scope -**<br>\n",
        "We would like to work on improving the F1_scores of rest of the tags by getting more data (tokens) of the tags which are less in the current dataset. Also use Transformers to improve our model further.\n",
        "\n",
        "\n",
        "\n",
        "We tried working using BERT but we were getting some errors in it so we weren't able to complete it. The link of the BERT notebook is - \n",
        "\n",
        "https://drive.google.com/file/d/1G4o5B84IgeCmguO2YLYGpEh5KWGWUnqS/view?usp=sharing "
      ],
      "metadata": {
        "id": "4ZtZJJ7xB4Q8"
      }
    }
  ]
}